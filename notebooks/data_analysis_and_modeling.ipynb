{
 "cells": [
  {
   "cell_type": "markdown",
   "id": "3b33e0e8",
   "metadata": {},
   "source": [
    "# ESKAR Housing Finder - ML Data Analysis\n",
    "## Code Institute PP5 - Comprehensive Data Science Notebook\n",
    "\n",
    "**Project:** ESKAR Housing Finder - AI-powered housing recommendation system for ESK personnel\n",
    "\n",
    "**Author:** Student Name  \n",
    "**Date:** August 2025  \n",
    "**Institution:** Code Institute\n",
    "\n",
    "---\n",
    "\n",
    "### Business Requirements\n",
    "- **BR1:** Data Visualization and Correlation Analysis\n",
    "- **BR2:** ML Pipeline for ESK Suitability Prediction\n",
    "- **BR3:** Interactive Dashboard for End Users\n",
    "\n",
    "### Project Objectives\n",
    "1. Analyze housing market data in Karlsruhe area\n",
    "2. Develop ML models to predict ESK suitability scores\n",
    "3. Create deployment-ready model pipeline\n",
    "4. Validate business hypotheses with data"
   ]
  },
  {
   "cell_type": "markdown",
   "id": "27b253db",
   "metadata": {},
   "source": [
    "## 1. Data Collection and Setup"
   ]
  },
  {
   "cell_type": "code",
   "execution_count": null,
   "id": "32796cf2",
   "metadata": {},
   "outputs": [
    {
     "name": "stdout",
     "output_type": "stream",
     "text": [
      "📊 Libraries imported successfully\n",
      "📈 Pandas version: 2.3.1\n",
      "🤖 XGBoost version: 3.0.4\n"
     ]
    }
   ],
   "source": [
    "# Import Essential Libraries\n",
    "import pandas as pd\n",
    "import numpy as np\n",
    "import matplotlib.pyplot as plt\n",
    "import seaborn as sns\n",
    "import plotly.express as px\n",
    "import plotly.graph_objects as go\n",
    "from plotly.subplots import make_subplots\n",
    "\n",
    "# ML Libraries\n",
    "from sklearn.model_selection import train_test_split\n",
    "from sklearn.preprocessing import StandardScaler, LabelEncoder\n",
    "from sklearn.ensemble import RandomForestRegressor\n",
    "from sklearn.metrics import mean_absolute_error, mean_squared_error, r2_score\n",
    "import xgboost as xgb\n",
    "import lightgbm as lgb\n",
    "\n",
    "# Configuration\n",
    "plt.style.use('default')\n",
    "sns.set_palette(\"husl\")\n",
    "pd.set_option('display.max_columns', None)\n",
    "pd.set_option('display.width', 1000)\n",
    "\n",
    "print(\"[SUCCESS] Libraries imported successfully\")\n",
    "print(f\"[VERSION] Pandas version: {pd.__version__}\")\n",
    "print(f\"[VERSION] XGBoost version: {xgb.__version__}\")"
   ]
  },
  {
   "cell_type": "markdown",
   "id": "63619d9c",
   "metadata": {},
   "source": [
    "## 2. Data Loading and Initial Exploration"
   ]
  },
  {
   "cell_type": "code",
   "execution_count": null,
   "id": "52d795fb",
   "metadata": {},
   "outputs": [
    {
     "name": "stdout",
     "output_type": "stream",
     "text": [
      "🏫 Generating 1000 ESK-optimized properties...\n",
      "✅ 1000 ESK-optimized properties generated!\n",
      "📊 Average ESK Score: 8.0/10\n",
      "🏠 412 houses, 588 apartments\n",
      "🎯 400 properties within 2km of ESK\n",
      "\n",
      "📈 Neighborhood Distribution:\n",
      "   Südstadt: 254 properties (⌀ €453,528)\n",
      "   Weststadt: 380 properties (⌀ €494,451)\n",
      "   Innenstadt-West: 141 properties (⌀ €576,204)\n",
      "   Durlach: 114 properties (⌀ €409,852)\n",
      "   Oststadt: 66 properties (⌀ €440,357)\n",
      "   Mühlburg: 45 properties (⌀ €344,328)\n",
      "📋 Dataset Shape: (1000, 20)\n",
      "📊 Features: ['id', 'neighborhood', 'property_type', 'bedrooms', 'sqft', 'garden', 'price', 'price_per_sqm', 'distance_to_esk', 'distance_to_center', 'avg_employer_distance', 'esk_suitability_score', 'safety_score', 'international_community_score', 'family_amenities_score', 'public_transport_score', 'current_esk_families', 'commute_time_esk', 'lat', 'lon']\n",
      "\n",
      "📝 Dataset Info:\n",
      "<class 'pandas.core.frame.DataFrame'>\n",
      "RangeIndex: 1000 entries, 0 to 999\n",
      "Data columns (total 20 columns):\n",
      " #   Column                         Non-Null Count  Dtype  \n",
      "---  ------                         --------------  -----  \n",
      " 0   id                             1000 non-null   object \n",
      " 1   neighborhood                   1000 non-null   object \n",
      " 2   property_type                  1000 non-null   object \n",
      " 3   bedrooms                       1000 non-null   int64  \n",
      " 4   sqft                           1000 non-null   int64  \n",
      " 5   garden                         1000 non-null   int64  \n",
      " 6   price                          1000 non-null   int64  \n",
      " 7   price_per_sqm                  1000 non-null   int64  \n",
      " 8   distance_to_esk                1000 non-null   float64\n",
      " 9   distance_to_center             1000 non-null   float64\n",
      " 10  avg_employer_distance          1000 non-null   float64\n",
      " 11  esk_suitability_score          1000 non-null   float64\n",
      " 12  safety_score                   1000 non-null   float64\n",
      " 13  international_community_score  1000 non-null   float64\n",
      " 14  family_amenities_score         1000 non-null   float64\n",
      " 15  public_transport_score         1000 non-null   float64\n",
      " 16  current_esk_families           1000 non-null   int64  \n",
      " 17  commute_time_esk               1000 non-null   int64  \n",
      " 18  lat                            1000 non-null   float64\n",
      " 19  lon                            1000 non-null   float64\n",
      "dtypes: float64(10), int64(7), object(3)\n",
      "memory usage: 156.4+ KB\n",
      "\n",
      "📈 First 5 rows:\n"
     ]
    },
    {
     "data": {
      "text/html": [
       "<div>\n",
       "<style scoped>\n",
       "    .dataframe tbody tr th:only-of-type {\n",
       "        vertical-align: middle;\n",
       "    }\n",
       "\n",
       "    .dataframe tbody tr th {\n",
       "        vertical-align: top;\n",
       "    }\n",
       "\n",
       "    .dataframe thead th {\n",
       "        text-align: right;\n",
       "    }\n",
       "</style>\n",
       "<table border=\"1\" class=\"dataframe\">\n",
       "  <thead>\n",
       "    <tr style=\"text-align: right;\">\n",
       "      <th></th>\n",
       "      <th>id</th>\n",
       "      <th>neighborhood</th>\n",
       "      <th>property_type</th>\n",
       "      <th>bedrooms</th>\n",
       "      <th>sqft</th>\n",
       "      <th>garden</th>\n",
       "      <th>price</th>\n",
       "      <th>price_per_sqm</th>\n",
       "      <th>distance_to_esk</th>\n",
       "      <th>distance_to_center</th>\n",
       "      <th>avg_employer_distance</th>\n",
       "      <th>esk_suitability_score</th>\n",
       "      <th>safety_score</th>\n",
       "      <th>international_community_score</th>\n",
       "      <th>family_amenities_score</th>\n",
       "      <th>public_transport_score</th>\n",
       "      <th>current_esk_families</th>\n",
       "      <th>commute_time_esk</th>\n",
       "      <th>lat</th>\n",
       "      <th>lon</th>\n",
       "    </tr>\n",
       "  </thead>\n",
       "  <tbody>\n",
       "    <tr>\n",
       "      <th>0</th>\n",
       "      <td>ESKAR_001</td>\n",
       "      <td>Südstadt</td>\n",
       "      <td>apartment</td>\n",
       "      <td>4</td>\n",
       "      <td>62</td>\n",
       "      <td>0</td>\n",
       "      <td>291327</td>\n",
       "      <td>4683</td>\n",
       "      <td>1.5</td>\n",
       "      <td>1.1</td>\n",
       "      <td>10.4</td>\n",
       "      <td>8.3</td>\n",
       "      <td>8.8</td>\n",
       "      <td>8.2</td>\n",
       "      <td>8.5</td>\n",
       "      <td>9.0</td>\n",
       "      <td>38</td>\n",
       "      <td>15</td>\n",
       "      <td>49.003189</td>\n",
       "      <td>8.417388</td>\n",
       "    </tr>\n",
       "    <tr>\n",
       "      <th>1</th>\n",
       "      <td>ESKAR_002</td>\n",
       "      <td>Weststadt</td>\n",
       "      <td>apartment</td>\n",
       "      <td>4</td>\n",
       "      <td>75</td>\n",
       "      <td>0</td>\n",
       "      <td>237331</td>\n",
       "      <td>3144</td>\n",
       "      <td>2.4</td>\n",
       "      <td>2.0</td>\n",
       "      <td>11.0</td>\n",
       "      <td>8.4</td>\n",
       "      <td>9.2</td>\n",
       "      <td>8.5</td>\n",
       "      <td>9.0</td>\n",
       "      <td>8.8</td>\n",
       "      <td>45</td>\n",
       "      <td>12</td>\n",
       "      <td>49.001648</td>\n",
       "      <td>8.377329</td>\n",
       "    </tr>\n",
       "    <tr>\n",
       "      <th>2</th>\n",
       "      <td>ESKAR_003</td>\n",
       "      <td>Südstadt</td>\n",
       "      <td>house</td>\n",
       "      <td>4</td>\n",
       "      <td>123</td>\n",
       "      <td>1</td>\n",
       "      <td>498610</td>\n",
       "      <td>4058</td>\n",
       "      <td>2.5</td>\n",
       "      <td>1.8</td>\n",
       "      <td>11.3</td>\n",
       "      <td>8.3</td>\n",
       "      <td>8.8</td>\n",
       "      <td>8.2</td>\n",
       "      <td>8.5</td>\n",
       "      <td>9.0</td>\n",
       "      <td>38</td>\n",
       "      <td>15</td>\n",
       "      <td>48.992576</td>\n",
       "      <td>8.415685</td>\n",
       "    </tr>\n",
       "    <tr>\n",
       "      <th>3</th>\n",
       "      <td>ESKAR_004</td>\n",
       "      <td>Weststadt</td>\n",
       "      <td>apartment</td>\n",
       "      <td>3</td>\n",
       "      <td>93</td>\n",
       "      <td>0</td>\n",
       "      <td>392419</td>\n",
       "      <td>4217</td>\n",
       "      <td>3.2</td>\n",
       "      <td>2.9</td>\n",
       "      <td>11.6</td>\n",
       "      <td>7.8</td>\n",
       "      <td>9.2</td>\n",
       "      <td>8.5</td>\n",
       "      <td>9.0</td>\n",
       "      <td>8.8</td>\n",
       "      <td>45</td>\n",
       "      <td>12</td>\n",
       "      <td>49.001746</td>\n",
       "      <td>8.364690</td>\n",
       "    </tr>\n",
       "    <tr>\n",
       "      <th>4</th>\n",
       "      <td>ESKAR_005</td>\n",
       "      <td>Innenstadt-West</td>\n",
       "      <td>apartment</td>\n",
       "      <td>2</td>\n",
       "      <td>77</td>\n",
       "      <td>1</td>\n",
       "      <td>315607</td>\n",
       "      <td>4117</td>\n",
       "      <td>0.7</td>\n",
       "      <td>0.2</td>\n",
       "      <td>9.9</td>\n",
       "      <td>8.3</td>\n",
       "      <td>8.5</td>\n",
       "      <td>7.5</td>\n",
       "      <td>7.8</td>\n",
       "      <td>9.5</td>\n",
       "      <td>28</td>\n",
       "      <td>8</td>\n",
       "      <td>49.006845</td>\n",
       "      <td>8.406038</td>\n",
       "    </tr>\n",
       "  </tbody>\n",
       "</table>\n",
       "</div>"
      ],
      "text/plain": [
       "          id     neighborhood property_type  bedrooms  sqft  garden   price  price_per_sqm  distance_to_esk  distance_to_center  avg_employer_distance  esk_suitability_score  safety_score  international_community_score  family_amenities_score  public_transport_score  current_esk_families  commute_time_esk        lat       lon\n",
       "0  ESKAR_001         Südstadt     apartment         4    62       0  291327           4683              1.5                 1.1                   10.4                    8.3           8.8                            8.2                     8.5                     9.0                    38                15  49.003189  8.417388\n",
       "1  ESKAR_002        Weststadt     apartment         4    75       0  237331           3144              2.4                 2.0                   11.0                    8.4           9.2                            8.5                     9.0                     8.8                    45                12  49.001648  8.377329\n",
       "2  ESKAR_003         Südstadt         house         4   123       1  498610           4058              2.5                 1.8                   11.3                    8.3           8.8                            8.2                     8.5                     9.0                    38                15  48.992576  8.415685\n",
       "3  ESKAR_004        Weststadt     apartment         3    93       0  392419           4217              3.2                 2.9                   11.6                    7.8           9.2                            8.5                     9.0                     8.8                    45                12  49.001746  8.364690\n",
       "4  ESKAR_005  Innenstadt-West     apartment         2    77       1  315607           4117              0.7                 0.2                    9.9                    8.3           8.5                            7.5                     7.8                     9.5                    28                 8  49.006845  8.406038"
      ]
     },
     "execution_count": 3,
     "metadata": {},
     "output_type": "execute_result"
    }
   ],
   "source": [
    "# Load housing data\n",
    "import sys\n",
    "sys.path.append('../')\n",
    "from data_generator import ESKARDataGenerator\n",
    "\n",
    "# Generate comprehensive dataset\n",
    "generator = ESKARDataGenerator()\n",
    "df = generator.generate_housing_dataset(n_samples=1000)\n",
    "\n",
    "print(f\"[DATA] Dataset Shape: {df.shape}\")\n",
    "print(f\"[FEATURES] Features: {list(df.columns)}\")\n",
    "print(\"\\n[INFO] Dataset Info:\")\n",
    "df.info()\n",
    "\n",
    "print(\"\\n[SAMPLE] First 5 rows:\")\n",
    "df.head()"
   ]
  },
  {
   "cell_type": "markdown",
   "id": "8bcef843",
   "metadata": {},
   "source": [
    "## 3. Data Quality Assessment"
   ]
  },
  {
   "cell_type": "code",
   "execution_count": 4,
   "id": "55658910",
   "metadata": {},
   "outputs": [
    {
     "name": "stdout",
     "output_type": "stream",
     "text": [
      "[ASSESSMENT] Data Quality Assessment\n",
      "\n",
      "[MISSING] Missing Values:\n",
      "Series([], dtype: int64)\n",
      "\n",
      "[TYPES] Data Types:\n",
      "id                                object\n",
      "neighborhood                      object\n",
      "property_type                     object\n",
      "bedrooms                           int64\n",
      "sqft                               int64\n",
      "garden                             int64\n",
      "price                              int64\n",
      "price_per_sqm                      int64\n",
      "distance_to_esk                  float64\n",
      "distance_to_center               float64\n",
      "avg_employer_distance            float64\n",
      "esk_suitability_score            float64\n",
      "safety_score                     float64\n",
      "international_community_score    float64\n",
      "family_amenities_score           float64\n",
      "public_transport_score           float64\n",
      "current_esk_families               int64\n",
      "commute_time_esk                   int64\n",
      "lat                              float64\n",
      "lon                              float64\n",
      "dtype: object\n",
      "\n",
      "[SUMMARY] Statistical Summary:\n"
     ]
    },
    {
     "data": {
      "text/html": [
       "<div>\n",
       "<style scoped>\n",
       "    .dataframe tbody tr th:only-of-type {\n",
       "        vertical-align: middle;\n",
       "    }\n",
       "\n",
       "    .dataframe tbody tr th {\n",
       "        vertical-align: top;\n",
       "    }\n",
       "\n",
       "    .dataframe thead th {\n",
       "        text-align: right;\n",
       "    }\n",
       "</style>\n",
       "<table border=\"1\" class=\"dataframe\">\n",
       "  <thead>\n",
       "    <tr style=\"text-align: right;\">\n",
       "      <th></th>\n",
       "      <th>bedrooms</th>\n",
       "      <th>sqft</th>\n",
       "      <th>garden</th>\n",
       "      <th>price</th>\n",
       "      <th>price_per_sqm</th>\n",
       "      <th>distance_to_esk</th>\n",
       "      <th>distance_to_center</th>\n",
       "      <th>avg_employer_distance</th>\n",
       "      <th>esk_suitability_score</th>\n",
       "      <th>safety_score</th>\n",
       "      <th>international_community_score</th>\n",
       "      <th>family_amenities_score</th>\n",
       "      <th>public_transport_score</th>\n",
       "      <th>current_esk_families</th>\n",
       "      <th>commute_time_esk</th>\n",
       "      <th>lat</th>\n",
       "      <th>lon</th>\n",
       "    </tr>\n",
       "  </thead>\n",
       "  <tbody>\n",
       "    <tr>\n",
       "      <th>count</th>\n",
       "      <td>1000.000000</td>\n",
       "      <td>1000.000000</td>\n",
       "      <td>1000.000000</td>\n",
       "      <td>1.000000e+03</td>\n",
       "      <td>1000.000000</td>\n",
       "      <td>1000.000000</td>\n",
       "      <td>1000.000000</td>\n",
       "      <td>1000.000000</td>\n",
       "      <td>1000.000000</td>\n",
       "      <td>1000.000000</td>\n",
       "      <td>1000.000000</td>\n",
       "      <td>1000.000000</td>\n",
       "      <td>1000.000000</td>\n",
       "      <td>1000.000000</td>\n",
       "      <td>1000.000000</td>\n",
       "      <td>1000.000000</td>\n",
       "      <td>1000.000000</td>\n",
       "    </tr>\n",
       "    <tr>\n",
       "      <th>mean</th>\n",
       "      <td>3.254000</td>\n",
       "      <td>110.038000</td>\n",
       "      <td>0.523000</td>\n",
       "      <td>4.756140e+05</td>\n",
       "      <td>4318.352000</td>\n",
       "      <td>2.651400</td>\n",
       "      <td>2.454500</td>\n",
       "      <td>11.018100</td>\n",
       "      <td>8.017300</td>\n",
       "      <td>8.863500</td>\n",
       "      <td>7.949500</td>\n",
       "      <td>8.624600</td>\n",
       "      <td>8.703500</td>\n",
       "      <td>34.738000</td>\n",
       "      <td>14.436000</td>\n",
       "      <td>49.004581</td>\n",
       "      <td>8.395553</td>\n",
       "    </tr>\n",
       "    <tr>\n",
       "      <th>std</th>\n",
       "      <td>0.887847</td>\n",
       "      <td>39.168773</td>\n",
       "      <td>0.499721</td>\n",
       "      <td>1.919239e+05</td>\n",
       "      <td>788.910818</td>\n",
       "      <td>1.477519</td>\n",
       "      <td>1.495445</td>\n",
       "      <td>1.052602</td>\n",
       "      <td>0.464442</td>\n",
       "      <td>0.345597</td>\n",
       "      <td>0.599382</td>\n",
       "      <td>0.474552</td>\n",
       "      <td>0.591767</td>\n",
       "      <td>10.803429</td>\n",
       "      <td>4.811762</td>\n",
       "      <td>0.010694</td>\n",
       "      <td>0.034758</td>\n",
       "    </tr>\n",
       "    <tr>\n",
       "      <th>min</th>\n",
       "      <td>2.000000</td>\n",
       "      <td>50.000000</td>\n",
       "      <td>0.000000</td>\n",
       "      <td>1.170230e+05</td>\n",
       "      <td>2120.000000</td>\n",
       "      <td>0.100000</td>\n",
       "      <td>0.100000</td>\n",
       "      <td>9.100000</td>\n",
       "      <td>6.700000</td>\n",
       "      <td>8.000000</td>\n",
       "      <td>6.800000</td>\n",
       "      <td>7.800000</td>\n",
       "      <td>7.500000</td>\n",
       "      <td>12.000000</td>\n",
       "      <td>8.000000</td>\n",
       "      <td>48.964611</td>\n",
       "      <td>8.318407</td>\n",
       "    </tr>\n",
       "    <tr>\n",
       "      <th>25%</th>\n",
       "      <td>3.000000</td>\n",
       "      <td>81.000000</td>\n",
       "      <td>0.000000</td>\n",
       "      <td>3.313252e+05</td>\n",
       "      <td>3774.250000</td>\n",
       "      <td>1.600000</td>\n",
       "      <td>1.400000</td>\n",
       "      <td>10.200000</td>\n",
       "      <td>7.800000</td>\n",
       "      <td>8.500000</td>\n",
       "      <td>7.500000</td>\n",
       "      <td>8.200000</td>\n",
       "      <td>8.800000</td>\n",
       "      <td>28.000000</td>\n",
       "      <td>12.000000</td>\n",
       "      <td>48.997705</td>\n",
       "      <td>8.373120</td>\n",
       "    </tr>\n",
       "    <tr>\n",
       "      <th>50%</th>\n",
       "      <td>3.000000</td>\n",
       "      <td>104.000000</td>\n",
       "      <td>1.000000</td>\n",
       "      <td>4.433950e+05</td>\n",
       "      <td>4311.500000</td>\n",
       "      <td>2.300000</td>\n",
       "      <td>2.100000</td>\n",
       "      <td>10.900000</td>\n",
       "      <td>8.200000</td>\n",
       "      <td>8.800000</td>\n",
       "      <td>8.200000</td>\n",
       "      <td>8.500000</td>\n",
       "      <td>8.800000</td>\n",
       "      <td>38.000000</td>\n",
       "      <td>12.000000</td>\n",
       "      <td>49.004141</td>\n",
       "      <td>8.388413</td>\n",
       "    </tr>\n",
       "    <tr>\n",
       "      <th>75%</th>\n",
       "      <td>4.000000</td>\n",
       "      <td>133.000000</td>\n",
       "      <td>1.000000</td>\n",
       "      <td>5.822060e+05</td>\n",
       "      <td>4827.750000</td>\n",
       "      <td>3.400000</td>\n",
       "      <td>3.200000</td>\n",
       "      <td>11.700000</td>\n",
       "      <td>8.400000</td>\n",
       "      <td>9.200000</td>\n",
       "      <td>8.500000</td>\n",
       "      <td>9.000000</td>\n",
       "      <td>9.000000</td>\n",
       "      <td>45.000000</td>\n",
       "      <td>15.000000</td>\n",
       "      <td>49.011977</td>\n",
       "      <td>8.406044</td>\n",
       "    </tr>\n",
       "    <tr>\n",
       "      <th>max</th>\n",
       "      <td>5.000000</td>\n",
       "      <td>256.000000</td>\n",
       "      <td>1.000000</td>\n",
       "      <td>1.312292e+06</td>\n",
       "      <td>6677.000000</td>\n",
       "      <td>8.400000</td>\n",
       "      <td>8.300000</td>\n",
       "      <td>14.600000</td>\n",
       "      <td>8.800000</td>\n",
       "      <td>9.200000</td>\n",
       "      <td>8.500000</td>\n",
       "      <td>9.200000</td>\n",
       "      <td>9.500000</td>\n",
       "      <td>45.000000</td>\n",
       "      <td>25.000000</td>\n",
       "      <td>49.034560</td>\n",
       "      <td>8.513268</td>\n",
       "    </tr>\n",
       "  </tbody>\n",
       "</table>\n",
       "</div>"
      ],
      "text/plain": [
       "          bedrooms         sqft       garden         price  price_per_sqm  distance_to_esk  distance_to_center  avg_employer_distance  esk_suitability_score  safety_score  international_community_score  family_amenities_score  public_transport_score  current_esk_families  commute_time_esk          lat          lon\n",
       "count  1000.000000  1000.000000  1000.000000  1.000000e+03    1000.000000      1000.000000         1000.000000            1000.000000            1000.000000   1000.000000                    1000.000000             1000.000000             1000.000000           1000.000000       1000.000000  1000.000000  1000.000000\n",
       "mean      3.254000   110.038000     0.523000  4.756140e+05    4318.352000         2.651400            2.454500              11.018100               8.017300      8.863500                       7.949500                8.624600                8.703500             34.738000         14.436000    49.004581     8.395553\n",
       "std       0.887847    39.168773     0.499721  1.919239e+05     788.910818         1.477519            1.495445               1.052602               0.464442      0.345597                       0.599382                0.474552                0.591767             10.803429          4.811762     0.010694     0.034758\n",
       "min       2.000000    50.000000     0.000000  1.170230e+05    2120.000000         0.100000            0.100000               9.100000               6.700000      8.000000                       6.800000                7.800000                7.500000             12.000000          8.000000    48.964611     8.318407\n",
       "25%       3.000000    81.000000     0.000000  3.313252e+05    3774.250000         1.600000            1.400000              10.200000               7.800000      8.500000                       7.500000                8.200000                8.800000             28.000000         12.000000    48.997705     8.373120\n",
       "50%       3.000000   104.000000     1.000000  4.433950e+05    4311.500000         2.300000            2.100000              10.900000               8.200000      8.800000                       8.200000                8.500000                8.800000             38.000000         12.000000    49.004141     8.388413\n",
       "75%       4.000000   133.000000     1.000000  5.822060e+05    4827.750000         3.400000            3.200000              11.700000               8.400000      9.200000                       8.500000                9.000000                9.000000             45.000000         15.000000    49.011977     8.406044\n",
       "max       5.000000   256.000000     1.000000  1.312292e+06    6677.000000         8.400000            8.300000              14.600000               8.800000      9.200000                       8.500000                9.200000                9.500000             45.000000         25.000000    49.034560     8.513268"
      ]
     },
     "execution_count": 4,
     "metadata": {},
     "output_type": "execute_result"
    }
   ],
   "source": [
    "# Data Quality Check\n",
    "print(\"[ASSESSMENT] Data Quality Assessment\\n\")\n",
    "\n",
    "# Missing values\n",
    "missing_data = df.isnull().sum()\n",
    "print(\"[MISSING] Missing Values:\")\n",
    "print(missing_data[missing_data > 0])\n",
    "\n",
    "# Data types\n",
    "print(\"\\n[TYPES] Data Types:\")\n",
    "print(df.dtypes)\n",
    "\n",
    "# Statistical summary\n",
    "print(\"\\n[SUMMARY] Statistical Summary:\")\n",
    "df.describe()"
   ]
  },
  {
   "cell_type": "markdown",
   "id": "99ab908f",
   "metadata": {},
   "source": [
    "## 4. Exploratory Data Analysis (EDA)"
   ]
  },
  {
   "cell_type": "code",
   "execution_count": 7,
   "id": "184f4886",
   "metadata": {},
   "outputs": [
    {
     "ename": "ValueError",
     "evalue": "Mime type rendering requires nbformat>=4.2.0 but it is not installed",
     "output_type": "error",
     "traceback": [
      "\u001b[31m---------------------------------------------------------------------------\u001b[39m",
      "\u001b[31mValueError\u001b[39m                                Traceback (most recent call last)",
      "\u001b[36mFile \u001b[39m\u001b[32mc:\\Users\\fwmoe\\Dropbox\\ESK\\code-institute\\PP5\\eskar-housing-finder\\.venv\\Lib\\site-packages\\IPython\\core\\formatters.py:984\u001b[39m, in \u001b[36mIPythonDisplayFormatter.__call__\u001b[39m\u001b[34m(self, obj)\u001b[39m\n\u001b[32m    982\u001b[39m method = get_real_method(obj, \u001b[38;5;28mself\u001b[39m.print_method)\n\u001b[32m    983\u001b[39m \u001b[38;5;28;01mif\u001b[39;00m method \u001b[38;5;129;01mis\u001b[39;00m \u001b[38;5;129;01mnot\u001b[39;00m \u001b[38;5;28;01mNone\u001b[39;00m:\n\u001b[32m--> \u001b[39m\u001b[32m984\u001b[39m     \u001b[43mmethod\u001b[49m\u001b[43m(\u001b[49m\u001b[43m)\u001b[49m\n\u001b[32m    985\u001b[39m     \u001b[38;5;28;01mreturn\u001b[39;00m \u001b[38;5;28;01mTrue\u001b[39;00m\n",
      "\u001b[36mFile \u001b[39m\u001b[32mc:\\Users\\fwmoe\\Dropbox\\ESK\\code-institute\\PP5\\eskar-housing-finder\\.venv\\Lib\\site-packages\\plotly\\basedatatypes.py:850\u001b[39m, in \u001b[36mBaseFigure._ipython_display_\u001b[39m\u001b[34m(self)\u001b[39m\n\u001b[32m    847\u001b[39m \u001b[38;5;28;01mimport\u001b[39;00m\u001b[38;5;250m \u001b[39m\u001b[34;01mplotly\u001b[39;00m\u001b[34;01m.\u001b[39;00m\u001b[34;01mio\u001b[39;00m\u001b[38;5;250m \u001b[39m\u001b[38;5;28;01mas\u001b[39;00m\u001b[38;5;250m \u001b[39m\u001b[34;01mpio\u001b[39;00m\n\u001b[32m    849\u001b[39m \u001b[38;5;28;01mif\u001b[39;00m pio.renderers.render_on_display \u001b[38;5;129;01mand\u001b[39;00m pio.renderers.default:\n\u001b[32m--> \u001b[39m\u001b[32m850\u001b[39m     \u001b[43mpio\u001b[49m\u001b[43m.\u001b[49m\u001b[43mshow\u001b[49m\u001b[43m(\u001b[49m\u001b[38;5;28;43mself\u001b[39;49m\u001b[43m)\u001b[49m\n\u001b[32m    851\u001b[39m \u001b[38;5;28;01melse\u001b[39;00m:\n\u001b[32m    852\u001b[39m     \u001b[38;5;28mprint\u001b[39m(\u001b[38;5;28mrepr\u001b[39m(\u001b[38;5;28mself\u001b[39m))\n",
      "\u001b[36mFile \u001b[39m\u001b[32mc:\\Users\\fwmoe\\Dropbox\\ESK\\code-institute\\PP5\\eskar-housing-finder\\.venv\\Lib\\site-packages\\plotly\\io\\_renderers.py:415\u001b[39m, in \u001b[36mshow\u001b[39m\u001b[34m(fig, renderer, validate, **kwargs)\u001b[39m\n\u001b[32m    410\u001b[39m     \u001b[38;5;28;01mraise\u001b[39;00m \u001b[38;5;167;01mValueError\u001b[39;00m(\n\u001b[32m    411\u001b[39m         \u001b[33m\"\u001b[39m\u001b[33mMime type rendering requires ipython but it is not installed\u001b[39m\u001b[33m\"\u001b[39m\n\u001b[32m    412\u001b[39m     )\n\u001b[32m    414\u001b[39m \u001b[38;5;28;01mif\u001b[39;00m \u001b[38;5;129;01mnot\u001b[39;00m nbformat \u001b[38;5;129;01mor\u001b[39;00m Version(nbformat.__version__) < Version(\u001b[33m\"\u001b[39m\u001b[33m4.2.0\u001b[39m\u001b[33m\"\u001b[39m):\n\u001b[32m--> \u001b[39m\u001b[32m415\u001b[39m     \u001b[38;5;28;01mraise\u001b[39;00m \u001b[38;5;167;01mValueError\u001b[39;00m(\n\u001b[32m    416\u001b[39m         \u001b[33m\"\u001b[39m\u001b[33mMime type rendering requires nbformat>=4.2.0 but it is not installed\u001b[39m\u001b[33m\"\u001b[39m\n\u001b[32m    417\u001b[39m     )\n\u001b[32m    419\u001b[39m display_jupyter_version_warnings()\n\u001b[32m    421\u001b[39m ipython_display.display(bundle, raw=\u001b[38;5;28;01mTrue\u001b[39;00m)\n",
      "\u001b[31mValueError\u001b[39m: Mime type rendering requires nbformat>=4.2.0 but it is not installed"
     ]
    },
    {
     "data": {
      "application/vnd.plotly.v1+json": {
       "config": {
        "plotlyServerURL": "https://plot.ly"
       },
       "data": [
        {
         "name": "Price",
         "nbinsx": 30,
         "type": "histogram",
         "x": {
          "bdata": "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",
          "dtype": "i4"
         },
         "xaxis": "x",
         "yaxis": "y"
        },
        {
         "name": "apartment",
         "type": "box",
         "xaxis": "x2",
         "y": {
          "bdata": "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",
          "dtype": "i4"
         },
         "yaxis": "y2"
        },
        {
         "name": "house",
         "type": "box",
         "xaxis": "x2",
         "y": {
          "bdata": "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",
          "dtype": "i4"
         },
         "yaxis": "y2"
        },
        {
         "name": "Weststadt",
         "type": "box",
         "xaxis": "x3",
         "y": {
          "bdata": "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",
          "dtype": "i4"
         },
         "yaxis": "y3"
        },
        {
         "name": "Südstadt",
         "type": "box",
         "xaxis": "x3",
         "y": {
          "bdata": "/3EEALKbBwB+MwUAlK4DABGyBQCe/AMA2ocEAIVjDwCjGgUAXogGAOpOBgDT6AUARY8EAO37BQAMOgYAI0gIAGYWBQCGXgQAfLQJADHvCAB+RwcA838GAIj8BAB9JgYAEh4HAOCCBAD8SQMAq20DAAtgBgCkEQMA6OIDAJsLBwAltw0A46oFAPlvBQAx+AIAId4DAC2ZBAAPfQUAzssDAJ98BwCBzAYA674LANzlBQAenQMAEaEFAJgABwDl6wUAL6wMAGNFBgC9CgcAr8MEABlSCAAn7AYA3bgIAPTdBgDYFgYA5+gDAHEECgBY3AcAMKIHAIrpBAA0swYAW2sFAIzmBAAxgQQAfk0EAJkQCgBSogYAldQDAGcbBgBnlAQAvwsGACJfBwDSGAUAWZAIAJF5CgD5cQgAE5QJAFj/BwB6rAYAEooEAP9fBgDcuQcAGm0HAHqPAwB9WwcA+/8DALJ+BQDV7QMAY84GAKVUDADWywYAMwcMAMFmBwBg5AQAHwwDAM6XCQDtzQIA12IGAKkzBQAU2QQAGzUFABW0AwBwbwYAP7sFABH+BgD+WgsADskJAL3EBgAK4AoAXskGANLFCgAbrAQAQloIAEg6BwDCfgcAYYAFAIVoDACVAAcAsIwDADdHBQAydAYAEhcEABnfBQBftgMAPR0LAEglBQBLUAQANcAIANIYBgBifggAD5cIAM3VBwCysQYAVkQEAHjVCQA47wMAEjIIAAJkCABbVQgA7CoDAPiyBAAFGgUAf2gKAK9xBgBfAAcAVOcEAKO9BgDXOgcAw+UMAOj1AwDRwQcAv40IAKLOBgDJZAkAYoYIABgeDQBOCAUAkDsHAIBXBwBRAAcANVIFAIahBgBG4gUAmXMNAPvpBQAk0wwApWwHAH4UBgDzzAgAw64IAKrcCQB3lQsA9SAFAC8zBgBLJQYAKXgFANRzBwDgjwcAR2ALAIKSCADxFAMAIHUGANxcCwAotQUA9isDAO8QDQD1HwcADAIIAHaeCgATSQYA8P8EAOmXBgBAlgUATDMJAAMHCwBzqgYAR6YGAKmACQCvzAQAxvQIACD4CABS5gMALOMGAFU9CgANMQUAgi4JAInPAQCMIgUAPgAEAEoMCwATvAMARlkNAPGqAwCtkQUAMK0KAJyRCACDhgQAnGELAJtzCQD9ogYAS+EIAOoNBQAvagQAsygJAC8rBgDmlAsAJQAKAEbzCwBpHwQAzW4DAL3XAwDG1AUAtcEIAPLKBAAfWQgADVQEAKc0BwC84AYA+cMGAAQKBwCxHQ0ANKQFAICaBQDbjwQA6Y0EAKZFBAC+rgcAN80IAISDCABasgsANegDABa0BQA=",
          "dtype": "i4"
         },
         "yaxis": "y3"
        },
        {
         "name": "Innenstadt-West",
         "type": "box",
         "xaxis": "x3",
         "y": {
          "bdata": "19AEAA/OBwCtXgoAZR8IANIbCgBeJgQAIwcGABBvBQDYdgUAutUGAIN+BAA1hgYAUJ4JAEncCwDH6QoAUMwFAHIAEwAJBAUA1xsLAFmyEgAyRgcAxLwDAPDkBgCbUAoArmgPAHnADACDPQsA6H0LAM3CBAAqFQsAEpsHAFmNCQB39gYAylYMAGGuBgBu1AoAcLIPAM8LCQD67hAATLQMAEqUBgDAVQQA9XAGAMYhDwCUnwwAA3EMAFCkCgByEQ4AnKwLAK+uBgBr+wsAECMHAOJNDwArEQkABPoLAH2jCwCxTREAgLoIANL6CgCePgwAWqwJAAurCgCLOwgAqGgFAA40BgAFNgkApFgHAAqmAwDh8wUA8rwEAHNsBwDo4wQAL+QHADQPCACMgAYAkOYJAJpPBwBNZgMAbocDAGA6CQC3SQwA78cIALWNCAA9+QcAICIIAJMlDQACTAoAem8JABDyCwDj0gQAZWANALssBABoFAkAQJADALeJDQAvggYApFwHAILcBQA4UAcAnhEHAM3DCADQPgkAxicGAN8DDQDBgAsA6t4KAMeOBACzRwcAZcAGADtjCQAbsAYAG/0EAO2jDwAywQUALPEIAFyOBQAnPQYA+P4FAFJtBABKsAQA2RwKAIasBwCbwgcA4KUIAMtdBQAEegYAJVYNAP2ZBgC5zAgAf0IIAFSABQDORQwAUUoEAM+rCAAGrAoAg1gFALwKCgBwMAgA78EGAP5+CACREw8A",
          "dtype": "i4"
         },
         "yaxis": "y3"
        },
        {
         "name": "Durlach",
         "type": "box",
         "xaxis": "x3",
         "y": {
          "bdata": "56cFAAWwCgCYBgUAy3YJAGdUBQB89wMAwNwEAGdeCABZDgUAypEMAI+0BwCQdAQANswCAHltCADFfQkAy6sFAFV1CABK4AUAkC0DABpzAwDp0ggAJU4DAFcWBwDlpwYA0ZcHAA3EBgB43QQAuTMMAHxVEAB5igQANpwGAAO1CACo5QQAkwQHANJfBAB1DgQArrYDAHBYBQDjOQcAwQAEAI1FBgCYLwkAeCgFALLwAgC6uQMAc7sGAB/JAgCGngsAxysEAOF2BwBeyAUAPn0EAIUiCwAUGgoACCwJAMI8BgDSCAUAO3IDALstCQB6OQgACQ8FAOh/CwDligMAITwDAEFyAwA55wkAR2UEABSnCQDR0QQAPqIHAJc+AwBaWQcApjgJAAYzBgCi9gYA1d0IAM/YAgDGjAIAsLUGAGLFBAAfKwMAXHUEAH0KBwCCngUAH8kBAIvqBQCsZAUACZcEANMnBgBz4QYAyA0EAE60AwDXagsAGTEGABwtBQBbqwUAlroJADhjBwAKqQQA6rYKALpyAwDM8gIA/4oDAJdoAwC+bAUA8okGAJMGBwDoowcAZuAGAC1nAwD37woAJvsGAFS1AgAY9QIA",
          "dtype": "i4"
         },
         "yaxis": "y3"
        },
        {
         "name": "Oststadt",
         "type": "box",
         "xaxis": "x3",
         "y": {
          "bdata": "C5gIAMEzBgCeFgQAxiQGALZfBQDFvggA9goFAATMBQAE9AcAjK0GAE+ICADtPggAfI8JAL1iBgB9CAcAp3MEAAGPAwATGQoAOEAMABf+CgAM0QQAzasDAII6AwCsQgUAgscDANEpBACJZQgApxEGAFa1AwD2WgUAPO4GAODZCAAVuwkASAcKAKHGBABjEQcASg0MALBOBwC3vAkAZbUEAHrbBgBmxQIAisMFAJReAgAfIAkAwRMGANlQCQAjSgsA7N4HAJP4AwAG7wMA7rcEAHKiCgDvkgcA2TsEACzCBAAgJAkAXXUFAByrCAD1xwYAHSEDAH6CBACPVwgAWs8DANDsCABpFAgA",
          "dtype": "i4"
         },
         "yaxis": "y3"
        },
        {
         "name": "Mühlburg",
         "type": "box",
         "xaxis": "x3",
         "y": {
          "bdata": "WnMJAJLGBgD9bQUAJT0GANrJBgDdEQcAP9gEAMInBADCFgUArKgDAFYXBABsswYAnR0EAOlkAwDGSwMAq+8DAEQwAgBl3wYA3cICAHkCBgB+xAgAVYcFADKQBgABjAMA9FgGANmUCQCS+AMALgIEAEDlAwAO0wMAKoEGAGSSBQATdAgAoawDAEm2AwCbhwUALWUDAEzYBwDVBgUAJZcCAB6bBQCbKwQAuv4GABL+BACKdgMA",
          "dtype": "i4"
         },
         "yaxis": "y3"
        },
        {
         "marker": {
          "color": {
           "bdata": "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",
           "dtype": "f8"
          },
          "colorscale": [
           [
            0,
            "#440154"
           ],
           [
            0.1111111111111111,
            "#482878"
           ],
           [
            0.2222222222222222,
            "#3e4989"
           ],
           [
            0.3333333333333333,
            "#31688e"
           ],
           [
            0.4444444444444444,
            "#26828e"
           ],
           [
            0.5555555555555556,
            "#1f9e89"
           ],
           [
            0.6666666666666666,
            "#35b779"
           ],
           [
            0.7777777777777778,
            "#6ece58"
           ],
           [
            0.8888888888888888,
            "#b5de2b"
           ],
           [
            1,
            "#fde725"
           ]
          ],
          "showscale": true
         },
         "mode": "markers",
         "name": "Properties",
         "type": "scatter",
         "x": {
          "bdata": "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",
          "dtype": "f8"
         },
         "xaxis": "x4",
         "y": {
          "bdata": "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",
          "dtype": "i4"
         },
         "yaxis": "y4"
        }
       ],
       "layout": {
        "annotations": [
         {
          "font": {
           "size": 16
          },
          "showarrow": false,
          "text": "Price Distribution",
          "x": 0.225,
          "xanchor": "center",
          "xref": "paper",
          "y": 1,
          "yanchor": "bottom",
          "yref": "paper"
         },
         {
          "font": {
           "size": 16
          },
          "showarrow": false,
          "text": "Price by Property Type",
          "x": 0.775,
          "xanchor": "center",
          "xref": "paper",
          "y": 1,
          "yanchor": "bottom",
          "yref": "paper"
         },
         {
          "font": {
           "size": 16
          },
          "showarrow": false,
          "text": "Price by Neighborhood",
          "x": 0.225,
          "xanchor": "center",
          "xref": "paper",
          "y": 0.375,
          "yanchor": "bottom",
          "yref": "paper"
         },
         {
          "font": {
           "size": 16
          },
          "showarrow": false,
          "text": "Distance to ESK vs Price",
          "x": 0.775,
          "xanchor": "center",
          "xref": "paper",
          "y": 0.375,
          "yanchor": "bottom",
          "yref": "paper"
         }
        ],
        "height": 800,
        "template": {
         "data": {
          "bar": [
           {
            "error_x": {
             "color": "#2a3f5f"
            },
            "error_y": {
             "color": "#2a3f5f"
            },
            "marker": {
             "line": {
              "color": "#E5ECF6",
              "width": 0.5
             },
             "pattern": {
              "fillmode": "overlay",
              "size": 10,
              "solidity": 0.2
             }
            },
            "type": "bar"
           }
          ],
          "barpolar": [
           {
            "marker": {
             "line": {
              "color": "#E5ECF6",
              "width": 0.5
             },
             "pattern": {
              "fillmode": "overlay",
              "size": 10,
              "solidity": 0.2
             }
            },
            "type": "barpolar"
           }
          ],
          "carpet": [
           {
            "aaxis": {
             "endlinecolor": "#2a3f5f",
             "gridcolor": "white",
             "linecolor": "white",
             "minorgridcolor": "white",
             "startlinecolor": "#2a3f5f"
            },
            "baxis": {
             "endlinecolor": "#2a3f5f",
             "gridcolor": "white",
             "linecolor": "white",
             "minorgridcolor": "white",
             "startlinecolor": "#2a3f5f"
            },
            "type": "carpet"
           }
          ],
          "choropleth": [
           {
            "colorbar": {
             "outlinewidth": 0,
             "ticks": ""
            },
            "type": "choropleth"
           }
          ],
          "contour": [
           {
            "colorbar": {
             "outlinewidth": 0,
             "ticks": ""
            },
            "colorscale": [
             [
              0,
              "#0d0887"
             ],
             [
              0.1111111111111111,
              "#46039f"
             ],
             [
              0.2222222222222222,
              "#7201a8"
             ],
             [
              0.3333333333333333,
              "#9c179e"
             ],
             [
              0.4444444444444444,
              "#bd3786"
             ],
             [
              0.5555555555555556,
              "#d8576b"
             ],
             [
              0.6666666666666666,
              "#ed7953"
             ],
             [
              0.7777777777777778,
              "#fb9f3a"
             ],
             [
              0.8888888888888888,
              "#fdca26"
             ],
             [
              1,
              "#f0f921"
             ]
            ],
            "type": "contour"
           }
          ],
          "contourcarpet": [
           {
            "colorbar": {
             "outlinewidth": 0,
             "ticks": ""
            },
            "type": "contourcarpet"
           }
          ],
          "heatmap": [
           {
            "colorbar": {
             "outlinewidth": 0,
             "ticks": ""
            },
            "colorscale": [
             [
              0,
              "#0d0887"
             ],
             [
              0.1111111111111111,
              "#46039f"
             ],
             [
              0.2222222222222222,
              "#7201a8"
             ],
             [
              0.3333333333333333,
              "#9c179e"
             ],
             [
              0.4444444444444444,
              "#bd3786"
             ],
             [
              0.5555555555555556,
              "#d8576b"
             ],
             [
              0.6666666666666666,
              "#ed7953"
             ],
             [
              0.7777777777777778,
              "#fb9f3a"
             ],
             [
              0.8888888888888888,
              "#fdca26"
             ],
             [
              1,
              "#f0f921"
             ]
            ],
            "type": "heatmap"
           }
          ],
          "histogram": [
           {
            "marker": {
             "pattern": {
              "fillmode": "overlay",
              "size": 10,
              "solidity": 0.2
             }
            },
            "type": "histogram"
           }
          ],
          "histogram2d": [
           {
            "colorbar": {
             "outlinewidth": 0,
             "ticks": ""
            },
            "colorscale": [
             [
              0,
              "#0d0887"
             ],
             [
              0.1111111111111111,
              "#46039f"
             ],
             [
              0.2222222222222222,
              "#7201a8"
             ],
             [
              0.3333333333333333,
              "#9c179e"
             ],
             [
              0.4444444444444444,
              "#bd3786"
             ],
             [
              0.5555555555555556,
              "#d8576b"
             ],
             [
              0.6666666666666666,
              "#ed7953"
             ],
             [
              0.7777777777777778,
              "#fb9f3a"
             ],
             [
              0.8888888888888888,
              "#fdca26"
             ],
             [
              1,
              "#f0f921"
             ]
            ],
            "type": "histogram2d"
           }
          ],
          "histogram2dcontour": [
           {
            "colorbar": {
             "outlinewidth": 0,
             "ticks": ""
            },
            "colorscale": [
             [
              0,
              "#0d0887"
             ],
             [
              0.1111111111111111,
              "#46039f"
             ],
             [
              0.2222222222222222,
              "#7201a8"
             ],
             [
              0.3333333333333333,
              "#9c179e"
             ],
             [
              0.4444444444444444,
              "#bd3786"
             ],
             [
              0.5555555555555556,
              "#d8576b"
             ],
             [
              0.6666666666666666,
              "#ed7953"
             ],
             [
              0.7777777777777778,
              "#fb9f3a"
             ],
             [
              0.8888888888888888,
              "#fdca26"
             ],
             [
              1,
              "#f0f921"
             ]
            ],
            "type": "histogram2dcontour"
           }
          ],
          "mesh3d": [
           {
            "colorbar": {
             "outlinewidth": 0,
             "ticks": ""
            },
            "type": "mesh3d"
           }
          ],
          "parcoords": [
           {
            "line": {
             "colorbar": {
              "outlinewidth": 0,
              "ticks": ""
             }
            },
            "type": "parcoords"
           }
          ],
          "pie": [
           {
            "automargin": true,
            "type": "pie"
           }
          ],
          "scatter": [
           {
            "fillpattern": {
             "fillmode": "overlay",
             "size": 10,
             "solidity": 0.2
            },
            "type": "scatter"
           }
          ],
          "scatter3d": [
           {
            "line": {
             "colorbar": {
              "outlinewidth": 0,
              "ticks": ""
             }
            },
            "marker": {
             "colorbar": {
              "outlinewidth": 0,
              "ticks": ""
             }
            },
            "type": "scatter3d"
           }
          ],
          "scattercarpet": [
           {
            "marker": {
             "colorbar": {
              "outlinewidth": 0,
              "ticks": ""
             }
            },
            "type": "scattercarpet"
           }
          ],
          "scattergeo": [
           {
            "marker": {
             "colorbar": {
              "outlinewidth": 0,
              "ticks": ""
             }
            },
            "type": "scattergeo"
           }
          ],
          "scattergl": [
           {
            "marker": {
             "colorbar": {
              "outlinewidth": 0,
              "ticks": ""
             }
            },
            "type": "scattergl"
           }
          ],
          "scattermap": [
           {
            "marker": {
             "colorbar": {
              "outlinewidth": 0,
              "ticks": ""
             }
            },
            "type": "scattermap"
           }
          ],
          "scattermapbox": [
           {
            "marker": {
             "colorbar": {
              "outlinewidth": 0,
              "ticks": ""
             }
            },
            "type": "scattermapbox"
           }
          ],
          "scatterpolar": [
           {
            "marker": {
             "colorbar": {
              "outlinewidth": 0,
              "ticks": ""
             }
            },
            "type": "scatterpolar"
           }
          ],
          "scatterpolargl": [
           {
            "marker": {
             "colorbar": {
              "outlinewidth": 0,
              "ticks": ""
             }
            },
            "type": "scatterpolargl"
           }
          ],
          "scatterternary": [
           {
            "marker": {
             "colorbar": {
              "outlinewidth": 0,
              "ticks": ""
             }
            },
            "type": "scatterternary"
           }
          ],
          "surface": [
           {
            "colorbar": {
             "outlinewidth": 0,
             "ticks": ""
            },
            "colorscale": [
             [
              0,
              "#0d0887"
             ],
             [
              0.1111111111111111,
              "#46039f"
             ],
             [
              0.2222222222222222,
              "#7201a8"
             ],
             [
              0.3333333333333333,
              "#9c179e"
             ],
             [
              0.4444444444444444,
              "#bd3786"
             ],
             [
              0.5555555555555556,
              "#d8576b"
             ],
             [
              0.6666666666666666,
              "#ed7953"
             ],
             [
              0.7777777777777778,
              "#fb9f3a"
             ],
             [
              0.8888888888888888,
              "#fdca26"
             ],
             [
              1,
              "#f0f921"
             ]
            ],
            "type": "surface"
           }
          ],
          "table": [
           {
            "cells": {
             "fill": {
              "color": "#EBF0F8"
             },
             "line": {
              "color": "white"
             }
            },
            "header": {
             "fill": {
              "color": "#C8D4E3"
             },
             "line": {
              "color": "white"
             }
            },
            "type": "table"
           }
          ]
         },
         "layout": {
          "annotationdefaults": {
           "arrowcolor": "#2a3f5f",
           "arrowhead": 0,
           "arrowwidth": 1
          },
          "autotypenumbers": "strict",
          "coloraxis": {
           "colorbar": {
            "outlinewidth": 0,
            "ticks": ""
           }
          },
          "colorscale": {
           "diverging": [
            [
             0,
             "#8e0152"
            ],
            [
             0.1,
             "#c51b7d"
            ],
            [
             0.2,
             "#de77ae"
            ],
            [
             0.3,
             "#f1b6da"
            ],
            [
             0.4,
             "#fde0ef"
            ],
            [
             0.5,
             "#f7f7f7"
            ],
            [
             0.6,
             "#e6f5d0"
            ],
            [
             0.7,
             "#b8e186"
            ],
            [
             0.8,
             "#7fbc41"
            ],
            [
             0.9,
             "#4d9221"
            ],
            [
             1,
             "#276419"
            ]
           ],
           "sequential": [
            [
             0,
             "#0d0887"
            ],
            [
             0.1111111111111111,
             "#46039f"
            ],
            [
             0.2222222222222222,
             "#7201a8"
            ],
            [
             0.3333333333333333,
             "#9c179e"
            ],
            [
             0.4444444444444444,
             "#bd3786"
            ],
            [
             0.5555555555555556,
             "#d8576b"
            ],
            [
             0.6666666666666666,
             "#ed7953"
            ],
            [
             0.7777777777777778,
             "#fb9f3a"
            ],
            [
             0.8888888888888888,
             "#fdca26"
            ],
            [
             1,
             "#f0f921"
            ]
           ],
           "sequentialminus": [
            [
             0,
             "#0d0887"
            ],
            [
             0.1111111111111111,
             "#46039f"
            ],
            [
             0.2222222222222222,
             "#7201a8"
            ],
            [
             0.3333333333333333,
             "#9c179e"
            ],
            [
             0.4444444444444444,
             "#bd3786"
            ],
            [
             0.5555555555555556,
             "#d8576b"
            ],
            [
             0.6666666666666666,
             "#ed7953"
            ],
            [
             0.7777777777777778,
             "#fb9f3a"
            ],
            [
             0.8888888888888888,
             "#fdca26"
            ],
            [
             1,
             "#f0f921"
            ]
           ]
          },
          "colorway": [
           "#636efa",
           "#EF553B",
           "#00cc96",
           "#ab63fa",
           "#FFA15A",
           "#19d3f3",
           "#FF6692",
           "#B6E880",
           "#FF97FF",
           "#FECB52"
          ],
          "font": {
           "color": "#2a3f5f"
          },
          "geo": {
           "bgcolor": "white",
           "lakecolor": "white",
           "landcolor": "#E5ECF6",
           "showlakes": true,
           "showland": true,
           "subunitcolor": "white"
          },
          "hoverlabel": {
           "align": "left"
          },
          "hovermode": "closest",
          "mapbox": {
           "style": "light"
          },
          "paper_bgcolor": "white",
          "plot_bgcolor": "#E5ECF6",
          "polar": {
           "angularaxis": {
            "gridcolor": "white",
            "linecolor": "white",
            "ticks": ""
           },
           "bgcolor": "#E5ECF6",
           "radialaxis": {
            "gridcolor": "white",
            "linecolor": "white",
            "ticks": ""
           }
          },
          "scene": {
           "xaxis": {
            "backgroundcolor": "#E5ECF6",
            "gridcolor": "white",
            "gridwidth": 2,
            "linecolor": "white",
            "showbackground": true,
            "ticks": "",
            "zerolinecolor": "white"
           },
           "yaxis": {
            "backgroundcolor": "#E5ECF6",
            "gridcolor": "white",
            "gridwidth": 2,
            "linecolor": "white",
            "showbackground": true,
            "ticks": "",
            "zerolinecolor": "white"
           },
           "zaxis": {
            "backgroundcolor": "#E5ECF6",
            "gridcolor": "white",
            "gridwidth": 2,
            "linecolor": "white",
            "showbackground": true,
            "ticks": "",
            "zerolinecolor": "white"
           }
          },
          "shapedefaults": {
           "line": {
            "color": "#2a3f5f"
           }
          },
          "ternary": {
           "aaxis": {
            "gridcolor": "white",
            "linecolor": "white",
            "ticks": ""
           },
           "baxis": {
            "gridcolor": "white",
            "linecolor": "white",
            "ticks": ""
           },
           "bgcolor": "#E5ECF6",
           "caxis": {
            "gridcolor": "white",
            "linecolor": "white",
            "ticks": ""
           }
          },
          "title": {
           "x": 0.05
          },
          "xaxis": {
           "automargin": true,
           "gridcolor": "white",
           "linecolor": "white",
           "ticks": "",
           "title": {
            "standoff": 15
           },
           "zerolinecolor": "white",
           "zerolinewidth": 2
          },
          "yaxis": {
           "automargin": true,
           "gridcolor": "white",
           "linecolor": "white",
           "ticks": "",
           "title": {
            "standoff": 15
           },
           "zerolinecolor": "white",
           "zerolinewidth": 2
          }
         }
        },
        "title": {
         "text": "Housing Market Analysis"
        },
        "xaxis": {
         "anchor": "y",
         "domain": [
          0,
          0.45
         ]
        },
        "xaxis2": {
         "anchor": "y2",
         "domain": [
          0.55,
          1
         ]
        },
        "xaxis3": {
         "anchor": "y3",
         "domain": [
          0,
          0.45
         ]
        },
        "xaxis4": {
         "anchor": "y4",
         "domain": [
          0.55,
          1
         ]
        },
        "yaxis": {
         "anchor": "x",
         "domain": [
          0.625,
          1
         ]
        },
        "yaxis2": {
         "anchor": "x2",
         "domain": [
          0.625,
          1
         ]
        },
        "yaxis3": {
         "anchor": "x3",
         "domain": [
          0,
          0.375
         ]
        },
        "yaxis4": {
         "anchor": "x4",
         "domain": [
          0,
          0.375
         ]
        }
       }
      },
      "text/html": [
       "<div>                        <script type=\"text/javascript\">window.PlotlyConfig = {MathJaxConfig: 'local'};</script>\n",
       "        <script charset=\"utf-8\" src=\"https://cdn.plot.ly/plotly-3.1.0.min.js\" integrity=\"sha256-Ei4740bWZhaUTQuD6q9yQlgVCMPBz6CZWhevDYPv93A=\" crossorigin=\"anonymous\"></script>                <div id=\"68c74f1d-0b25-4499-85c9-6f78a7c8228e\" class=\"plotly-graph-div\" style=\"height:800px; width:100%;\"></div>            <script type=\"text/javascript\">                window.PLOTLYENV=window.PLOTLYENV || {};                                if (document.getElementById(\"68c74f1d-0b25-4499-85c9-6f78a7c8228e\")) {                    Plotly.newPlot(                        \"68c74f1d-0b25-4499-85c9-6f78a7c8228e\",                        [{\"name\":\"Price\",\"nbinsx\":30,\"x\":{\"dtype\":\"i4\",\"bdata\":\"\\u002f3EEABOfAwCymwcA4\\u002fwFANfQBAAMbQYAfjMFAI21BgDnpwUAC5gIAJSuAwARsgUABbAKAMEZAwDBMwYAC\\u002f4HAEdYBgCe\\u002fAMAv4AGAA\\u002fOBwCYBgUA610KAOOwDQBySgYABFsOANqHBACeFgQAy3YJAK1eCgCFYw8AZ1QFAKMaBQBoTAYAXogGAOpOBgDT6AUARY8EAKQcBwDt+wUADDoGACR9CABlHwgAI0gIAKcZBgDSGwoAzjMDAEGDBQD5vQcAfPcDAF4mBADYKQkAZhYFAIZeBADGJAYAWnMJAHy0CQDA3AQAZvgEADHvCAAjBwYAfkcHAPN\\u002fBgCQLA0AONsFAHXXBgCI\\u002fAQAfSYGALS0CABnXggATqEEAMJYBwASHgcAZE4KALT3AwDKTQUAV+oEAFkOBQDgggQAEG8FAPxJAwC2XwUA2HYFAPzjBADKkQwALswJAI+jBgC61QYAxb4IAI+0BwCDfgQA9goFAPgJBQAkBhQAq20DADWGBgCYKQoAUJ4JAJSzBQAFsA0AGqAHAP9EBQAxZAUAJSMLAAtgBgANRQsASdwLAGcWCADBEQQABMwFAJB0BADlgAcANswCAP8+BQAE9AcApBEDAOjiAwCMrQYA4r4HAMfpCgDHIgYAmwsHAHltCADHmAgAUMwFAJLOBgByABMAksYGAKSLBQDFfQkAMGkEAB\\u002fFBAAltw0Ay6sFAFV1CADaawIAYOoRAErgBQAJBAUA46oFAM\\u002f4CQCk3gUA+W8FADH4AgCQLQMAId4DANcbCwAtmQQAGnMDAP\\u002fFBgD6yQgAdW8JAMiOAwAPfQUA6dIIALOuAwAPqwgAT4gIACVOAwD+Ng0AzssDAJ98BwBfpwUAkOAEAIHMBgDrvgsA\\u002fW0FAFcWBwBZshIAnhoKANzlBQAyRgcAA7gDAFY6CAA6KgcAHp0DAOWnBgARoQUANhkIAJgABwDl6wUADTkHAMS8AwDR8wcAL6wMAFLgBADw5AYArcsFANGXBwBjRQYAfBQGAL0KBwAg5goAk2AGAGTbBgCbUAoArmgPAOdXCgCbhgYA7T4IAA3EBgB43QQAuTMMAP2mBQDxTA4AecAMACU9BgB8jwkAfFUQAK\\u002fDBADNnwsA0sUIAIM9CwASMggABBgDAOWZAwDofQsA5zEHAOX2BQDaqQYAzcIEACoVCwAZUggAJ+wGADRfBABnOwQA2skGAC96BgDbFQkA3gEHAK\\u002fuBgDdEQcAbCIOAKxcCQDduAgANWEJAPTdBgASmwcAWY0JAHmKBADYFgYAd\\u002fYGAB6iCQB6pgMAylYMADacBgDAMAUAA7UIAAAXBgBhrgYAptUJAD8ECAC9YgYA5+gDAH0IBwAntAYApGEIAHEECgCncwQAx30JAG7UCgABjwMAWNwHAHdOCwA\\u002f2AQAMKIHAOI5BgDCJwQAiukEAOTtCQA0swYAW2sFAIzmBAATGQoAumcKAMIWBQCo5QQArxIGAJMEBwBwsg8AijUDANJfBAB1DgQArrYDAKyoAwAxgQQAfk0EAM8LCQBwWAUA4zkHAMFOCgBWFwQAnb8CAJkQCgBSogYA+u4QAJXUAwBnGwYATLQMAOxnCQBv1AkAWhYPAGyzBgBnlAQAOEAMANC8BQDBAAQAH0gHAL8LBgCNRQYAIl8HADTZBQAMrgYAmC8JAHPfCgDSGAUAeCgFAB4GCgD\\u002fqgQAWZAIADJoCwCqaAYAkXkKAJ0dBAD5cQgASpQGAMBVBAATlAkAWP8HAHqsBgDC6wQA9XAGAMYhDwBGhQUAMWcHABKKBACUnwwAA3EMAP9fBgDcuQcAGywFAE22BgBQpAoAYIMOAOlkAwAabQcAF\\u002f4KAHqPAwBORQcAPHYMAFTEBwCy8AIAfVsHAPv\\u002fAwAc4wcAVCEFABS7AwByEQ4AnKwLAJjfBgCI1Q8A+Y0GALJ+BQDV7QMAY84GAKVUDAC6uQMA9Z4MAAzRBAAPYQ4Ac7sGALJ0BQAfyQIAN+IHAH23BwBktQUAhp4LANbLBgDNqwMAMwcMAK+uBgDBZgcAxksDAGDkBADHKwQAq+8DAIeXBABEMAIArgIMAENzBAAfDAMAp44EAOF2BwD6LQMAzpcJAO3NAgAi9goA12IGAGv7CwBeyAUAiLEHAKkzBQAQIwcAPn0EAOJNDwCFIgsAFBoKAIZ1CABl3wYAgjoDAAtlCQAU2QQARu8JABs1BQArEQkAGEIHACvuAgBGSQQAFbQDANFrDAAILAkAcG8GAAT6CwA\\u002fuwUAu8oLAIQ7BAAR\\u002fgYAfaMLAN3tBQDCPAYAsU0RAIC6CAD+WgsAJFEGAKxCBQDjoQYAgCMFANIIBQDAdwYASsoKAFMeDQDS+goADskJAJ4+DAA7cgMAuy0JAHo5CABarAkAC6sKAL3EBgAK4AoAXskGABw8CwCLOwgAqGgFAPSFBgCa6gsADjQGAILHAwAFNgkACQ8FAOh\\u002fCwDSxQoA0SkEAKRYBwAKpgMAG6wEAN3CAgDh8wUA8rwEAOuaCwBCWggASDoHAOWKAwDCfgcAYYAFAIVoDAAhPAMA6\\u002fgGAATABACVAAcAiWUIAPptAwAoqgYAnWMHAPkCCwBPjggAsIwDAEFyAwA3RwUAc2wHADJ0BgASFwQAGd8FAG+MBwBnSg4A6OMEAF+2AwDMnAoAL+QHALhNCAA55wkANA8IAD0dCwA6xggAeQIGAEdlBAAetgQAF+UIABSnCQBeeQYAx28FANfZBABIJQUApxEGAEtQBACusgQA0dEEADXACADiCAcA0hgGAC8kBACMgAYAPqIHAIORBABifggANQYKAM+xBQCXPgMAD5cIAJDmCQBeywoAWlkHABL4BQDN1QcAsrEGAKccBgA9MQgAVrUDAKY4CQCaTwcA9loFAAYzBgBWRAQAeNUJADjvAwAUvgsATWYDAKL2BgA5+wUAeEwMAGuLCgCVfwgAbocDAIY0CAA87gYA4NkIAGA6CQAztgUA1d0IAGO+CwDHfQgAOnsHABIyCAACZAgAt0kMAFtVCADcQgUAFbsJAEgHCgDvxwgAfsQIAOwqAwBGJAgAtY0IAJL1CwDP2AIAxowCAPiyBAAMEggAocYEAFWHBQAFGgUAYxEHAGkMAwAgcQQAMpAGAORxCQB\\u002faAoAr3EGAF8ABwDcogMABv4HAFTnBAByCQcAo70GANc6BwA9+QcAKTMFAAOKCgABjAMAsLUGAKCDBwAgIggAw+UMAOj1AwBpjgUA6aoJAJMlDQDGgggAYsUEAB8rAwBKDQwAAkwKANHBBwCJ1wMAMbEFANGqBQC\\u002fjQgAXHUEAFfDCADSKwcAMOoHAHpvCQD0WAYAsE4HAGz5CgDZlAkAt7wJAP9QCwDfSA8AEPILAOPSBABltQQAJQAJAM\\u002fKDACizgYAkvgDAHUqBwAe5gQAetsGAGVgDQB9CgcA0jAFAIGaBQDJZAkAgp4FAB\\u002fJAQBihggAGB4NADh6BgBOCAUA6JcEALssBABoFAkABcQKAFsPCACQOwcAv18GAECQAwCAVwcAKNsGAC4CBABRAAcAt4kNAEFnBgBmzwYAi+oFADVSBQBmxQIAhqEGAKxkBQD59wQApDkGAIrDBQAXeAgARuIFAJlzDQAvggYAyzUDAPvpBQAk0wwACpINAB4BBwB4WAQApWwHAAmXBAB+FAYA0ycGAB77AwCkXAcAQOUDAPPMCABz4QYAtyoLAILcBQDDrggACRINAKrcCQAHqgQAOFAHAEGkCQCUXgIAd5ULAA7TAwD1IAUAKoEGADqGBQALGAYAyA0EAB8gCQBOtAMAZJIFAMETBgDZUAkAnhEHAC8zBgDNwwgA9vwMACQeBwATdAgASyUGAL6cCAD52wsAKXgFANA+CQAjSgsAxicGAN8DDQDUcwcA7oAHALJ3CQDgjwcA7N4HAMwLBgAAGwYA7ZUEAB8dDwDBgAsAR2ALAOreCgCCkggAx44EANdqCwChrAMA8RQDAAPXAwAZMQYAIHUGANxcCwAotQUA9isDAI6PBQC92AsAk\\u002fgDAO8QDQA0ywUA9R8HAKtKCAAG7wMA7rcEAD\\u002fzCgBpgQoAcqIKALNHBwBdzwcADAIIAHaeCgATSQYAZcAGADtjCQDw\\u002fwQAG7AGAOmXBgBAlgUASbYDABv9BABMMwkA7aMPAAMHCwAywQUAc6oGAEemBgB4ZwcAHC0FACzxCADvkgcA1UUJAFurBQCWugkAqYAJAFyOBQCvzAQAsswFAMb0CADo2AUA2TsEADIkBwAswgQAO+oFAMQeCQBgwAIAIPgIAP6ACwCocAYAq9YCAA5HCAD9owUAUuYDAFeiBAAgJAkAJz0GAJuHBQAs4wYA4U4GAFU9CgD4\\u002fgUAvMICAA0xBQC6LQQAi80FANDxBAByNQcAgi4JABnBCAA4YwcAic8BAIwiBQBfxwUAHsgJAAqpBADqtgoAPgAEALpyAwD0VQwAUm0EAEqwBADaBgcA2RwKAEoMCwATvAMARhcFAC1lAwBddQUACpoFAKyiBQCGrAcARlkNAByrCACbwgcAyqQGAOCGDADxqgMArZEFAPXHBgDgpQgA0ywEAEgJBgDLXQUAlW4JAB0hAwAwrQoA018IAP0jBgCckQgAg4YEAAR6BgDM8gIA\\u002f4oDAHuNBACcYQsAJVYNACVoCAD9mQYApA4GAJtzCQC5zAgAl2gDAP2iBgB\\u002fQggAVIAFAMetBgB+ggQAS+EIAFVGCAANSAgAvmwFAOoNBQDyiQYAkwYHAM5FDAAvagQAsygJAC8rBgBM2AcAvI8MAOijBwDVBgUApi0EAGbgBgDmlAsAA64KACWXAgAlAAoAnpUFAI9XCABG8wsAZyMIAGkfBAAgoAQA4lIFAFFKBABazwMAO1cMABIaBgAOhAcAse8FAM+rCAA+zQYAHpEIAJ6pBQAGrAoAzW4DAC1nAwAX+ggAvdcDAH+CCwC\\u002f6wcAHpsFAMbUBQC1wQgAfRMHAFIEBwDujgYAWisIAJsrBABFFQkA7V0HAEbOBgBpigMA5yoGAINYBQAUmwcA0OwIAPLKBAAfWQgAcPQFAA1UBADoswkApCUGAKc0BwC84AYA+cMGALr+BgCcZQcAMagLACM9BABldAMA0AoHALwKCgBD2QMAYy0JABL+BABLagUAcDAIACkyBwAECgcAsR0NADSkBQCKdgMAzdsEAICaBQDbjwQA6Y0EAKZFBAD37woAR\\u002foGACisBwBpFAgAvq4HABG3CwAcYQgAN80IAO\\u002fBBgCvegcAJvsGAP5+CACEgwgAR\\u002fMFADQRBQBUtQIAIwAIAFqyCwCsAwUAkRMPABj1AgCUpQoA3kwDAALaAwA16AMAFrQFAA==\"},\"type\":\"histogram\",\"xaxis\":\"x\",\"yaxis\":\"y\"},{\"name\":\"apartment\",\"y\":{\"dtype\":\"i4\",\"bdata\":\"\\u002f3EEABOfAwDj\\u002fAUA19AEAAxtBgCNtQYA56cFAAuYCACUrgMAEbIFAMEZAwBHWAYAnvwDAL+ABgCYBgUAckoGANqHBACeFgQArV4KAGdUBQBoTAYAXogGANPoBQBFjwQApBwHAO37BQAMOgYAZR8IACNICACnGQYA0hsKAM4zAwBBgwUA+b0HAHz3AwBeJgQA2CkJAGYWBQDGJAYAwNwEAGb4BAAx7wgAfkcHAPN\\u002fBgB11wYAiPwEAH0mBgBnXggAEh4HAGROCgC09wMAyk0FAFfqBABZDgUA4IIEABBvBQC2XwUA2HYFAPzjBACPowYAutUGAMW+CACDfgQA+AkFAKttAwA1hgYAUJ4JABqgBwD\\u002fRAUAZxYIAMERBACQdAQA5YAHADbMAgD\\u002fPgUABPQHAKQRAwCMrQYAxyIGAHltCADHmAgAUMwFAJLOBgCkiwUAMGkEAB\\u002fFBADLqwUAVXUIANprAgAJBAUA46oFAM\\u002f4CQCk3gUA+W8FADH4AgCQLQMAId4DAC2ZBAD\\u002fxQYA+skIAMiOAwAPfQUAs64DAA+rCABPiAgAzssDAJ98BwBfpwUA\\u002fW0FAFcWBwDc5QUAMkYHAAO4AwBWOggAOioHAB6dAwARoQUAmAAHAOXrBQANOQcAxLwDAFLgBACtywUAfBQGAL0KBwAg5goAk2AGAOdXCgANxAYAeN0EAP2mBQB8jwkAr8MEANLFCACDPQsABBgDAOX2BQDaqQYAzcIEACfsBgA0XwQA2skGAC96BgDbFQkA3gEHAK\\u002fuBgDdEQcArFwJAPTdBgBZjQkAeYoEANgWBgB39gYAHqIJAMAwBQADtQgAABcGAGGuBgA\\u002fBAgA5+gDAH0IBwCkYQgAx30JAAGPAwA\\u002f2AQA4jkGAIrpBAA0swYAjOYEAMIWBQCo5QQArxIGAIo1AwDSXwQAdQ4EAK62AwCsqAMAMYEEAH5NBADBTgoAVhcEAFKiBgBnGwYA0LwFAMEABAAfSAcAvwsGACJfBwA02QUA0hgFAHgoBQD\\u002fqgQAqmgGAJF5CgD5cQgASpQGAMBVBABY\\u002fwcAwusEAEaFBQAxZwcA\\u002f18GABssBQBNtgYA6WQDABf+CgB6jwMATkUHALLwAgB9WwcA+\\u002f8DABS7AwCY3wYA+Y0GALJ+BQDV7QMAY84GALq5AwAM0QQAc7sGAB\\u002fJAgA34gcAfbcHANbLBgDNqwMAr64GAMFmBwDGSwMAYOQEAMcrBACr7wMARDACAB8MAwCnjgQA4XYHAPotAwDtzQIA12IGAIixBwCpMwUAECMHAIZ1CAALZQkAFNkEABs1BQArEQkAGEIHACvuAgAVtAMAP7sFAIQ7BAAR\\u002fgYAfaMLAN3tBQDCPAYArEIFAOOhBgCAIwUA0ggFAMB3BgBarAkAC6sKAL3EBgBeyQYAHDwLAIs7CAD0hQYAgscDAAkPBQDRKQQApFgHABusBADdwgIA4fMFAPK8BABIOgcA5YoDAMJ+BwBhgAUAITwDAOv4BgAEwAQAlQAHAIllCACwjAMAQXIDADdHBQBzbAcAMnQGABIXBAAZ3wUAb4wHAOjjBABftgMAL+QHADQPCAA6xggAR2UEAB62BAAX5QgAXnkGAMdvBQDX2QQASCUFAK6yBADiCAcALyQEAIyABgCDkQQAz7EFAJc+AwCysQYApxwGAFa1AwCaTwcA9loFAAYzBgBWRAQAOO8DAE1mAwCi9gYAOfsFAG6HAwA87gYAM7YFAMd9CAA6ewcAEjIIANxCBQDsKgMAtY0IAM\\u002fYAgDGjAIABRoFAGMRBwBpDAMAMpAGAH9oCgCvcQYAXwAHANyiAwAG\\u002fgcAVOcEAHIJBwDXOgcAKTMFAAGMAwCggwcAICIIAGmOBQDpqgkAYsUEAB8rAwCJ1wMA0aoFAFx1BADSKwcAem8JAOPSBACS+AMAdSoHAB7mBAB62wYAfQoHAIGaBQDJZAkAgp4FAB\\u002fJAQBihggATggFAOiXBAC7LAQAWw8IAJA7BwC\\u002fXwYAQJADAIBXBwAo2wYALgIEAFEABwBBZwYAZs8GAIvqBQA1UgUA+fcEAKQ5BgCKwwUARuIFAC+CBgDLNQMA++kFAB4BBwB4WAQACZcEAH4UBgDTJwYAHvsDAKRcBwDzzAgAc+EGAAkSDQAHqgQAOFAHAEGkCQCUXgIADtMDAPUgBQA6hgUAyA0EAB8gCQBOtAMAZJIFAJ4RBwAvMwYAJB4HAEslBgC+nAgA+dsLANA+CQDGJwYA1HMHALJ3CQDgjwcA7N4HAMwLBgAAGwYA7ZUEAIKSCADHjgQAoawDAPEUAwAD1wMAGTEGAPYrAwCOjwUANMsFAPUfBwAG7wMAs0cHAF3PBwAMAggAZcAGADtjCQDw\\u002fwQAG7AGAECWBQBJtgMATDMJADLBBQBzqgYAR6YGACzxCADVRQkAW6sFAKmACQCvzAQAsswFAMb0CADo2AUAMiQHACzCBAA76gUAYMACAKhwBgCr1gIADkcIAFLmAwBXogQAJz0GAJuHBQDhTgYAvMICAA0xBQC6LQQA0PEEAHI1BwCCLgkAOGMHAInPAQCMIgUAX8cFAAqpBAA+AAQAunIDAFJtBABKsAQA2gYHABO8AwAtZQMAXXUFAAqaBQCsogUAhqwHAByrCACbwgcAyqQGAPGqAwCtkQUA9ccGANMsBABICQYAy10FAAR6BgDM8gIAJWgIAP2ZBgCkDgYAucwIAJdoAwD9ogYAf0IIAFSABQB+ggQAS+EIAA1ICAC+bAUA6g0FAC9qBACzKAkALysGAEzYBwDoowcA1QYFAKYtBABm4AYAnpUFAGkfBAAgoAQA4lIFAFrPAwASGgYADoQHALHvBQDPqwgAHpEIAJ6pBQAGrAoAzW4DAL3XAwC\\u002f6wcAHpsFAMbUBQC1wQgAUgQHAForCADtXQcARs4GAGmKAwDnKgYAg1gFABSbBwDyygQAcPQFAA1UBACkJQYApzQHAPnDBgCcZQcAMagLAGV0AwDQCgcAQ9kDABL+BABLagUAcDAIACkyBwA0pAUAinYDAM3bBACAmgUA248EAOmNBACmRQQAR\\u002foGACisBwAcYQgA78EGACb7BgD+fggAR\\u002fMFADQRBQBUtQIArAMFABj1AgCUpQoA3kwDAALaAwAWtAUA\"},\"type\":\"box\",\"xaxis\":\"x2\",\"yaxis\":\"y2\"},{\"name\":\"house\",\"y\":{\"dtype\":\"i4\",\"bdata\":\"spsHAH4zBQAFsAoAwTMGAAv+BwAPzgcA610KAOOwDQAEWw4Ay3YJAIVjDwCjGgUA6k4GACR9CACGXgQAWnMJAHy0CQAjBwYAkCwNADjbBQC0tAgATqEEAMJYBwD8SQMAypEMAC7MCQCPtAcA9goFACQGFACYKQoAlLMFAAWwDQAxZAUAJSMLAAtgBgANRQsASdwLAATMBQDo4gMA4r4HAMfpCgCbCwcAcgATAJLGBgDFfQkAJbcNAGDqEQBK4AUA1xsLABpzAwB1bwkA6dIIACVOAwD+Ng0AkOAEAIHMBgDrvgsAWbISAJ4aCgDlpwYANhkIANHzBwAvrAwA8OQGANGXBwBjRQYAZNsGAJtQCgCuaA8Am4YGAO0+CAC5MwwA8UwOAHnADAAlPQYAfFUQAM2fCwASMggA5ZkDAOh9CwDnMQcAKhULABlSCABnOwQAbCIOAN24CAA1YQkAEpsHAHqmAwDKVgwANpwGAKbVCQC9YgYAJ7QGAHEECgCncwQAbtQKAFjcBwB3TgsAMKIHAMInBADk7QkAW2sFABMZCgC6ZwoAkwQHAHCyDwDPCwkAcFgFAOM5BwCdvwIAmRAKAPruEACV1AMATLQMAOxnCQBv1AkAWhYPAGyzBgBnlAQAOEAMAI1FBgAMrgYAmC8JAHPfCgAeBgoAWZAIADJoCwCdHQQAE5QJAHqsBgD1cAYAxiEPABKKBACUnwwAA3EMANy5BwBQpAoAYIMOABptBwA8dgwAVMQHABzjBwBUIQUAchEOAJysCwCI1Q8ApVQMAPWeDAAPYQ4AsnQFAGS1BQCGngsAMwcMAIeXBACuAgwAQ3MEAM6XCQAi9goAa\\u002fsLAF7IBQA+fQQA4k0PAIUiCwAUGgoAZd8GAII6AwBG7wkARkkEANFrDAAILAkAcG8GAAT6CwC7ygsAsU0RAIC6CAD+WgsAJFEGAErKCgBTHg0A0voKAA7JCQCePgwAO3IDALstCQB6OQgACuAKAKhoBQCa6gsADjQGAAU2CQDofwsA0sUKAAqmAwDrmgsAQloIAIVoDAD6bQMAKKoGAJ1jBwD5AgsAT44IAGdKDgDMnAoAuE0IADnnCQA9HQsAeQIGABSnCQCnEQYAS1AEANHRBAA1wAgA0hgGAD6iBwBifggANQYKAA+XCACQ5gkAXssKAFpZBwAS+AUAzdUHAD0xCACmOAkAeNUJABS+CwB4TAwAa4sKAJV\\u002fCACGNAgA4NkIAGA6CQDV3QgAY74LAAJkCAC3SQwAW1UIABW7CQBIBwoA78cIAH7ECABGJAgAkvULAPiyBAAMEggAocYEAFWHBQAgcQQA5HEJAKO9BgA9+QcAA4oKALC1BgDD5QwA6PUDAJMlDQDGgggASg0MAAJMCgDRwQcAMbEFAL+NCABXwwgAMOoHAPRYBgCwTgcAbPkKANmUCQC3vAkA\\u002f1ALAN9IDwAQ8gsAZbUEACUACQDPygwAos4GAGVgDQDSMAUAGB4NADh6BgBoFAkABcQKALeJDQBmxQIAhqEGAKxkBQAXeAgAmXMNACTTDAAKkg0ApWwHAEDlAwC3KgsAgtwFAMOuCACq3AkAd5ULACqBBgALGAYAwRMGANlQCQDNwwgA9vwMABN0CAApeAUAI0oLAN8DDQDugAcAHx0PAMGACwBHYAsA6t4KANdqCwAgdQYA3FwLACi1BQC92AsAk\\u002fgDAO8QDQCrSggA7rcEAD\\u002fzCgBpgQoAcqIKAHaeCgATSQYA6ZcGABv9BADtow8AAwcLAHhnBwAcLQUA75IHAJa6CQBcjgUA2TsEAMQeCQAg+AgA\\u002foALAP2jBQAgJAkALOMGAFU9CgD4\\u002fgUAi80FABnBCAAeyAkA6rYKAPRVDADZHAoASgwLAEYXBQBGWQ0A4IYMAOClCACVbgkAHSEDADCtCgDTXwgA\\u002fSMGAJyRCACDhgQA\\u002f4oDAHuNBACcYQsAJVYNAJtzCQDHrQYAVUYIAPKJBgCTBgcAzkUMALyPDADmlAsAA64KACWXAgAlAAoAj1cIAEbzCwBnIwgAUUoEADtXDAA+zQYALWcDABf6CAB\\u002fggsAfRMHAO6OBgCbKwQARRUJANDsCAAfWQgA6LMJALzgBgC6\\u002fgYAIz0EALwKCgBjLQkABAoHALEdDQD37woAaRQIAL6uBwARtwsAN80IAK96BwCEgwgAIwAIAFqyCwCREw8ANegDAA==\"},\"type\":\"box\",\"xaxis\":\"x2\",\"yaxis\":\"y2\"},{\"name\":\"Weststadt\",\"y\":{\"dtype\":\"i4\",\"bdata\":\"E58DAOP8BQAMbQYAjbUGAMEZAwAL\\u002fgcAR1gGAL+ABgDrXQoA47ANAHJKBgAEWw4AaEwGAKQcBwAkfQgApxkGAM4zAwBBgwUA+b0HANgpCQBm+AQAkCwNADjbBQB11wYAtLQIAE6hBADCWAcAZE4KALT3AwDKTQUAV+oEAPzjBAAuzAkAj6MGAPgJBQAkBhQAmCkKAJSzBQAFsA0AGqAHAP9EBQAxZAUAJSMLAA1FCwBnFggAwREEAOWABwD\\u002fPgUA4r4HAMciBgDHmAgAks4GAKSLBQAwaQQAH8UEANprAgBg6hEAz\\u002fgJAKTeBQD\\u002fxQYA+skIAHVvCQDIjgMAs64DAA+rCAD+Ng0AX6cFAJDgBACeGgoAA7gDAFY6CAA6KgcANhkIAA05BwDR8wcAUuAEAK3LBQB8FAYAIOYKAJNgBgBk2wYA51cKAJuGBgD9pgUA8UwOAM2fCwDSxQgAEjIIAAQYAwDlmQMA5zEHAOX2BQDaqQYANF8EAGc7BAAvegYA2xUJAN4BBwCv7gYAbCIOAKxcCQA1YQkAHqIJAHqmAwDAMAUAABcGAKbVCQA\\u002fBAgAJ7QGAKRhCADHfQkAd04LAOI5BgDk7QkAumcKAK8SBgCKNQMAwU4KAJ2\\u002fAgDsZwkAb9QJAFoWDwDQvAUAH0gHADTZBQAMrgYAc98KAB4GCgD\\u002fqgQAMmgLAKpoBgDC6wQARoUFADFnBwAbLAUATbYGAGCDDgBORQcAPHYMAFTEBwAc4wcAVCEFABS7AwCY3wYAiNUPAPmNBgD1ngwAD2EOALJ0BQA34gcAfbcHAGS1BQCHlwQArgIMAENzBACnjgQA+i0DACL2CgCIsQcAhnUIAAtlCQBG7wkAGEIHACvuAgBGSQQA0WsMALvKCwCEOwQA3e0FACRRBgDjoQYAgCMFAMB3BgBKygoAUx4NABw8CwD0hQYAmuoLAOuaCwDr+AYABMAEAPptAwAoqgYAnWMHAPkCCwBPjggAb4wHAGdKDgDMnAoAuE0IADrGCAAetgQAF+UIAF55BgDHbwUA19kEAK6yBADiCAcALyQEAIORBAA1BgoAz7EFAF7LCgAS+AUApxwGAD0xCAAUvgsAOfsFAHhMDABriwoAlX8IAIY0CAAztgUAY74LAMd9CAA6ewcA3EIFAEYkCACS9QsADBIIAGkMAwAgcQQA5HEJANyiAwAG\\u002fgcAcgkHACkzBQADigoAoIMHAGmOBQDpqgkAxoIIAInXAwAxsQUA0aoFAFfDCADSKwcAMOoHAGz5CgD\\u002fUAsA30gPACUACQDPygwAdSoHAB7mBADSMAUAgZoFADh6BgDolwQABcQKAFsPCAC\\u002fXwYAKNsGAEFnBgBmzwYA+fcEAKQ5BgAXeAgAyzUDAAqSDQAeAQcAeFgEAB77AwC3KgsACRINAAeqBABBpAkAOoYFAAsYBgD2\\u002fAwAJB4HAL6cCAD52wsA7oAHALJ3CQDMCwYAABsGAO2VBAAfHQ8AA9cDAI6PBQC92AsANMsFAKtKCAA\\u002f8woAaYEKAF3PBwB4ZwcA1UUJALLMBQDo2AUAMiQHADvqBQDEHgkAYMACAP6ACwCocAYAq9YCAA5HCAD9owUAV6IEAOFOBgC8wgIAui0EAIvNBQDQ8QQAcjUHABnBCABfxwUAHsgJAPRVDADaBgcARhcFAAqaBQCsogUAyqQGAOCGDADTLAQASAkGAJVuCQDTXwgA\\u002fSMGAHuNBAAlaAgApA4GAMetBgBVRggADUgIALyPDACmLQQAA64KAJ6VBQBnIwgAIKAEAOJSBQA7VwwAEhoGAA6EBwCx7wUAPs0GAB6RCACeqQUAF\\u002foIAH+CCwC\\u002f6wcAfRMHAFIEBwDujgYAWisIAEUVCQDtXQcARs4GAGmKAwDnKgYAFJsHAHD0BQDoswkApCUGAJxlBwAxqAsAIz0EAGV0AwDQCgcAQ9kDAGMtCQBLagUAKTIHAM3bBABH+gYAKKwHABG3CwAcYQgAr3oHAEfzBQA0EQUAIwAIAKwDBQCUpQoA3kwDAALaAwA=\"},\"type\":\"box\",\"xaxis\":\"x3\",\"yaxis\":\"y3\"},{\"name\":\"S\\u00fcdstadt\",\"y\":{\"dtype\":\"i4\",\"bdata\":\"\\u002f3EEALKbBwB+MwUAlK4DABGyBQCe\\u002fAMA2ocEAIVjDwCjGgUAXogGAOpOBgDT6AUARY8EAO37BQAMOgYAI0gIAGYWBQCGXgQAfLQJADHvCAB+RwcA838GAIj8BAB9JgYAEh4HAOCCBAD8SQMAq20DAAtgBgCkEQMA6OIDAJsLBwAltw0A46oFAPlvBQAx+AIAId4DAC2ZBAAPfQUAzssDAJ98BwCBzAYA674LANzlBQAenQMAEaEFAJgABwDl6wUAL6wMAGNFBgC9CgcAr8MEABlSCAAn7AYA3bgIAPTdBgDYFgYA5+gDAHEECgBY3AcAMKIHAIrpBAA0swYAW2sFAIzmBAAxgQQAfk0EAJkQCgBSogYAldQDAGcbBgBnlAQAvwsGACJfBwDSGAUAWZAIAJF5CgD5cQgAE5QJAFj\\u002fBwB6rAYAEooEAP9fBgDcuQcAGm0HAHqPAwB9WwcA+\\u002f8DALJ+BQDV7QMAY84GAKVUDADWywYAMwcMAMFmBwBg5AQAHwwDAM6XCQDtzQIA12IGAKkzBQAU2QQAGzUFABW0AwBwbwYAP7sFABH+BgD+WgsADskJAL3EBgAK4AoAXskGANLFCgAbrAQAQloIAEg6BwDCfgcAYYAFAIVoDACVAAcAsIwDADdHBQAydAYAEhcEABnfBQBftgMAPR0LAEglBQBLUAQANcAIANIYBgBifggAD5cIAM3VBwCysQYAVkQEAHjVCQA47wMAEjIIAAJkCABbVQgA7CoDAPiyBAAFGgUAf2gKAK9xBgBfAAcAVOcEAKO9BgDXOgcAw+UMAOj1AwDRwQcAv40IAKLOBgDJZAkAYoYIABgeDQBOCAUAkDsHAIBXBwBRAAcANVIFAIahBgBG4gUAmXMNAPvpBQAk0wwApWwHAH4UBgDzzAgAw64IAKrcCQB3lQsA9SAFAC8zBgBLJQYAKXgFANRzBwDgjwcAR2ALAIKSCADxFAMAIHUGANxcCwAotQUA9isDAO8QDQD1HwcADAIIAHaeCgATSQYA8P8EAOmXBgBAlgUATDMJAAMHCwBzqgYAR6YGAKmACQCvzAQAxvQIACD4CABS5gMALOMGAFU9CgANMQUAgi4JAInPAQCMIgUAPgAEAEoMCwATvAMARlkNAPGqAwCtkQUAMK0KAJyRCACDhgQAnGELAJtzCQD9ogYAS+EIAOoNBQAvagQAsygJAC8rBgDmlAsAJQAKAEbzCwBpHwQAzW4DAL3XAwDG1AUAtcEIAPLKBAAfWQgADVQEAKc0BwC84AYA+cMGAAQKBwCxHQ0ANKQFAICaBQDbjwQA6Y0EAKZFBAC+rgcAN80IAISDCABasgsANegDABa0BQA=\"},\"type\":\"box\",\"xaxis\":\"x3\",\"yaxis\":\"y3\"},{\"name\":\"Innenstadt-West\",\"y\":{\"dtype\":\"i4\",\"bdata\":\"19AEAA\\u002fOBwCtXgoAZR8IANIbCgBeJgQAIwcGABBvBQDYdgUAutUGAIN+BAA1hgYAUJ4JAEncCwDH6QoAUMwFAHIAEwAJBAUA1xsLAFmyEgAyRgcAxLwDAPDkBgCbUAoArmgPAHnADACDPQsA6H0LAM3CBAAqFQsAEpsHAFmNCQB39gYAylYMAGGuBgBu1AoAcLIPAM8LCQD67hAATLQMAEqUBgDAVQQA9XAGAMYhDwCUnwwAA3EMAFCkCgByEQ4AnKwLAK+uBgBr+wsAECMHAOJNDwArEQkABPoLAH2jCwCxTREAgLoIANL6CgCePgwAWqwJAAurCgCLOwgAqGgFAA40BgAFNgkApFgHAAqmAwDh8wUA8rwEAHNsBwDo4wQAL+QHADQPCACMgAYAkOYJAJpPBwBNZgMAbocDAGA6CQC3SQwA78cIALWNCAA9+QcAICIIAJMlDQACTAoAem8JABDyCwDj0gQAZWANALssBABoFAkAQJADALeJDQAvggYApFwHAILcBQA4UAcAnhEHAM3DCADQPgkAxicGAN8DDQDBgAsA6t4KAMeOBACzRwcAZcAGADtjCQAbsAYAG\\u002f0EAO2jDwAywQUALPEIAFyOBQAnPQYA+P4FAFJtBABKsAQA2RwKAIasBwCbwgcA4KUIAMtdBQAEegYAJVYNAP2ZBgC5zAgAf0IIAFSABQDORQwAUUoEAM+rCAAGrAoAg1gFALwKCgBwMAgA78EGAP5+CACREw8A\"},\"type\":\"box\",\"xaxis\":\"x3\",\"yaxis\":\"y3\"},{\"name\":\"Durlach\",\"y\":{\"dtype\":\"i4\",\"bdata\":\"56cFAAWwCgCYBgUAy3YJAGdUBQB89wMAwNwEAGdeCABZDgUAypEMAI+0BwCQdAQANswCAHltCADFfQkAy6sFAFV1CABK4AUAkC0DABpzAwDp0ggAJU4DAFcWBwDlpwYA0ZcHAA3EBgB43QQAuTMMAHxVEAB5igQANpwGAAO1CACo5QQAkwQHANJfBAB1DgQArrYDAHBYBQDjOQcAwQAEAI1FBgCYLwkAeCgFALLwAgC6uQMAc7sGAB\\u002fJAgCGngsAxysEAOF2BwBeyAUAPn0EAIUiCwAUGgoACCwJAMI8BgDSCAUAO3IDALstCQB6OQgACQ8FAOh\\u002fCwDligMAITwDAEFyAwA55wkAR2UEABSnCQDR0QQAPqIHAJc+AwBaWQcApjgJAAYzBgCi9gYA1d0IAM\\u002fYAgDGjAIAsLUGAGLFBAAfKwMAXHUEAH0KBwCCngUAH8kBAIvqBQCsZAUACZcEANMnBgBz4QYAyA0EAE60AwDXagsAGTEGABwtBQBbqwUAlroJADhjBwAKqQQA6rYKALpyAwDM8gIA\\u002f4oDAJdoAwC+bAUA8okGAJMGBwDoowcAZuAGAC1nAwD37woAJvsGAFS1AgAY9QIA\"},\"type\":\"box\",\"xaxis\":\"x3\",\"yaxis\":\"y3\"},{\"name\":\"Oststadt\",\"y\":{\"dtype\":\"i4\",\"bdata\":\"C5gIAMEzBgCeFgQAxiQGALZfBQDFvggA9goFAATMBQAE9AcAjK0GAE+ICADtPggAfI8JAL1iBgB9CAcAp3MEAAGPAwATGQoAOEAMABf+CgAM0QQAzasDAII6AwCsQgUAgscDANEpBACJZQgApxEGAFa1AwD2WgUAPO4GAODZCAAVuwkASAcKAKHGBABjEQcASg0MALBOBwC3vAkAZbUEAHrbBgBmxQIAisMFAJReAgAfIAkAwRMGANlQCQAjSgsA7N4HAJP4AwAG7wMA7rcEAHKiCgDvkgcA2TsEACzCBAAgJAkAXXUFAByrCAD1xwYAHSEDAH6CBACPVwgAWs8DANDsCABpFAgA\"},\"type\":\"box\",\"xaxis\":\"x3\",\"yaxis\":\"y3\"},{\"name\":\"M\\u00fchlburg\",\"y\":{\"dtype\":\"i4\",\"bdata\":\"WnMJAJLGBgD9bQUAJT0GANrJBgDdEQcAP9gEAMInBADCFgUArKgDAFYXBABsswYAnR0EAOlkAwDGSwMAq+8DAEQwAgBl3wYA3cICAHkCBgB+xAgAVYcFADKQBgABjAMA9FgGANmUCQCS+AMALgIEAEDlAwAO0wMAKoEGAGSSBQATdAgAoawDAEm2AwCbhwUALWUDAEzYBwDVBgUAJZcCAB6bBQCbKwQAuv4GABL+BACKdgMA\"},\"type\":\"box\",\"xaxis\":\"x3\",\"yaxis\":\"y3\"},{\"marker\":{\"color\":{\"dtype\":\"f8\",\"bdata\":\"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\"},\"colorscale\":[[0.0,\"#440154\"],[0.1111111111111111,\"#482878\"],[0.2222222222222222,\"#3e4989\"],[0.3333333333333333,\"#31688e\"],[0.4444444444444444,\"#26828e\"],[0.5555555555555556,\"#1f9e89\"],[0.6666666666666666,\"#35b779\"],[0.7777777777777778,\"#6ece58\"],[0.8888888888888888,\"#b5de2b\"],[1.0,\"#fde725\"]],\"showscale\":true},\"mode\":\"markers\",\"name\":\"Properties\",\"x\":{\"dtype\":\"f8\",\"bdata\":\"AAAAAAAA+D8zMzMzMzMDQAAAAAAAAARAmpmZmZmZCUBmZmZmZmbmPzMzMzMzMwNAAAAAAAAABECamZmZmZkJQJqZmZmZmRlAMzMzMzMz8z+amZmZmZnxPwAAAAAAAABAZmZmZmZmEkDNzMzMzMwEQAAAAAAAAPg\\u002fzczMzMzMBEAzMzMzMzMDQGZmZmZmZgJAzczMzMzMDEAzMzMzMzP7P83MzMzMzBZAAAAAAAAAAEAzMzMzMzMLQAAAAAAAAARAMzMzMzMzA0AAAAAAAAAAQAAAAAAAAOA\\u002fmpmZmZmZEUCamZmZmZnpPzMzMzMzM\\u002fM\\u002fAAAAAAAAEkAzMzMzMzP7P83MzMzMzAhAzczMzMzM\\u002fD\\u002fNzMzMzMz0PwAAAAAAAARAmpmZmZmZEUAAAAAAAADwP5qZmZmZmfk\\u002fAAAAAAAA+D8zMzMzMzP7PzMzMzMzM\\u002fs\\u002fzczMzMzMAEDNzMzMzMwEQM3MzMzMzABAMzMzMzMzC0BmZmZmZmYGQGZmZmZmZgpAzczMzMzMFkAzMzMzMzP7PzMzMzMzM9M\\u002fMzMzMzMz+z\\u002fNzMzMzMwAQJqZmZmZmQVAzczMzMzMCEBmZmZmZmb2PzMzMzMzMxlAMzMzMzMz8z\\u002fNzMzMzMz0P2ZmZmZmZvY\\u002fMzMzMzMzB0DNzMzMzMwIQAAAAAAAAAhAzczMzMzM7D+amZmZmZkJQDMzMzMzMw9AAAAAAAAAEkAzMzMzMzPzPwAAAAAAABBAZmZmZmZmDkAAAAAAAAAEQM3MzMzMzABAmpmZmZmZCUBmZmZmZmb+P5qZmZmZmfk\\u002fzczMzMzMBECamZmZmZkVQM3MzMzMzOw\\u002fAAAAAAAACEAAAAAAAAD4PwAAAAAAAPg\\u002fMzMzMzMz0z8AAAAAAAAEQGZmZmZmZhZAAAAAAAAA+D+amZmZmZkBQJqZmZmZmQFAAAAAAAAA8D\\u002fNzMzMzMwWQGZmZmZmZg5AzczMzMzM7D\\u002fNzMzMzMwAQJqZmZmZmQlAzczMzMzMBECamZmZmZn5P83MzMzMzAhAzczMzMzM\\u002fD\\u002fNzMzMzMwIQGZmZmZmZhRAmpmZmZmZBUAAAAAAAAAEQJqZmZmZmfE\\u002fmpmZmZmZEUBmZmZmZmb+P5qZmZmZmQlAzczMzMzMCEDNzMzMzMwIQM3MzMzMzAhAMzMzMzMz+z9mZmZmZmYWQAAAAAAAAARAmpmZmZmZFUDNzMzMzMwIQGZmZmZmZuY\\u002fmpmZmZmZDUBmZmZmZmYGQAAAAAAAAPg\\u002fmpmZmZmZ8T\\u002fNzMzMzMz8PwAAAAAAAARAAAAAAAAAAEAAAAAAAAAYQGZmZmZmZvY\\u002fAAAAAAAA8D8AAAAAAAAAQGZmZmZmZuY\\u002fAAAAAAAAAEAzMzMzMzMHQAAAAAAAABhAAAAAAAAADEAAAAAAAAAAQGZmZmZmZgZAZmZmZmZmGEAAAAAAAAASQJqZmZmZmQVAZmZmZmZm\\u002fj8AAAAAAAAWQAAAAAAAAABAzczMzMzMAEDNzMzMzMz0PzMzMzMzM9M\\u002fmpmZmZmZAUBmZmZmZmb2PwAAAAAAABhAZmZmZmZmAkCamZmZmZnxPwAAAAAAAARAZmZmZmZmFkAAAAAAAAAMQGZmZmZmZvY\\u002fzczMzMzMAEAzMzMzMzPzPzMzMzMzM\\u002fs\\u002fMzMzMzMzFUAAAAAAAADgP5qZmZmZmfE\\u002fzczMzMzM7D+amZmZmZkVQGZmZmZmZgpAZmZmZmZmBkDNzMzMzMzsP2ZmZmZmZhBAZmZmZmZmCkAzMzMzMzP7PzMzMzMzM\\u002fs\\u002fZmZmZmZmEkCamZmZmZkVQM3MzMzMzABAAAAAAAAACEDNzMzMzMwEQM3MzMzMzPw\\u002fmpmZmZmZBUAAAAAAAAASQGZmZmZmZgpAMzMzMzMz8z\\u002fNzMzMzMwcQJqZmZmZmfE\\u002fmpmZmZmZEUCamZmZmZn5P83MzMzMzPQ\\u002fZmZmZmZmAkCamZmZmZn5P2ZmZmZmZgJAzczMzMzMCEDNzMzMzMwIQM3MzMzMzAxAzczMzMzMBEAzMzMzMzMTQJqZmZmZmfk\\u002fZmZmZmZmEECamZmZmZkFQAAAAAAAAPA\\u002fMzMzMzMzB0AzMzMzMzPzPwAAAAAAAPg\\u002fzczMzMzM\\u002fD\\u002fNzMzMzMwAQM3MzMzMzABAmpmZmZmZAUDNzMzMzMwYQDMzMzMzMxdAmpmZmZmZFUAzMzMzMzMDQM3MzMzMzPQ\\u002fZmZmZmZm\\u002fj8zMzMzMzPzP83MzMzMzPQ\\u002fZmZmZmZmHEDNzMzMzMz8PwAAAAAAAAxAAAAAAAAAEEAzMzMzMzP7P2ZmZmZmZv4\\u002fAAAAAAAADEAAAAAAAAAIQJqZmZmZmfE\\u002fZmZmZmZm\\u002fj8zMzMzMzMDQAAAAAAAABBAMzMzMzMz0z9mZmZmZmb2P83MzMzMzABAmpmZmZmZ6T8AAAAAAAAIQM3MzMzMzARAmpmZmZmZCUAAAAAAAAAEQJqZmZmZmQFAMzMzMzMzB0AAAAAAAAAIQJqZmZmZmQ1AzczMzMzMAEDNzMzMzMzsP5qZmZmZmdk\\u002fzczMzMzMCEAAAAAAAAAEQJqZmZmZmck\\u002fmpmZmZmZAUAAAAAAAAAUQM3MzMzMzABAmpmZmZmZuT9mZmZmZmYCQM3MzMzMzAxAzczMzMzM7D+amZmZmZkRQJqZmZmZmQ1AAAAAAAAAHkAAAAAAAAAQQDMzMzMzM\\u002fs\\u002fmpmZmZmZE0AAAAAAAAASQGZmZmZmZgJAAAAAAAAADEAzMzMzMzPzP2ZmZmZmZhJAzczMzMzMDECamZmZmZn5PzMzMzMzM\\u002fM\\u002fAAAAAAAACEAAAAAAAADwPzMzMzMzMwNAzczMzMzMAEBmZmZmZmYQQAAAAAAAAARAmpmZmZmZAUCamZmZmZnxPwAAAAAAABJAmpmZmZmZ+T8zMzMzMzMLQJqZmZmZmQFAzczMzMzM9D8zMzMzMzPzP5qZmZmZmek\\u002fzczMzMzMDEBmZmZmZmYOQDMzMzMzMxdAZmZmZmZmCkCamZmZmZkXQGZmZmZmZuY\\u002fAAAAAAAAEEDNzMzMzMwUQAAAAAAAABRAmpmZmZmZF0AzMzMzMzMZQGZmZmZmZuY\\u002fmpmZmZmZ+T\\u002fNzMzMzMz0P83MzMzMzAxAAAAAAAAAFkAAAAAAAAAEQGZmZmZmZgZAMzMzMzMzB0DNzMzMzMz8PwAAAAAAAOA\\u002fZmZmZmZm\\u002fj8zMzMzMzP7PzMzMzMzM\\u002fs\\u002fAAAAAAAA8D8zMzMzMzMPQAAAAAAAABBAMzMzMzMzA0CamZmZmZn5PzMzMzMzM\\u002fs\\u002fmpmZmZmZ2T8AAAAAAAAMQAAAAAAAABBAAAAAAAAAEEAAAAAAAAD4P2ZmZmZmZhBAZmZmZmZmBkAzMzMzMzP7PwAAAAAAABRAAAAAAAAAGEBmZmZmZmYCQJqZmZmZmfE\\u002fmpmZmZmZG0DNzMzMzMz8P83MzMzMzBBAMzMzMzMzE0BmZmZmZmYQQAAAAAAAAAxAmpmZmZmZ8T\\u002fNzMzMzMwMQGZmZmZmZuY\\u002fMzMzMzMz0z+amZmZmZnpPwAAAAAAAPA\\u002fAAAAAAAA+D\\u002fNzMzMzMwEQJqZmZmZmQ1AmpmZmZmZ+T8AAAAAAADwP2ZmZmZmZgJAAAAAAAAAEkAzMzMzMzP7PzMzMzMzM\\u002fM\\u002fAAAAAAAAAEAzMzMzMzPzP2ZmZmZmZgpAAAAAAAAABECamZmZmZkNQJqZmZmZmfk\\u002fzczMzMzMCEDNzMzMzMwAQM3MzMzMzPw\\u002fzczMzMzM9D8AAAAAAAAMQGZmZmZmZg5AAAAAAAAABEAAAAAAAAASQJqZmZmZmRdAMzMzMzMz4z8AAAAAAAD4P2ZmZmZmZgpAmpmZmZmZDUDNzMzMzMzsP83MzMzMzABAmpmZmZmZ+T8zMzMzMzP7PzMzMzMzMwNAZmZmZmZmCkAAAAAAAAD4P5qZmZmZmQVAmpmZmZmZ2T8zMzMzMzPTPzMzMzMzMxtAMzMzMzMz4z8zMzMzMzP7PzMzMzMzMwtAZmZmZmZmGEDNzMzMzMz0P5qZmZmZmRVAzczMzMzMAECamZmZmZkNQJqZmZmZmfk\\u002fMzMzMzMzFUDNzMzMzMwAQM3MzMzMzPw\\u002fZmZmZmZm9j9mZmZmZmb+PzMzMzMzM9M\\u002fAAAAAAAABEDNzMzMzMwEQJqZmZmZmRVAmpmZmZmZCUCamZmZmZkFQDMzMzMzMxFAAAAAAAAABEBmZmZmZmYGQJqZmZmZmfE\\u002fZmZmZmZmCkAAAAAAAAAUQM3MzMzMzARAMzMzMzMz+z+amZmZmZnpP5qZmZmZmQ1AZmZmZmZmBkCamZmZmZnJP2ZmZmZmZhJAMzMzMzMzFUAAAAAAAAAAQM3MzMzMzAhAmpmZmZmZE0BmZmZmZmb+P5qZmZmZmRVAAAAAAAAAHEDNzMzMzMz0P2ZmZmZmZv4\\u002fMzMzMzMz8z9mZmZmZmYKQGZmZmZmZv4\\u002fAAAAAAAAEkCamZmZmZkFQM3MzMzMzARAzczMzMzM\\u002fD8zMzMzMzMRQAAAAAAAAABAZmZmZmZmAkAzMzMzMzPzP2ZmZmZmZhZAAAAAAAAAAECamZmZmZkBQAAAAAAAAARAzczMzMzMDEAAAAAAAAAQQGZmZmZmZv4\\u002fMzMzMzMz0z8AAAAAAAAEQM3MzMzMzBhAmpmZmZmZ+T8AAAAAAAAAQGZmZmZmZgJAMzMzMzMz+z8AAAAAAAD4PwAAAAAAAARAMzMzMzMzA0AAAAAAAAAWQGZmZmZmZhZAAAAAAAAADEAzMzMzMzMHQJqZmZmZmQFAAAAAAAAAAEAAAAAAAADwPzMzMzMzMxdAzczMzMzMEECamZmZmZkbQAAAAAAAAARAMzMzMzMz+z8AAAAAAAAEQAAAAAAAAPg\\u002fzczMzMzMBECamZmZmZn5P5qZmZmZmQFAAAAAAAAA4D9mZmZmZmYKQM3MzMzMzBRAmpmZmZmZ+T\\u002fNzMzMzMwIQDMzMzMzM+M\\u002fMzMzMzMzHUCamZmZmZkXQAAAAAAAAPg\\u002fMzMzMzMz8z\\u002fNzMzMzMwAQDMzMzMzMwNAzczMzMzMAECamZmZmZkTQM3MzMzMzOw\\u002fmpmZmZmZ8T+amZmZmZnxPwAAAAAAAPA\\u002fAAAAAAAAAEDNzMzMzMwYQJqZmZmZmQFAzczMzMzMCEAAAAAAAADgPwAAAAAAAB5AAAAAAAAA+D+amZmZmZkFQDMzMzMzM\\u002fs\\u002fZmZmZmZm5j\\u002fNzMzMzMz0PzMzMzMzMwdAZmZmZmZmCkBmZmZmZmb2PwAAAAAAAAhAmpmZmZmZ8T8zMzMzMzMbQGZmZmZmZgZAZmZmZmZmBkCamZmZmZkBQM3MzMzMzPw\\u002fMzMzMzMz+z8AAAAAAAAAQM3MzMzMzARAZmZmZmZmAkBmZmZmZmb2P2ZmZmZmZuY\\u002fMzMzMzMz8z8AAAAAAAD4PwAAAAAAABhAZmZmZmZmBkAAAAAAAAAEQAAAAAAAAAhAMzMzMzMzD0CamZmZmZkVQAAAAAAAAABAMzMzMzMzA0AAAAAAAAAUQM3MzMzMzABAAAAAAAAABEAAAAAAAAAIQJqZmZmZmQFAzczMzMzM\\u002fD9mZmZmZmYGQDMzMzMzMxFAAAAAAAAAGEBmZmZmZmb+P2ZmZmZmZv4\\u002fAAAAAAAADECamZmZmZkJQAAAAAAAAPA\\u002fMzMzMzMzGUAAAAAAAAASQJqZmZmZmfE\\u002fzczMzMzMAEBmZmZmZmYCQAAAAAAAABJAAAAAAAAABEAAAAAAAAAAQM3MzMzMzARAzczMzMzMGkAzMzMzMzPzP2ZmZmZmZgZAzczMzMzM\\u002fD9mZmZmZmYKQAAAAAAAAABAzczMzMzM7D8zMzMzMzMLQGZmZmZmZgpAmpmZmZmZ8T9mZmZmZmYSQJqZmZmZmbk\\u002fzczMzMzM7D8zMzMzMzPzP2ZmZmZmZhBAMzMzMzMz8z8AAAAAAAAYQJqZmZmZmQlAmpmZmZmZAUAAAAAAAAD4PzMzMzMzM\\u002fs\\u002fmpmZmZmZ2T9mZmZmZmYSQM3MzMzMzPw\\u002fZmZmZmZm\\u002fj+amZmZmZn5P2ZmZmZmZgZAMzMzMzMzD0AzMzMzMzPzP2ZmZmZmZv4\\u002fzczMzMzMAEBmZmZmZmYKQJqZmZmZmbk\\u002fMzMzMzMz4z\\u002fNzMzMzMwAQAAAAAAAAPA\\u002fAAAAAAAA4D9mZmZmZmb+P83MzMzMzABAMzMzMzMz+z8zMzMzMzPzPzMzMzMzMwNAmpmZmZmZDUBmZmZmZmYQQGZmZmZmZhRAZmZmZmZmFkBmZmZmZmb+PzMzMzMzMwdAmpmZmZmZCUBmZmZmZmYOQDMzMzMzMwtAmpmZmZmZAUDNzMzMzMwAQM3MzMzMzARAAAAAAAAACEBmZmZmZmb+PwAAAAAAAABAZmZmZmZmCkBmZmZmZmb2P5qZmZmZmfE\\u002fZmZmZmZmAkAAAAAAAAAIQDMzMzMzMwdAZmZmZmZmAkCamZmZmZkJQDMzMzMzMwNAMzMzMzMzD0AAAAAAAAAQQAAAAAAAAARAmpmZmZmZFUBmZmZmZmb2P5qZmZmZmfE\\u002fmpmZmZmZDUAzMzMzMzMLQJqZmZmZmfk\\u002fZmZmZmZmBkBmZmZmZmYGQAAAAAAAAABAMzMzMzMzF0BmZmZmZmYQQDMzMzMzM\\u002fs\\u002fmpmZmZmZ6T+amZmZmZn5P2ZmZmZmZvY\\u002fzczMzMzMEEDNzMzMzMwMQM3MzMzMzPw\\u002fzczMzMzMGkAAAAAAAAAQQDMzMzMzMwdAZmZmZmZm\\u002fj9mZmZmZmYCQM3MzMzMzAhAzczMzMzMAEBmZmZmZmYSQJqZmZmZmQ1AmpmZmZmZyT+amZmZmZkBQGZmZmZmZgJAzczMzMzM7D8zMzMzMzPjPwAAAAAAAAhAzczMzMzM9D\\u002fNzMzMzMwMQAAAAAAAAPA\\u002fmpmZmZmZDUBmZmZmZmYOQJqZmZmZmQFAmpmZmZmZ8T\\u002fNzMzMzMz0P83MzMzMzBRAzczMzMzMBECamZmZmZkBQGZmZmZmZgZAzczMzMzMEkAzMzMzMzMLQAAAAAAAAAhAmpmZmZmZ+T9mZmZmZmYKQJqZmZmZmRFAAAAAAAAA+D\\u002fNzMzMzMz8P5qZmZmZmQVAMzMzMzMz+z\\u002fNzMzMzMwAQM3MzMzMzOw\\u002fAAAAAAAABEAzMzMzMzP7P83MzMzMzARAmpmZmZmZAUAAAAAAAAAQQGZmZmZmZgJAzczMzMzMAECamZmZmZkBQDMzMzMzMxNAmpmZmZmZDUCamZmZmZnxP2ZmZmZmZv4\\u002fAAAAAAAA+D8zMzMzMzMZQJqZmZmZmek\\u002fmpmZmZmZCUBmZmZmZmYCQDMzMzMzMwdAAAAAAAAABEBmZmZmZmYOQGZmZmZmZuY\\u002fZmZmZmZmBkAzMzMzMzMHQJqZmZmZmQ1AmpmZmZmZCUBmZmZmZmYCQDMzMzMzMxFAmpmZmZmZAUAAAAAAAAAUQGZmZmZmZgZAmpmZmZmZGUAAAAAAAAAAQM3MzMzMzPQ\\u002fMzMzMzMzC0AAAAAAAAAAQDMzMzMzMxVAmpmZmZmZCUAzMzMzMzMRQM3MzMzMzABAzczMzMzMAEDNzMzMzMwQQJqZmZmZmQVAAAAAAAAA+D9mZmZmZmYSQJqZmZmZmQ1AmpmZmZmZ2T9mZmZmZmbmP83MzMzMzPQ\\u002fZmZmZmZmBkAAAAAAAAD4P2ZmZmZmZv4\\u002fzczMzMzMEEAzMzMzMzPzPzMzMzMzMxlAAAAAAAAAFECamZmZmZkBQAAAAAAAAARAAAAAAAAAAEDNzMzMzMz8P83MzMzMzPw\\u002fzczMzMzM\\u002fD9mZmZmZmb+P2ZmZmZmZv4\\u002fZmZmZmZmCkAzMzMzMzMLQGZmZmZmZvY\\u002fMzMzMzMzA0AAAAAAAAAIQJqZmZmZmek\\u002fzczMzMzM7D8AAAAAAAAAQAAAAAAAAPg\\u002fMzMzMzMz0z8zMzMzMzP7PzMzMzMzMwtAZmZmZmZmAkBmZmZmZmYKQM3MzMzMzBBAMzMzMzMz8z\\u002fNzMzMzMzsP83MzMzMzAhAMzMzMzMzB0DNzMzMzMwMQM3MzMzMzPQ\\u002fZmZmZmZm\\u002fj8AAAAAAAAWQM3MzMzMzPw\\u002fzczMzMzMBEBmZmZmZmYKQAAAAAAAABJAZmZmZmZm\\u002fj\\u002fNzMzMzMz8P83MzMzMzABAzczMzMzMCEDNzMzMzMwAQJqZmZmZmfk\\u002fMzMzMzMz0z+amZmZmZkJQDMzMzMzMw9AAAAAAAAABEDNzMzMzMwIQGZmZmZmZgJAAAAAAAAA+D9mZmZmZmb+P83MzMzMzBBAzczMzMzMCEBmZmZmZmb+PzMzMzMzMwdAzczMzMzMAEAzMzMzMzMPQM3MzMzMzPQ\\u002fmpmZmZmZCUAAAAAAAAD4PzMzMzMzMwNAMzMzMzMz4z8zMzMzMzMHQGZmZmZmZgJAZmZmZmZmEEAAAAAAAAAAQAAAAAAAAAhAmpmZmZmZ8T9mZmZmZmb+P83MzMzMzPQ\\u002fmpmZmZmZBUAAAAAAAADgPwAAAAAAAPA\\u002fmpmZmZmZE0BmZmZmZmYCQDMzMzMzM\\u002fM\\u002fzczMzMzM9D\\u002fNzMzMzMwWQAAAAAAAABhAMzMzMzMz8z+amZmZmZnxPzMzMzMzM\\u002fs\\u002fZmZmZmZmEEAAAAAAAAAWQGZmZmZmZgpAZmZmZmZm\\u002fj\\u002fNzMzMzMwIQM3MzMzMzPQ\\u002fmpmZmZmZAUDNzMzMzMz8PwAAAAAAAAhAMzMzMzMz8z8zMzMzMzMDQGZmZmZmZgZAzczMzMzMBECamZmZmZkFQAAAAAAAAARAmpmZmZmZAUDNzMzMzMz8P83MzMzMzAhAZmZmZmZm9j8AAAAAAAAAQDMzMzMzM\\u002fM\\u002fAAAAAAAADEAzMzMzMzP7PwAAAAAAAABAZmZmZmZmBkDNzMzMzMz8PzMzMzMzMxNAMzMzMzMzB0AzMzMzMzMLQDMzMzMzMwtAmpmZmZmZBUAzMzMzMzMPQGZmZmZmZhZAMzMzMzMzA0BmZmZmZmb2P83MzMzMzOw\\u002fAAAAAAAA+D+amZmZmZkTQGZmZmZmZhpAZmZmZmZm\\u002fj+amZmZmZkZQJqZmZmZmQVAMzMzMzMz8z\\u002fNzMzMzMz0PzMzMzMzMwdAzczMzMzMAEAAAAAAAAAAQJqZmZmZmQFAMzMzMzMz+z\\u002fNzMzMzMzsPzMzMzMzM\\u002fs\\u002fzczMzMzMEEBmZmZmZmYCQAAAAAAAAPA\\u002fmpmZmZmZ8T8zMzMzMzPzPzMzMzMzM9M\\u002fZmZmZmZm5j\\u002fNzMzMzMzsP2ZmZmZmZgJAAAAAAAAA+D8AAAAAAADgP2ZmZmZmZgZAZmZmZmZm9j+amZmZmZkBQJqZmZmZmfk\\u002fMzMzMzMzB0DNzMzMzMz0PzMzMzMzM\\u002fs\\u002fzczMzMzM\\u002fD8zMzMzMzMDQAAAAAAAAPA\\u002fmpmZmZmZAUAAAAAAAADwPwAAAAAAABpAmpmZmZmZF0AzMzMzMzMHQM3MzMzMzABAzczMzMzMCEAzMzMzMzPzP5qZmZmZmdk\\u002fzczMzMzMBEAzMzMzMzMHQGZmZmZmZv4\\u002fzczMzMzMIECamZmZmZkBQJqZmZmZmfk\\u002fMzMzMzMz+z\\u002fNzMzMzMwMQDMzMzMzM9M\\u002fmpmZmZmZBUBmZmZmZmb+P2ZmZmZmZgZAZmZmZmZmIECamZmZmZn5P2ZmZmZmZhJAZmZmZmZmEEDNzMzMzMwAQDMzMzMzMwNAMzMzMzMz8z\\u002fNzMzMzMwAQGZmZmZmZgJAZmZmZmZmBkAAAAAAAAAMQDMzMzMzMwdAmpmZmZmZBUAzMzMzMzMZQJqZmZmZmck\\u002fzczMzMzM\\u002fD9mZmZmZmYGQGZmZmZmZgJAmpmZmZmZE0DNzMzMzMz8P5qZmZmZmQVAAAAAAAAABEBmZmZmZmYGQAAAAAAAAPg\\u002fzczMzMzM9D\\u002fNzMzMzMz8PwAAAAAAAAhAMzMzMzMzD0AzMzMzMzMHQJqZmZmZmQ1AMzMzMzMz+z\\u002fNzMzMzMz8PwAAAAAAABRAAAAAAAAABEAAAAAAAAAEQGZmZmZmZvY\\u002fAAAAAAAAAEBmZmZmZmYWQGZmZmZmZvY\\u002fAAAAAAAAEEAzMzMzMzMPQGZmZmZmZhBAzczMzMzMCEBmZmZmZmYKQJqZmZmZmQVAZmZmZmZmCkAzMzMzMzMRQAAAAAAAAPg\\u002fMzMzMzMzD0CamZmZmZkBQJqZmZmZmQlAAAAAAAAA+D9mZmZmZmb+P83MzMzMzBBAMzMzMzMz+z+amZmZmZkJQJqZmZmZmfk\\u002fzczMzMzMBEBmZmZmZmb2PwAAAAAAAARAZmZmZmZm9j8AAAAAAAAEQM3MzMzMzAhAAAAAAAAACECamZmZmZn5PwAAAAAAAPA\\u002fMzMzMzMzB0DNzMzMzMwIQDMzMzMzMwNAzczMzMzMCEDNzMzMzMwQQGZmZmZmZg5AmpmZmZmZ6T+amZmZmZkBQDMzMzMzM\\u002fM\\u002fmpmZmZmZAUDNzMzMzMwQQAAAAAAAAAhAAAAAAAAA8D8zMzMzMzMPQJqZmZmZmek\\u002fAAAAAAAA+D8zMzMzMzMHQAAAAAAAAABAmpmZmZmZDUBmZmZmZmYCQM3MzMzMzPQ\\u002fmpmZmZmZAUDNzMzMzMz0PwAAAAAAAAhAmpmZmZmZEUAAAAAAAADwP2ZmZmZmZvY\\u002fAAAAAAAABECamZmZmZkFQM3MzMzMzARAmpmZmZmZ+T8AAAAAAAD4P5qZmZmZmfk\\u002fmpmZmZmZFUAAAAAAAAAQQGZmZmZmZgJAZmZmZmZm9j+amZmZmZkJQM3MzMzMzBRAzczMzMzMAECamZmZmZn5P83MzMzMzPw\\u002fmpmZmZmZ6T8AAAAAAAAYQDMzMzMzMw9AAAAAAAAABECamZmZmZkRQAAAAAAAAARAZmZmZmZm9j8=\"},\"y\":{\"dtype\":\"i4\",\"bdata\":\"\\u002f3EEABOfAwCymwcA4\\u002fwFANfQBAAMbQYAfjMFAI21BgDnpwUAC5gIAJSuAwARsgUABbAKAMEZAwDBMwYAC\\u002f4HAEdYBgCe\\u002fAMAv4AGAA\\u002fOBwCYBgUA610KAOOwDQBySgYABFsOANqHBACeFgQAy3YJAK1eCgCFYw8AZ1QFAKMaBQBoTAYAXogGAOpOBgDT6AUARY8EAKQcBwDt+wUADDoGACR9CABlHwgAI0gIAKcZBgDSGwoAzjMDAEGDBQD5vQcAfPcDAF4mBADYKQkAZhYFAIZeBADGJAYAWnMJAHy0CQDA3AQAZvgEADHvCAAjBwYAfkcHAPN\\u002fBgCQLA0AONsFAHXXBgCI\\u002fAQAfSYGALS0CABnXggATqEEAMJYBwASHgcAZE4KALT3AwDKTQUAV+oEAFkOBQDgggQAEG8FAPxJAwC2XwUA2HYFAPzjBADKkQwALswJAI+jBgC61QYAxb4IAI+0BwCDfgQA9goFAPgJBQAkBhQAq20DADWGBgCYKQoAUJ4JAJSzBQAFsA0AGqAHAP9EBQAxZAUAJSMLAAtgBgANRQsASdwLAGcWCADBEQQABMwFAJB0BADlgAcANswCAP8+BQAE9AcApBEDAOjiAwCMrQYA4r4HAMfpCgDHIgYAmwsHAHltCADHmAgAUMwFAJLOBgByABMAksYGAKSLBQDFfQkAMGkEAB\\u002fFBAAltw0Ay6sFAFV1CADaawIAYOoRAErgBQAJBAUA46oFAM\\u002f4CQCk3gUA+W8FADH4AgCQLQMAId4DANcbCwAtmQQAGnMDAP\\u002fFBgD6yQgAdW8JAMiOAwAPfQUA6dIIALOuAwAPqwgAT4gIACVOAwD+Ng0AzssDAJ98BwBfpwUAkOAEAIHMBgDrvgsA\\u002fW0FAFcWBwBZshIAnhoKANzlBQAyRgcAA7gDAFY6CAA6KgcAHp0DAOWnBgARoQUANhkIAJgABwDl6wUADTkHAMS8AwDR8wcAL6wMAFLgBADw5AYArcsFANGXBwBjRQYAfBQGAL0KBwAg5goAk2AGAGTbBgCbUAoArmgPAOdXCgCbhgYA7T4IAA3EBgB43QQAuTMMAP2mBQDxTA4AecAMACU9BgB8jwkAfFUQAK\\u002fDBADNnwsA0sUIAIM9CwASMggABBgDAOWZAwDofQsA5zEHAOX2BQDaqQYAzcIEACoVCwAZUggAJ+wGADRfBABnOwQA2skGAC96BgDbFQkA3gEHAK\\u002fuBgDdEQcAbCIOAKxcCQDduAgANWEJAPTdBgASmwcAWY0JAHmKBADYFgYAd\\u002fYGAB6iCQB6pgMAylYMADacBgDAMAUAA7UIAAAXBgBhrgYAptUJAD8ECAC9YgYA5+gDAH0IBwAntAYApGEIAHEECgCncwQAx30JAG7UCgABjwMAWNwHAHdOCwA\\u002f2AQAMKIHAOI5BgDCJwQAiukEAOTtCQA0swYAW2sFAIzmBAATGQoAumcKAMIWBQCo5QQArxIGAJMEBwBwsg8AijUDANJfBAB1DgQArrYDAKyoAwAxgQQAfk0EAM8LCQBwWAUA4zkHAMFOCgBWFwQAnb8CAJkQCgBSogYA+u4QAJXUAwBnGwYATLQMAOxnCQBv1AkAWhYPAGyzBgBnlAQAOEAMANC8BQDBAAQAH0gHAL8LBgCNRQYAIl8HADTZBQAMrgYAmC8JAHPfCgDSGAUAeCgFAB4GCgD\\u002fqgQAWZAIADJoCwCqaAYAkXkKAJ0dBAD5cQgASpQGAMBVBAATlAkAWP8HAHqsBgDC6wQA9XAGAMYhDwBGhQUAMWcHABKKBACUnwwAA3EMAP9fBgDcuQcAGywFAE22BgBQpAoAYIMOAOlkAwAabQcAF\\u002f4KAHqPAwBORQcAPHYMAFTEBwCy8AIAfVsHAPv\\u002fAwAc4wcAVCEFABS7AwByEQ4AnKwLAJjfBgCI1Q8A+Y0GALJ+BQDV7QMAY84GAKVUDAC6uQMA9Z4MAAzRBAAPYQ4Ac7sGALJ0BQAfyQIAN+IHAH23BwBktQUAhp4LANbLBgDNqwMAMwcMAK+uBgDBZgcAxksDAGDkBADHKwQAq+8DAIeXBABEMAIArgIMAENzBAAfDAMAp44EAOF2BwD6LQMAzpcJAO3NAgAi9goA12IGAGv7CwBeyAUAiLEHAKkzBQAQIwcAPn0EAOJNDwCFIgsAFBoKAIZ1CABl3wYAgjoDAAtlCQAU2QQARu8JABs1BQArEQkAGEIHACvuAgBGSQQAFbQDANFrDAAILAkAcG8GAAT6CwA\\u002fuwUAu8oLAIQ7BAAR\\u002fgYAfaMLAN3tBQDCPAYAsU0RAIC6CAD+WgsAJFEGAKxCBQDjoQYAgCMFANIIBQDAdwYASsoKAFMeDQDS+goADskJAJ4+DAA7cgMAuy0JAHo5CABarAkAC6sKAL3EBgAK4AoAXskGABw8CwCLOwgAqGgFAPSFBgCa6gsADjQGAILHAwAFNgkACQ8FAOh\\u002fCwDSxQoA0SkEAKRYBwAKpgMAG6wEAN3CAgDh8wUA8rwEAOuaCwBCWggASDoHAOWKAwDCfgcAYYAFAIVoDAAhPAMA6\\u002fgGAATABACVAAcAiWUIAPptAwAoqgYAnWMHAPkCCwBPjggAsIwDAEFyAwA3RwUAc2wHADJ0BgASFwQAGd8FAG+MBwBnSg4A6OMEAF+2AwDMnAoAL+QHALhNCAA55wkANA8IAD0dCwA6xggAeQIGAEdlBAAetgQAF+UIABSnCQBeeQYAx28FANfZBABIJQUApxEGAEtQBACusgQA0dEEADXACADiCAcA0hgGAC8kBACMgAYAPqIHAIORBABifggANQYKAM+xBQCXPgMAD5cIAJDmCQBeywoAWlkHABL4BQDN1QcAsrEGAKccBgA9MQgAVrUDAKY4CQCaTwcA9loFAAYzBgBWRAQAeNUJADjvAwAUvgsATWYDAKL2BgA5+wUAeEwMAGuLCgCVfwgAbocDAIY0CAA87gYA4NkIAGA6CQAztgUA1d0IAGO+CwDHfQgAOnsHABIyCAACZAgAt0kMAFtVCADcQgUAFbsJAEgHCgDvxwgAfsQIAOwqAwBGJAgAtY0IAJL1CwDP2AIAxowCAPiyBAAMEggAocYEAFWHBQAFGgUAYxEHAGkMAwAgcQQAMpAGAORxCQB\\u002faAoAr3EGAF8ABwDcogMABv4HAFTnBAByCQcAo70GANc6BwA9+QcAKTMFAAOKCgABjAMAsLUGAKCDBwAgIggAw+UMAOj1AwBpjgUA6aoJAJMlDQDGgggAYsUEAB8rAwBKDQwAAkwKANHBBwCJ1wMAMbEFANGqBQC\\u002fjQgAXHUEAFfDCADSKwcAMOoHAHpvCQD0WAYAsE4HAGz5CgDZlAkAt7wJAP9QCwDfSA8AEPILAOPSBABltQQAJQAJAM\\u002fKDACizgYAkvgDAHUqBwAe5gQAetsGAGVgDQB9CgcA0jAFAIGaBQDJZAkAgp4FAB\\u002fJAQBihggAGB4NADh6BgBOCAUA6JcEALssBABoFAkABcQKAFsPCACQOwcAv18GAECQAwCAVwcAKNsGAC4CBABRAAcAt4kNAEFnBgBmzwYAi+oFADVSBQBmxQIAhqEGAKxkBQD59wQApDkGAIrDBQAXeAgARuIFAJlzDQAvggYAyzUDAPvpBQAk0wwACpINAB4BBwB4WAQApWwHAAmXBAB+FAYA0ycGAB77AwCkXAcAQOUDAPPMCABz4QYAtyoLAILcBQDDrggACRINAKrcCQAHqgQAOFAHAEGkCQCUXgIAd5ULAA7TAwD1IAUAKoEGADqGBQALGAYAyA0EAB8gCQBOtAMAZJIFAMETBgDZUAkAnhEHAC8zBgDNwwgA9vwMACQeBwATdAgASyUGAL6cCAD52wsAKXgFANA+CQAjSgsAxicGAN8DDQDUcwcA7oAHALJ3CQDgjwcA7N4HAMwLBgAAGwYA7ZUEAB8dDwDBgAsAR2ALAOreCgCCkggAx44EANdqCwChrAMA8RQDAAPXAwAZMQYAIHUGANxcCwAotQUA9isDAI6PBQC92AsAk\\u002fgDAO8QDQA0ywUA9R8HAKtKCAAG7wMA7rcEAD\\u002fzCgBpgQoAcqIKALNHBwBdzwcADAIIAHaeCgATSQYAZcAGADtjCQDw\\u002fwQAG7AGAOmXBgBAlgUASbYDABv9BABMMwkA7aMPAAMHCwAywQUAc6oGAEemBgB4ZwcAHC0FACzxCADvkgcA1UUJAFurBQCWugkAqYAJAFyOBQCvzAQAsswFAMb0CADo2AUA2TsEADIkBwAswgQAO+oFAMQeCQBgwAIAIPgIAP6ACwCocAYAq9YCAA5HCAD9owUAUuYDAFeiBAAgJAkAJz0GAJuHBQAs4wYA4U4GAFU9CgD4\\u002fgUAvMICAA0xBQC6LQQAi80FANDxBAByNQcAgi4JABnBCAA4YwcAic8BAIwiBQBfxwUAHsgJAAqpBADqtgoAPgAEALpyAwD0VQwAUm0EAEqwBADaBgcA2RwKAEoMCwATvAMARhcFAC1lAwBddQUACpoFAKyiBQCGrAcARlkNAByrCACbwgcAyqQGAOCGDADxqgMArZEFAPXHBgDgpQgA0ywEAEgJBgDLXQUAlW4JAB0hAwAwrQoA018IAP0jBgCckQgAg4YEAAR6BgDM8gIA\\u002f4oDAHuNBACcYQsAJVYNACVoCAD9mQYApA4GAJtzCQC5zAgAl2gDAP2iBgB\\u002fQggAVIAFAMetBgB+ggQAS+EIAFVGCAANSAgAvmwFAOoNBQDyiQYAkwYHAM5FDAAvagQAsygJAC8rBgBM2AcAvI8MAOijBwDVBgUApi0EAGbgBgDmlAsAA64KACWXAgAlAAoAnpUFAI9XCABG8wsAZyMIAGkfBAAgoAQA4lIFAFFKBABazwMAO1cMABIaBgAOhAcAse8FAM+rCAA+zQYAHpEIAJ6pBQAGrAoAzW4DAC1nAwAX+ggAvdcDAH+CCwC\\u002f6wcAHpsFAMbUBQC1wQgAfRMHAFIEBwDujgYAWisIAJsrBABFFQkA7V0HAEbOBgBpigMA5yoGAINYBQAUmwcA0OwIAPLKBAAfWQgAcPQFAA1UBADoswkApCUGAKc0BwC84AYA+cMGALr+BgCcZQcAMagLACM9BABldAMA0AoHALwKCgBD2QMAYy0JABL+BABLagUAcDAIACkyBwAECgcAsR0NADSkBQCKdgMAzdsEAICaBQDbjwQA6Y0EAKZFBAD37woAR\\u002foGACisBwBpFAgAvq4HABG3CwAcYQgAN80IAO\\u002fBBgCvegcAJvsGAP5+CACEgwgAR\\u002fMFADQRBQBUtQIAIwAIAFqyCwCsAwUAkRMPABj1AgCUpQoA3kwDAALaAwA16AMAFrQFAA==\"},\"type\":\"scatter\",\"xaxis\":\"x4\",\"yaxis\":\"y4\"}],                        {\"template\":{\"data\":{\"histogram2dcontour\":[{\"type\":\"histogram2dcontour\",\"colorbar\":{\"outlinewidth\":0,\"ticks\":\"\"},\"colorscale\":[[0.0,\"#0d0887\"],[0.1111111111111111,\"#46039f\"],[0.2222222222222222,\"#7201a8\"],[0.3333333333333333,\"#9c179e\"],[0.4444444444444444,\"#bd3786\"],[0.5555555555555556,\"#d8576b\"],[0.6666666666666666,\"#ed7953\"],[0.7777777777777778,\"#fb9f3a\"],[0.8888888888888888,\"#fdca26\"],[1.0,\"#f0f921\"]]}],\"choropleth\":[{\"type\":\"choropleth\",\"colorbar\":{\"outlinewidth\":0,\"ticks\":\"\"}}],\"histogram2d\":[{\"type\":\"histogram2d\",\"colorbar\":{\"outlinewidth\":0,\"ticks\":\"\"},\"colorscale\":[[0.0,\"#0d0887\"],[0.1111111111111111,\"#46039f\"],[0.2222222222222222,\"#7201a8\"],[0.3333333333333333,\"#9c179e\"],[0.4444444444444444,\"#bd3786\"],[0.5555555555555556,\"#d8576b\"],[0.6666666666666666,\"#ed7953\"],[0.7777777777777778,\"#fb9f3a\"],[0.8888888888888888,\"#fdca26\"],[1.0,\"#f0f921\"]]}],\"heatmap\":[{\"type\":\"heatmap\",\"colorbar\":{\"outlinewidth\":0,\"ticks\":\"\"},\"colorscale\":[[0.0,\"#0d0887\"],[0.1111111111111111,\"#46039f\"],[0.2222222222222222,\"#7201a8\"],[0.3333333333333333,\"#9c179e\"],[0.4444444444444444,\"#bd3786\"],[0.5555555555555556,\"#d8576b\"],[0.6666666666666666,\"#ed7953\"],[0.7777777777777778,\"#fb9f3a\"],[0.8888888888888888,\"#fdca26\"],[1.0,\"#f0f921\"]]}],\"contourcarpet\":[{\"type\":\"contourcarpet\",\"colorbar\":{\"outlinewidth\":0,\"ticks\":\"\"}}],\"contour\":[{\"type\":\"contour\",\"colorbar\":{\"outlinewidth\":0,\"ticks\":\"\"},\"colorscale\":[[0.0,\"#0d0887\"],[0.1111111111111111,\"#46039f\"],[0.2222222222222222,\"#7201a8\"],[0.3333333333333333,\"#9c179e\"],[0.4444444444444444,\"#bd3786\"],[0.5555555555555556,\"#d8576b\"],[0.6666666666666666,\"#ed7953\"],[0.7777777777777778,\"#fb9f3a\"],[0.8888888888888888,\"#fdca26\"],[1.0,\"#f0f921\"]]}],\"surface\":[{\"type\":\"surface\",\"colorbar\":{\"outlinewidth\":0,\"ticks\":\"\"},\"colorscale\":[[0.0,\"#0d0887\"],[0.1111111111111111,\"#46039f\"],[0.2222222222222222,\"#7201a8\"],[0.3333333333333333,\"#9c179e\"],[0.4444444444444444,\"#bd3786\"],[0.5555555555555556,\"#d8576b\"],[0.6666666666666666,\"#ed7953\"],[0.7777777777777778,\"#fb9f3a\"],[0.8888888888888888,\"#fdca26\"],[1.0,\"#f0f921\"]]}],\"mesh3d\":[{\"type\":\"mesh3d\",\"colorbar\":{\"outlinewidth\":0,\"ticks\":\"\"}}],\"scatter\":[{\"fillpattern\":{\"fillmode\":\"overlay\",\"size\":10,\"solidity\":0.2},\"type\":\"scatter\"}],\"parcoords\":[{\"type\":\"parcoords\",\"line\":{\"colorbar\":{\"outlinewidth\":0,\"ticks\":\"\"}}}],\"scatterpolargl\":[{\"type\":\"scatterpolargl\",\"marker\":{\"colorbar\":{\"outlinewidth\":0,\"ticks\":\"\"}}}],\"bar\":[{\"error_x\":{\"color\":\"#2a3f5f\"},\"error_y\":{\"color\":\"#2a3f5f\"},\"marker\":{\"line\":{\"color\":\"#E5ECF6\",\"width\":0.5},\"pattern\":{\"fillmode\":\"overlay\",\"size\":10,\"solidity\":0.2}},\"type\":\"bar\"}],\"scattergeo\":[{\"type\":\"scattergeo\",\"marker\":{\"colorbar\":{\"outlinewidth\":0,\"ticks\":\"\"}}}],\"scatterpolar\":[{\"type\":\"scatterpolar\",\"marker\":{\"colorbar\":{\"outlinewidth\":0,\"ticks\":\"\"}}}],\"histogram\":[{\"marker\":{\"pattern\":{\"fillmode\":\"overlay\",\"size\":10,\"solidity\":0.2}},\"type\":\"histogram\"}],\"scattergl\":[{\"type\":\"scattergl\",\"marker\":{\"colorbar\":{\"outlinewidth\":0,\"ticks\":\"\"}}}],\"scatter3d\":[{\"type\":\"scatter3d\",\"line\":{\"colorbar\":{\"outlinewidth\":0,\"ticks\":\"\"}},\"marker\":{\"colorbar\":{\"outlinewidth\":0,\"ticks\":\"\"}}}],\"scattermap\":[{\"type\":\"scattermap\",\"marker\":{\"colorbar\":{\"outlinewidth\":0,\"ticks\":\"\"}}}],\"scattermapbox\":[{\"type\":\"scattermapbox\",\"marker\":{\"colorbar\":{\"outlinewidth\":0,\"ticks\":\"\"}}}],\"scatterternary\":[{\"type\":\"scatterternary\",\"marker\":{\"colorbar\":{\"outlinewidth\":0,\"ticks\":\"\"}}}],\"scattercarpet\":[{\"type\":\"scattercarpet\",\"marker\":{\"colorbar\":{\"outlinewidth\":0,\"ticks\":\"\"}}}],\"carpet\":[{\"aaxis\":{\"endlinecolor\":\"#2a3f5f\",\"gridcolor\":\"white\",\"linecolor\":\"white\",\"minorgridcolor\":\"white\",\"startlinecolor\":\"#2a3f5f\"},\"baxis\":{\"endlinecolor\":\"#2a3f5f\",\"gridcolor\":\"white\",\"linecolor\":\"white\",\"minorgridcolor\":\"white\",\"startlinecolor\":\"#2a3f5f\"},\"type\":\"carpet\"}],\"table\":[{\"cells\":{\"fill\":{\"color\":\"#EBF0F8\"},\"line\":{\"color\":\"white\"}},\"header\":{\"fill\":{\"color\":\"#C8D4E3\"},\"line\":{\"color\":\"white\"}},\"type\":\"table\"}],\"barpolar\":[{\"marker\":{\"line\":{\"color\":\"#E5ECF6\",\"width\":0.5},\"pattern\":{\"fillmode\":\"overlay\",\"size\":10,\"solidity\":0.2}},\"type\":\"barpolar\"}],\"pie\":[{\"automargin\":true,\"type\":\"pie\"}]},\"layout\":{\"autotypenumbers\":\"strict\",\"colorway\":[\"#636efa\",\"#EF553B\",\"#00cc96\",\"#ab63fa\",\"#FFA15A\",\"#19d3f3\",\"#FF6692\",\"#B6E880\",\"#FF97FF\",\"#FECB52\"],\"font\":{\"color\":\"#2a3f5f\"},\"hovermode\":\"closest\",\"hoverlabel\":{\"align\":\"left\"},\"paper_bgcolor\":\"white\",\"plot_bgcolor\":\"#E5ECF6\",\"polar\":{\"bgcolor\":\"#E5ECF6\",\"angularaxis\":{\"gridcolor\":\"white\",\"linecolor\":\"white\",\"ticks\":\"\"},\"radialaxis\":{\"gridcolor\":\"white\",\"linecolor\":\"white\",\"ticks\":\"\"}},\"ternary\":{\"bgcolor\":\"#E5ECF6\",\"aaxis\":{\"gridcolor\":\"white\",\"linecolor\":\"white\",\"ticks\":\"\"},\"baxis\":{\"gridcolor\":\"white\",\"linecolor\":\"white\",\"ticks\":\"\"},\"caxis\":{\"gridcolor\":\"white\",\"linecolor\":\"white\",\"ticks\":\"\"}},\"coloraxis\":{\"colorbar\":{\"outlinewidth\":0,\"ticks\":\"\"}},\"colorscale\":{\"sequential\":[[0.0,\"#0d0887\"],[0.1111111111111111,\"#46039f\"],[0.2222222222222222,\"#7201a8\"],[0.3333333333333333,\"#9c179e\"],[0.4444444444444444,\"#bd3786\"],[0.5555555555555556,\"#d8576b\"],[0.6666666666666666,\"#ed7953\"],[0.7777777777777778,\"#fb9f3a\"],[0.8888888888888888,\"#fdca26\"],[1.0,\"#f0f921\"]],\"sequentialminus\":[[0.0,\"#0d0887\"],[0.1111111111111111,\"#46039f\"],[0.2222222222222222,\"#7201a8\"],[0.3333333333333333,\"#9c179e\"],[0.4444444444444444,\"#bd3786\"],[0.5555555555555556,\"#d8576b\"],[0.6666666666666666,\"#ed7953\"],[0.7777777777777778,\"#fb9f3a\"],[0.8888888888888888,\"#fdca26\"],[1.0,\"#f0f921\"]],\"diverging\":[[0,\"#8e0152\"],[0.1,\"#c51b7d\"],[0.2,\"#de77ae\"],[0.3,\"#f1b6da\"],[0.4,\"#fde0ef\"],[0.5,\"#f7f7f7\"],[0.6,\"#e6f5d0\"],[0.7,\"#b8e186\"],[0.8,\"#7fbc41\"],[0.9,\"#4d9221\"],[1,\"#276419\"]]},\"xaxis\":{\"gridcolor\":\"white\",\"linecolor\":\"white\",\"ticks\":\"\",\"title\":{\"standoff\":15},\"zerolinecolor\":\"white\",\"automargin\":true,\"zerolinewidth\":2},\"yaxis\":{\"gridcolor\":\"white\",\"linecolor\":\"white\",\"ticks\":\"\",\"title\":{\"standoff\":15},\"zerolinecolor\":\"white\",\"automargin\":true,\"zerolinewidth\":2},\"scene\":{\"xaxis\":{\"backgroundcolor\":\"#E5ECF6\",\"gridcolor\":\"white\",\"linecolor\":\"white\",\"showbackground\":true,\"ticks\":\"\",\"zerolinecolor\":\"white\",\"gridwidth\":2},\"yaxis\":{\"backgroundcolor\":\"#E5ECF6\",\"gridcolor\":\"white\",\"linecolor\":\"white\",\"showbackground\":true,\"ticks\":\"\",\"zerolinecolor\":\"white\",\"gridwidth\":2},\"zaxis\":{\"backgroundcolor\":\"#E5ECF6\",\"gridcolor\":\"white\",\"linecolor\":\"white\",\"showbackground\":true,\"ticks\":\"\",\"zerolinecolor\":\"white\",\"gridwidth\":2}},\"shapedefaults\":{\"line\":{\"color\":\"#2a3f5f\"}},\"annotationdefaults\":{\"arrowcolor\":\"#2a3f5f\",\"arrowhead\":0,\"arrowwidth\":1},\"geo\":{\"bgcolor\":\"white\",\"landcolor\":\"#E5ECF6\",\"subunitcolor\":\"white\",\"showland\":true,\"showlakes\":true,\"lakecolor\":\"white\"},\"title\":{\"x\":0.05},\"mapbox\":{\"style\":\"light\"}}},\"xaxis\":{\"anchor\":\"y\",\"domain\":[0.0,0.45]},\"yaxis\":{\"anchor\":\"x\",\"domain\":[0.625,1.0]},\"xaxis2\":{\"anchor\":\"y2\",\"domain\":[0.55,1.0]},\"yaxis2\":{\"anchor\":\"x2\",\"domain\":[0.625,1.0]},\"xaxis3\":{\"anchor\":\"y3\",\"domain\":[0.0,0.45]},\"yaxis3\":{\"anchor\":\"x3\",\"domain\":[0.0,0.375]},\"xaxis4\":{\"anchor\":\"y4\",\"domain\":[0.55,1.0]},\"yaxis4\":{\"anchor\":\"x4\",\"domain\":[0.0,0.375]},\"annotations\":[{\"font\":{\"size\":16},\"showarrow\":false,\"text\":\"Price Distribution\",\"x\":0.225,\"xanchor\":\"center\",\"xref\":\"paper\",\"y\":1.0,\"yanchor\":\"bottom\",\"yref\":\"paper\"},{\"font\":{\"size\":16},\"showarrow\":false,\"text\":\"Price by Property Type\",\"x\":0.775,\"xanchor\":\"center\",\"xref\":\"paper\",\"y\":1.0,\"yanchor\":\"bottom\",\"yref\":\"paper\"},{\"font\":{\"size\":16},\"showarrow\":false,\"text\":\"Price by Neighborhood\",\"x\":0.225,\"xanchor\":\"center\",\"xref\":\"paper\",\"y\":0.375,\"yanchor\":\"bottom\",\"yref\":\"paper\"},{\"font\":{\"size\":16},\"showarrow\":false,\"text\":\"Distance to ESK vs Price\",\"x\":0.775,\"xanchor\":\"center\",\"xref\":\"paper\",\"y\":0.375,\"yanchor\":\"bottom\",\"yref\":\"paper\"}],\"title\":{\"text\":\"Housing Market Analysis\"},\"height\":800},                        {\"responsive\": true}                    )                };            </script>        </div>"
      ],
      "text/plain": [
       "Figure({\n",
       "    'data': [{'name': 'Price',\n",
       "              'nbinsx': 30,\n",
       "              'type': 'histogram',\n",
       "              'x': {'bdata': ('/3EEABOfAwCymwcA4/wFANfQBAAMbQ' ... 'CUpQoA3kwDAALaAwA16AMAFrQFAA=='),\n",
       "                    'dtype': 'i4'},\n",
       "              'xaxis': 'x',\n",
       "              'yaxis': 'y'},\n",
       "             {'name': np.str_('apartment'),\n",
       "              'type': 'box',\n",
       "              'xaxis': 'x2',\n",
       "              'y': {'bdata': ('/3EEABOfAwDj/AUA19AEAAxtBgCNtQ' ... 'MFABj1AgCUpQoA3kwDAALaAwAWtAUA'),\n",
       "                    'dtype': 'i4'},\n",
       "              'yaxis': 'y2'},\n",
       "             {'name': np.str_('house'),\n",
       "              'type': 'box',\n",
       "              'xaxis': 'x2',\n",
       "              'y': {'bdata': ('spsHAH4zBQAFsAoAwTMGAAv+BwAPzg' ... 'CEgwgAIwAIAFqyCwCREw8ANegDAA=='),\n",
       "                    'dtype': 'i4'},\n",
       "              'yaxis': 'y2'},\n",
       "             {'name': np.str_('Weststadt'),\n",
       "              'type': 'box',\n",
       "              'xaxis': 'x3',\n",
       "              'y': {'bdata': ('E58DAOP8BQAMbQYAjbUGAMEZAwAL/g' ... 'UAIwAIAKwDBQCUpQoA3kwDAALaAwA='),\n",
       "                    'dtype': 'i4'},\n",
       "              'yaxis': 'y3'},\n",
       "             {'name': np.str_('Südstadt'),\n",
       "              'type': 'box',\n",
       "              'xaxis': 'x3',\n",
       "              'y': {'bdata': ('/3EEALKbBwB+MwUAlK4DABGyBQCe/A' ... 'cAN80IAISDCABasgsANegDABa0BQA='),\n",
       "                    'dtype': 'i4'},\n",
       "              'yaxis': 'y3'},\n",
       "             {'name': np.str_('Innenstadt-West'),\n",
       "              'type': 'box',\n",
       "              'xaxis': 'x3',\n",
       "              'y': {'bdata': ('19AEAA/OBwCtXgoAZR8IANIbCgBeJg' ... 'gFALwKCgBwMAgA78EGAP5+CACREw8A'),\n",
       "                    'dtype': 'i4'},\n",
       "              'yaxis': 'y3'},\n",
       "             {'name': np.str_('Durlach'),\n",
       "              'type': 'box',\n",
       "              'xaxis': 'x3',\n",
       "              'y': {'bdata': ('56cFAAWwCgCYBgUAy3YJAGdUBQB89w' ... 'AGAC1nAwD37woAJvsGAFS1AgAY9QIA'),\n",
       "                    'dtype': 'i4'},\n",
       "              'yaxis': 'y3'},\n",
       "             {'name': np.str_('Oststadt'),\n",
       "              'type': 'box',\n",
       "              'xaxis': 'x3',\n",
       "              'y': {'bdata': ('C5gIAMEzBgCeFgQAxiQGALZfBQDFvg' ... 'EDAH6CBACPVwgAWs8DANDsCABpFAgA'),\n",
       "                    'dtype': 'i4'},\n",
       "              'yaxis': 'y3'},\n",
       "             {'name': np.str_('Mühlburg'),\n",
       "              'type': 'box',\n",
       "              'xaxis': 'x3',\n",
       "              'y': {'bdata': ('WnMJAJLGBgD9bQUAJT0GANrJBgDdEQ' ... 'cCAB6bBQCbKwQAuv4GABL+BACKdgMA'),\n",
       "                    'dtype': 'i4'},\n",
       "              'yaxis': 'y3'},\n",
       "             {'marker': {'color': {'bdata': ('mpmZmZmZIEDNzMzMzMwgQJqZmZmZmS' ... 'MzMzMfQJqZmZmZmSBAZmZmZmZmIEA='),\n",
       "                                   'dtype': 'f8'},\n",
       "                         'colorscale': [[0.0, '#440154'], [0.1111111111111111,\n",
       "                                        '#482878'], [0.2222222222222222,\n",
       "                                        '#3e4989'], [0.3333333333333333,\n",
       "                                        '#31688e'], [0.4444444444444444,\n",
       "                                        '#26828e'], [0.5555555555555556,\n",
       "                                        '#1f9e89'], [0.6666666666666666,\n",
       "                                        '#35b779'], [0.7777777777777778,\n",
       "                                        '#6ece58'], [0.8888888888888888,\n",
       "                                        '#b5de2b'], [1.0, '#fde725']],\n",
       "                         'showscale': True},\n",
       "              'mode': 'markers',\n",
       "              'name': 'Properties',\n",
       "              'type': 'scatter',\n",
       "              'x': {'bdata': ('AAAAAAAA+D8zMzMzMzMDQAAAAAAAAA' ... 'mZmZkRQAAAAAAAAARAZmZmZmZm9j8='),\n",
       "                    'dtype': 'f8'},\n",
       "              'xaxis': 'x4',\n",
       "              'y': {'bdata': ('/3EEABOfAwCymwcA4/wFANfQBAAMbQ' ... 'CUpQoA3kwDAALaAwA16AMAFrQFAA=='),\n",
       "                    'dtype': 'i4'},\n",
       "              'yaxis': 'y4'}],\n",
       "    'layout': {'annotations': [{'font': {'size': 16},\n",
       "                                'showarrow': False,\n",
       "                                'text': 'Price Distribution',\n",
       "                                'x': 0.225,\n",
       "                                'xanchor': 'center',\n",
       "                                'xref': 'paper',\n",
       "                                'y': 1.0,\n",
       "                                'yanchor': 'bottom',\n",
       "                                'yref': 'paper'},\n",
       "                               {'font': {'size': 16},\n",
       "                                'showarrow': False,\n",
       "                                'text': 'Price by Property Type',\n",
       "                                'x': 0.775,\n",
       "                                'xanchor': 'center',\n",
       "                                'xref': 'paper',\n",
       "                                'y': 1.0,\n",
       "                                'yanchor': 'bottom',\n",
       "                                'yref': 'paper'},\n",
       "                               {'font': {'size': 16},\n",
       "                                'showarrow': False,\n",
       "                                'text': 'Price by Neighborhood',\n",
       "                                'x': 0.225,\n",
       "                                'xanchor': 'center',\n",
       "                                'xref': 'paper',\n",
       "                                'y': 0.375,\n",
       "                                'yanchor': 'bottom',\n",
       "                                'yref': 'paper'},\n",
       "                               {'font': {'size': 16},\n",
       "                                'showarrow': False,\n",
       "                                'text': 'Distance to ESK vs Price',\n",
       "                                'x': 0.775,\n",
       "                                'xanchor': 'center',\n",
       "                                'xref': 'paper',\n",
       "                                'y': 0.375,\n",
       "                                'yanchor': 'bottom',\n",
       "                                'yref': 'paper'}],\n",
       "               'height': 800,\n",
       "               'template': '...',\n",
       "               'title': {'text': 'Housing Market Analysis'},\n",
       "               'xaxis': {'anchor': 'y', 'domain': [0.0, 0.45]},\n",
       "               'xaxis2': {'anchor': 'y2', 'domain': [0.55, 1.0]},\n",
       "               'xaxis3': {'anchor': 'y3', 'domain': [0.0, 0.45]},\n",
       "               'xaxis4': {'anchor': 'y4', 'domain': [0.55, 1.0]},\n",
       "               'yaxis': {'anchor': 'x', 'domain': [0.625, 1.0]},\n",
       "               'yaxis2': {'anchor': 'x2', 'domain': [0.625, 1.0]},\n",
       "               'yaxis3': {'anchor': 'x3', 'domain': [0.0, 0.375]},\n",
       "               'yaxis4': {'anchor': 'x4', 'domain': [0.0, 0.375]}}\n",
       "})"
      ]
     },
     "metadata": {},
     "output_type": "display_data"
    },
    {
     "name": "stdout",
     "output_type": "stream",
     "text": [
      "[INSIGHTS] Key Insights:\n",
      "[PRICE] Average Price: €475,613.99\n",
      "[DISTANCE] Average Distance to ESK: 2.65 km\n",
      "[SCORE] Average ESK Suitability: 8.0/100\n"
     ]
    }
   ],
   "source": [
    "# Price Distribution Analysis\n",
    "fig = make_subplots(\n",
    "    rows=2, cols=2,\n",
    "    subplot_titles=('Price Distribution', 'Price by Property Type', \n",
    "                   'Price by Neighborhood', 'Distance to ESK vs Price'),\n",
    "    specs=[[{\"type\": \"histogram\"}, {\"type\": \"box\"}],\n",
    "           [{\"type\": \"box\"}, {\"type\": \"scatter\"}]]\n",
    ")\n",
    "\n",
    "# Price histogram\n",
    "fig.add_trace(\n",
    "    go.Histogram(x=df['price'], name='Price', nbinsx=30),\n",
    "    row=1, col=1\n",
    ")\n",
    "\n",
    "# Price by property type\n",
    "for prop_type in df['property_type'].unique():\n",
    "    fig.add_trace(\n",
    "        go.Box(y=df[df['property_type']==prop_type]['price'], \n",
    "               name=prop_type),\n",
    "        row=1, col=2\n",
    "    )\n",
    "\n",
    "# Price by neighborhood (top 10)\n",
    "top_neighborhoods = df['neighborhood'].value_counts().head(10).index\n",
    "df_top = df[df['neighborhood'].isin(top_neighborhoods)]\n",
    "for neighborhood in top_neighborhoods:\n",
    "    fig.add_trace(\n",
    "        go.Box(y=df_top[df_top['neighborhood']==neighborhood]['price'], \n",
    "               name=neighborhood),\n",
    "        row=2, col=1\n",
    "    )\n",
    "\n",
    "# Distance vs Price scatter\n",
    "fig.add_trace(\n",
    "    go.Scatter(x=df['distance_to_esk'], y=df['price'], \n",
    "               mode='markers', name='Properties',\n",
    "               marker=dict(color=df['esk_suitability_score'], \n",
    "                          colorscale='Viridis', showscale=True)),\n",
    "    row=2, col=2\n",
    ")\n",
    "\n",
    "fig.update_layout(height=800, title_text=\"Housing Market Analysis\")\n",
    "\n",
    "# Display figure (Notebook compatible)\n",
    "from IPython.display import display\n",
    "display(fig)\n",
    "\n",
    "print(\"[INSIGHTS] Key Insights:\")\n",
    "print(f\"[PRICE] Average Price: €{df['price'].mean():,.2f}\")\n",
    "print(f\"[DISTANCE] Average Distance to ESK: {df['distance_to_esk'].mean():.2f} km\")\n",
    "print(f\"[SCORE] Average ESK Suitability: {df['esk_suitability_score'].mean():.1f}/100\")"
   ]
  },
  {
   "cell_type": "markdown",
   "id": "79002d66",
   "metadata": {},
   "source": [
    "## 5. Feature Correlation Analysis"
   ]
  },
  {
   "cell_type": "code",
   "execution_count": 9,
   "id": "efde136d",
   "metadata": {},
   "outputs": [
    {
     "name": "stdout",
     "output_type": "stream",
     "text": [
      "[FEATURES] Available columns:\n",
      "['id', 'neighborhood', 'property_type', 'bedrooms', 'sqft', 'garden', 'price', 'price_per_sqm', 'distance_to_esk', 'distance_to_center', 'avg_employer_distance', 'esk_suitability_score', 'safety_score', 'international_community_score', 'family_amenities_score', 'public_transport_score', 'current_esk_families', 'commute_time_esk', 'lat', 'lon']\n",
      "[CORRELATION] Using features: ['price', 'distance_to_esk', 'esk_suitability_score', 'bedrooms', 'sqft', 'safety_score', 'family_amenities_score', 'garden_numeric']\n"
     ]
    },
    {
     "ename": "ValueError",
     "evalue": "Mime type rendering requires nbformat>=4.2.0 but it is not installed",
     "output_type": "error",
     "traceback": [
      "\u001b[31m---------------------------------------------------------------------------\u001b[39m",
      "\u001b[31mValueError\u001b[39m                                Traceback (most recent call last)",
      "\u001b[36mFile \u001b[39m\u001b[32mc:\\Users\\fwmoe\\Dropbox\\ESK\\code-institute\\PP5\\eskar-housing-finder\\.venv\\Lib\\site-packages\\IPython\\core\\formatters.py:984\u001b[39m, in \u001b[36mIPythonDisplayFormatter.__call__\u001b[39m\u001b[34m(self, obj)\u001b[39m\n\u001b[32m    982\u001b[39m method = get_real_method(obj, \u001b[38;5;28mself\u001b[39m.print_method)\n\u001b[32m    983\u001b[39m \u001b[38;5;28;01mif\u001b[39;00m method \u001b[38;5;129;01mis\u001b[39;00m \u001b[38;5;129;01mnot\u001b[39;00m \u001b[38;5;28;01mNone\u001b[39;00m:\n\u001b[32m--> \u001b[39m\u001b[32m984\u001b[39m     \u001b[43mmethod\u001b[49m\u001b[43m(\u001b[49m\u001b[43m)\u001b[49m\n\u001b[32m    985\u001b[39m     \u001b[38;5;28;01mreturn\u001b[39;00m \u001b[38;5;28;01mTrue\u001b[39;00m\n",
      "\u001b[36mFile \u001b[39m\u001b[32mc:\\Users\\fwmoe\\Dropbox\\ESK\\code-institute\\PP5\\eskar-housing-finder\\.venv\\Lib\\site-packages\\plotly\\basedatatypes.py:850\u001b[39m, in \u001b[36mBaseFigure._ipython_display_\u001b[39m\u001b[34m(self)\u001b[39m\n\u001b[32m    847\u001b[39m \u001b[38;5;28;01mimport\u001b[39;00m\u001b[38;5;250m \u001b[39m\u001b[34;01mplotly\u001b[39;00m\u001b[34;01m.\u001b[39;00m\u001b[34;01mio\u001b[39;00m\u001b[38;5;250m \u001b[39m\u001b[38;5;28;01mas\u001b[39;00m\u001b[38;5;250m \u001b[39m\u001b[34;01mpio\u001b[39;00m\n\u001b[32m    849\u001b[39m \u001b[38;5;28;01mif\u001b[39;00m pio.renderers.render_on_display \u001b[38;5;129;01mand\u001b[39;00m pio.renderers.default:\n\u001b[32m--> \u001b[39m\u001b[32m850\u001b[39m     \u001b[43mpio\u001b[49m\u001b[43m.\u001b[49m\u001b[43mshow\u001b[49m\u001b[43m(\u001b[49m\u001b[38;5;28;43mself\u001b[39;49m\u001b[43m)\u001b[49m\n\u001b[32m    851\u001b[39m \u001b[38;5;28;01melse\u001b[39;00m:\n\u001b[32m    852\u001b[39m     \u001b[38;5;28mprint\u001b[39m(\u001b[38;5;28mrepr\u001b[39m(\u001b[38;5;28mself\u001b[39m))\n",
      "\u001b[36mFile \u001b[39m\u001b[32mc:\\Users\\fwmoe\\Dropbox\\ESK\\code-institute\\PP5\\eskar-housing-finder\\.venv\\Lib\\site-packages\\plotly\\io\\_renderers.py:415\u001b[39m, in \u001b[36mshow\u001b[39m\u001b[34m(fig, renderer, validate, **kwargs)\u001b[39m\n\u001b[32m    410\u001b[39m     \u001b[38;5;28;01mraise\u001b[39;00m \u001b[38;5;167;01mValueError\u001b[39;00m(\n\u001b[32m    411\u001b[39m         \u001b[33m\"\u001b[39m\u001b[33mMime type rendering requires ipython but it is not installed\u001b[39m\u001b[33m\"\u001b[39m\n\u001b[32m    412\u001b[39m     )\n\u001b[32m    414\u001b[39m \u001b[38;5;28;01mif\u001b[39;00m \u001b[38;5;129;01mnot\u001b[39;00m nbformat \u001b[38;5;129;01mor\u001b[39;00m Version(nbformat.__version__) < Version(\u001b[33m\"\u001b[39m\u001b[33m4.2.0\u001b[39m\u001b[33m\"\u001b[39m):\n\u001b[32m--> \u001b[39m\u001b[32m415\u001b[39m     \u001b[38;5;28;01mraise\u001b[39;00m \u001b[38;5;167;01mValueError\u001b[39;00m(\n\u001b[32m    416\u001b[39m         \u001b[33m\"\u001b[39m\u001b[33mMime type rendering requires nbformat>=4.2.0 but it is not installed\u001b[39m\u001b[33m\"\u001b[39m\n\u001b[32m    417\u001b[39m     )\n\u001b[32m    419\u001b[39m display_jupyter_version_warnings()\n\u001b[32m    421\u001b[39m ipython_display.display(bundle, raw=\u001b[38;5;28;01mTrue\u001b[39;00m)\n",
      "\u001b[31mValueError\u001b[39m: Mime type rendering requires nbformat>=4.2.0 but it is not installed"
     ]
    },
    {
     "data": {
      "application/vnd.plotly.v1+json": {
       "config": {
        "plotlyServerURL": "https://plot.ly"
       },
       "data": [
        {
         "colorscale": [
          [
           0,
           "rgb(103,0,31)"
          ],
          [
           0.1,
           "rgb(178,24,43)"
          ],
          [
           0.2,
           "rgb(214,96,77)"
          ],
          [
           0.3,
           "rgb(244,165,130)"
          ],
          [
           0.4,
           "rgb(253,219,199)"
          ],
          [
           0.5,
           "rgb(247,247,247)"
          ],
          [
           0.6,
           "rgb(209,229,240)"
          ],
          [
           0.7,
           "rgb(146,197,222)"
          ],
          [
           0.8,
           "rgb(67,147,195)"
          ],
          [
           0.9,
           "rgb(33,102,172)"
          ],
          [
           1,
           "rgb(5,48,97)"
          ]
         ],
         "text": {
          "bdata": "AAAAAAAA8D9I4XoUrkfBvzMzMzMzM8M/nMQgsHJokT9WDi2yne/rPwrXo3A9Cqc/UrgehetRuL8IrBxaZDvPP0jhehSuR8G/AAAAAAAA8D9aZDvfT43rv9nO91PjpZs/ObTIdr6fij9SuB6F61HQP1K4HoXrUeA/WmQ730+Nl78zMzMzMzPDP1pkO99Pjeu/AAAAAAAA8D9Ei2zn+6mxP7pJDAIrh4a//Knx0k1iwD+q8dJNYhDIv6rx0k1iELg/nMQgsHJokT/ZzvdT46WbP0SLbOf7qbE/AAAAAAAA8D+amZmZmZmZP3npJjEIrIy/ukkMAiuHhj8AAAAAAAAAAFYOLbKd7+s/ObTIdr6fij+6SQwCK4eGv5qZmZmZmZk/AAAAAAAA8D9aZDvfT42XP/p+arx0k3g/okW28/3U0D8K16NwPQqnP1K4HoXrUdA//Knx0k1iwD956SYxCKyMv1pkO99PjZc/AAAAAAAA8D+F61G4HoXrP3sUrkfhepQ/UrgehetRuL9SuB6F61HgP6rx0k1iEMi/ukkMAiuHhj/6fmq8dJN4P4XrUbgehes/AAAAAAAA8D/8qfHSTWJQPwisHFpkO88/WmQ730+Nl7+q8dJNYhC4PwAAAAAAAAAAokW28/3U0D97FK5H4XqUP/yp8dJNYlA/AAAAAAAA8D8=",
          "dtype": "f8",
          "shape": "8, 8"
         },
         "textfont": {
          "size": 10
         },
         "texttemplate": "%{text}",
         "type": "heatmap",
         "x": [
          "price",
          "distance_to_esk",
          "esk_suitability_score",
          "bedrooms",
          "sqft",
          "safety_score",
          "family_amenities_score",
          "garden_numeric"
         ],
         "y": [
          "price",
          "distance_to_esk",
          "esk_suitability_score",
          "bedrooms",
          "sqft",
          "safety_score",
          "family_amenities_score",
          "garden_numeric"
         ],
         "z": {
          "bdata": "AAAAAAAA8D+BPG018UnBv2IjHrjdK8M/PvPuQeHfkT8btZnyRO7rPx3+XeK/K6c/nqqBdmReuL+bzvJAHCvPP4E8bTXxScG/AAAAAAAA8D8MNTxp8o3rv/etEo4PTps/AOo+FDc/ij/MmUsmWVXQPyB2rl02VeA/5+xgUs8ol79iIx643SvDPww1PGnyjeu/AAAAAAAA8D9ue7+q6saxP+/esBp8i4a/Ch8oeYJbwD83SuJytgHIv2vaFy9TBLg/PvPuQeHfkT/3rRKOD06bP257v6rqxrE/AAAAAAAA8D8xYk2Byp+ZP6v4SjxN7Iy/pj20EfWohT9IcLVDnlw3Pxu1mfJE7us/AOo+FDc/ij/v3rAafIuGvzFiTYHKn5k/AAAAAAAA8D9f/BD1xgCYP/kGFi/AX3c/6TyisILP0D8d/l3ivyunP8yZSyZZVdA/Ch8oeYJbwD+r+Eo8TeyMv1/8EPXGAJg/AAAAAAAA8D9Iik/u5ofrP1aozp8CtpQ/nqqBdmReuL8gdq5dNlXgPzdK4nK2Aci/pj20EfWohT/5BhYvwF93P0iKT+7mh+s/AAAAAAAA8D8fqCFZ1RxXP5vO8kAcK88/5+xgUs8ol79r2hcvUwS4P0hwtUOeXDc/6TyisILP0D9WqM6fAraUPx+oIVnVHFc/AAAAAAAA8D8=",
          "dtype": "f8",
          "shape": "8, 8"
         },
         "zmid": 0
        }
       ],
       "layout": {
        "height": 600,
        "template": {
         "data": {
          "bar": [
           {
            "error_x": {
             "color": "#2a3f5f"
            },
            "error_y": {
             "color": "#2a3f5f"
            },
            "marker": {
             "line": {
              "color": "#E5ECF6",
              "width": 0.5
             },
             "pattern": {
              "fillmode": "overlay",
              "size": 10,
              "solidity": 0.2
             }
            },
            "type": "bar"
           }
          ],
          "barpolar": [
           {
            "marker": {
             "line": {
              "color": "#E5ECF6",
              "width": 0.5
             },
             "pattern": {
              "fillmode": "overlay",
              "size": 10,
              "solidity": 0.2
             }
            },
            "type": "barpolar"
           }
          ],
          "carpet": [
           {
            "aaxis": {
             "endlinecolor": "#2a3f5f",
             "gridcolor": "white",
             "linecolor": "white",
             "minorgridcolor": "white",
             "startlinecolor": "#2a3f5f"
            },
            "baxis": {
             "endlinecolor": "#2a3f5f",
             "gridcolor": "white",
             "linecolor": "white",
             "minorgridcolor": "white",
             "startlinecolor": "#2a3f5f"
            },
            "type": "carpet"
           }
          ],
          "choropleth": [
           {
            "colorbar": {
             "outlinewidth": 0,
             "ticks": ""
            },
            "type": "choropleth"
           }
          ],
          "contour": [
           {
            "colorbar": {
             "outlinewidth": 0,
             "ticks": ""
            },
            "colorscale": [
             [
              0,
              "#0d0887"
             ],
             [
              0.1111111111111111,
              "#46039f"
             ],
             [
              0.2222222222222222,
              "#7201a8"
             ],
             [
              0.3333333333333333,
              "#9c179e"
             ],
             [
              0.4444444444444444,
              "#bd3786"
             ],
             [
              0.5555555555555556,
              "#d8576b"
             ],
             [
              0.6666666666666666,
              "#ed7953"
             ],
             [
              0.7777777777777778,
              "#fb9f3a"
             ],
             [
              0.8888888888888888,
              "#fdca26"
             ],
             [
              1,
              "#f0f921"
             ]
            ],
            "type": "contour"
           }
          ],
          "contourcarpet": [
           {
            "colorbar": {
             "outlinewidth": 0,
             "ticks": ""
            },
            "type": "contourcarpet"
           }
          ],
          "heatmap": [
           {
            "colorbar": {
             "outlinewidth": 0,
             "ticks": ""
            },
            "colorscale": [
             [
              0,
              "#0d0887"
             ],
             [
              0.1111111111111111,
              "#46039f"
             ],
             [
              0.2222222222222222,
              "#7201a8"
             ],
             [
              0.3333333333333333,
              "#9c179e"
             ],
             [
              0.4444444444444444,
              "#bd3786"
             ],
             [
              0.5555555555555556,
              "#d8576b"
             ],
             [
              0.6666666666666666,
              "#ed7953"
             ],
             [
              0.7777777777777778,
              "#fb9f3a"
             ],
             [
              0.8888888888888888,
              "#fdca26"
             ],
             [
              1,
              "#f0f921"
             ]
            ],
            "type": "heatmap"
           }
          ],
          "histogram": [
           {
            "marker": {
             "pattern": {
              "fillmode": "overlay",
              "size": 10,
              "solidity": 0.2
             }
            },
            "type": "histogram"
           }
          ],
          "histogram2d": [
           {
            "colorbar": {
             "outlinewidth": 0,
             "ticks": ""
            },
            "colorscale": [
             [
              0,
              "#0d0887"
             ],
             [
              0.1111111111111111,
              "#46039f"
             ],
             [
              0.2222222222222222,
              "#7201a8"
             ],
             [
              0.3333333333333333,
              "#9c179e"
             ],
             [
              0.4444444444444444,
              "#bd3786"
             ],
             [
              0.5555555555555556,
              "#d8576b"
             ],
             [
              0.6666666666666666,
              "#ed7953"
             ],
             [
              0.7777777777777778,
              "#fb9f3a"
             ],
             [
              0.8888888888888888,
              "#fdca26"
             ],
             [
              1,
              "#f0f921"
             ]
            ],
            "type": "histogram2d"
           }
          ],
          "histogram2dcontour": [
           {
            "colorbar": {
             "outlinewidth": 0,
             "ticks": ""
            },
            "colorscale": [
             [
              0,
              "#0d0887"
             ],
             [
              0.1111111111111111,
              "#46039f"
             ],
             [
              0.2222222222222222,
              "#7201a8"
             ],
             [
              0.3333333333333333,
              "#9c179e"
             ],
             [
              0.4444444444444444,
              "#bd3786"
             ],
             [
              0.5555555555555556,
              "#d8576b"
             ],
             [
              0.6666666666666666,
              "#ed7953"
             ],
             [
              0.7777777777777778,
              "#fb9f3a"
             ],
             [
              0.8888888888888888,
              "#fdca26"
             ],
             [
              1,
              "#f0f921"
             ]
            ],
            "type": "histogram2dcontour"
           }
          ],
          "mesh3d": [
           {
            "colorbar": {
             "outlinewidth": 0,
             "ticks": ""
            },
            "type": "mesh3d"
           }
          ],
          "parcoords": [
           {
            "line": {
             "colorbar": {
              "outlinewidth": 0,
              "ticks": ""
             }
            },
            "type": "parcoords"
           }
          ],
          "pie": [
           {
            "automargin": true,
            "type": "pie"
           }
          ],
          "scatter": [
           {
            "fillpattern": {
             "fillmode": "overlay",
             "size": 10,
             "solidity": 0.2
            },
            "type": "scatter"
           }
          ],
          "scatter3d": [
           {
            "line": {
             "colorbar": {
              "outlinewidth": 0,
              "ticks": ""
             }
            },
            "marker": {
             "colorbar": {
              "outlinewidth": 0,
              "ticks": ""
             }
            },
            "type": "scatter3d"
           }
          ],
          "scattercarpet": [
           {
            "marker": {
             "colorbar": {
              "outlinewidth": 0,
              "ticks": ""
             }
            },
            "type": "scattercarpet"
           }
          ],
          "scattergeo": [
           {
            "marker": {
             "colorbar": {
              "outlinewidth": 0,
              "ticks": ""
             }
            },
            "type": "scattergeo"
           }
          ],
          "scattergl": [
           {
            "marker": {
             "colorbar": {
              "outlinewidth": 0,
              "ticks": ""
             }
            },
            "type": "scattergl"
           }
          ],
          "scattermap": [
           {
            "marker": {
             "colorbar": {
              "outlinewidth": 0,
              "ticks": ""
             }
            },
            "type": "scattermap"
           }
          ],
          "scattermapbox": [
           {
            "marker": {
             "colorbar": {
              "outlinewidth": 0,
              "ticks": ""
             }
            },
            "type": "scattermapbox"
           }
          ],
          "scatterpolar": [
           {
            "marker": {
             "colorbar": {
              "outlinewidth": 0,
              "ticks": ""
             }
            },
            "type": "scatterpolar"
           }
          ],
          "scatterpolargl": [
           {
            "marker": {
             "colorbar": {
              "outlinewidth": 0,
              "ticks": ""
             }
            },
            "type": "scatterpolargl"
           }
          ],
          "scatterternary": [
           {
            "marker": {
             "colorbar": {
              "outlinewidth": 0,
              "ticks": ""
             }
            },
            "type": "scatterternary"
           }
          ],
          "surface": [
           {
            "colorbar": {
             "outlinewidth": 0,
             "ticks": ""
            },
            "colorscale": [
             [
              0,
              "#0d0887"
             ],
             [
              0.1111111111111111,
              "#46039f"
             ],
             [
              0.2222222222222222,
              "#7201a8"
             ],
             [
              0.3333333333333333,
              "#9c179e"
             ],
             [
              0.4444444444444444,
              "#bd3786"
             ],
             [
              0.5555555555555556,
              "#d8576b"
             ],
             [
              0.6666666666666666,
              "#ed7953"
             ],
             [
              0.7777777777777778,
              "#fb9f3a"
             ],
             [
              0.8888888888888888,
              "#fdca26"
             ],
             [
              1,
              "#f0f921"
             ]
            ],
            "type": "surface"
           }
          ],
          "table": [
           {
            "cells": {
             "fill": {
              "color": "#EBF0F8"
             },
             "line": {
              "color": "white"
             }
            },
            "header": {
             "fill": {
              "color": "#C8D4E3"
             },
             "line": {
              "color": "white"
             }
            },
            "type": "table"
           }
          ]
         },
         "layout": {
          "annotationdefaults": {
           "arrowcolor": "#2a3f5f",
           "arrowhead": 0,
           "arrowwidth": 1
          },
          "autotypenumbers": "strict",
          "coloraxis": {
           "colorbar": {
            "outlinewidth": 0,
            "ticks": ""
           }
          },
          "colorscale": {
           "diverging": [
            [
             0,
             "#8e0152"
            ],
            [
             0.1,
             "#c51b7d"
            ],
            [
             0.2,
             "#de77ae"
            ],
            [
             0.3,
             "#f1b6da"
            ],
            [
             0.4,
             "#fde0ef"
            ],
            [
             0.5,
             "#f7f7f7"
            ],
            [
             0.6,
             "#e6f5d0"
            ],
            [
             0.7,
             "#b8e186"
            ],
            [
             0.8,
             "#7fbc41"
            ],
            [
             0.9,
             "#4d9221"
            ],
            [
             1,
             "#276419"
            ]
           ],
           "sequential": [
            [
             0,
             "#0d0887"
            ],
            [
             0.1111111111111111,
             "#46039f"
            ],
            [
             0.2222222222222222,
             "#7201a8"
            ],
            [
             0.3333333333333333,
             "#9c179e"
            ],
            [
             0.4444444444444444,
             "#bd3786"
            ],
            [
             0.5555555555555556,
             "#d8576b"
            ],
            [
             0.6666666666666666,
             "#ed7953"
            ],
            [
             0.7777777777777778,
             "#fb9f3a"
            ],
            [
             0.8888888888888888,
             "#fdca26"
            ],
            [
             1,
             "#f0f921"
            ]
           ],
           "sequentialminus": [
            [
             0,
             "#0d0887"
            ],
            [
             0.1111111111111111,
             "#46039f"
            ],
            [
             0.2222222222222222,
             "#7201a8"
            ],
            [
             0.3333333333333333,
             "#9c179e"
            ],
            [
             0.4444444444444444,
             "#bd3786"
            ],
            [
             0.5555555555555556,
             "#d8576b"
            ],
            [
             0.6666666666666666,
             "#ed7953"
            ],
            [
             0.7777777777777778,
             "#fb9f3a"
            ],
            [
             0.8888888888888888,
             "#fdca26"
            ],
            [
             1,
             "#f0f921"
            ]
           ]
          },
          "colorway": [
           "#636efa",
           "#EF553B",
           "#00cc96",
           "#ab63fa",
           "#FFA15A",
           "#19d3f3",
           "#FF6692",
           "#B6E880",
           "#FF97FF",
           "#FECB52"
          ],
          "font": {
           "color": "#2a3f5f"
          },
          "geo": {
           "bgcolor": "white",
           "lakecolor": "white",
           "landcolor": "#E5ECF6",
           "showlakes": true,
           "showland": true,
           "subunitcolor": "white"
          },
          "hoverlabel": {
           "align": "left"
          },
          "hovermode": "closest",
          "mapbox": {
           "style": "light"
          },
          "paper_bgcolor": "white",
          "plot_bgcolor": "#E5ECF6",
          "polar": {
           "angularaxis": {
            "gridcolor": "white",
            "linecolor": "white",
            "ticks": ""
           },
           "bgcolor": "#E5ECF6",
           "radialaxis": {
            "gridcolor": "white",
            "linecolor": "white",
            "ticks": ""
           }
          },
          "scene": {
           "xaxis": {
            "backgroundcolor": "#E5ECF6",
            "gridcolor": "white",
            "gridwidth": 2,
            "linecolor": "white",
            "showbackground": true,
            "ticks": "",
            "zerolinecolor": "white"
           },
           "yaxis": {
            "backgroundcolor": "#E5ECF6",
            "gridcolor": "white",
            "gridwidth": 2,
            "linecolor": "white",
            "showbackground": true,
            "ticks": "",
            "zerolinecolor": "white"
           },
           "zaxis": {
            "backgroundcolor": "#E5ECF6",
            "gridcolor": "white",
            "gridwidth": 2,
            "linecolor": "white",
            "showbackground": true,
            "ticks": "",
            "zerolinecolor": "white"
           }
          },
          "shapedefaults": {
           "line": {
            "color": "#2a3f5f"
           }
          },
          "ternary": {
           "aaxis": {
            "gridcolor": "white",
            "linecolor": "white",
            "ticks": ""
           },
           "baxis": {
            "gridcolor": "white",
            "linecolor": "white",
            "ticks": ""
           },
           "bgcolor": "#E5ECF6",
           "caxis": {
            "gridcolor": "white",
            "linecolor": "white",
            "ticks": ""
           }
          },
          "title": {
           "x": 0.05
          },
          "xaxis": {
           "automargin": true,
           "gridcolor": "white",
           "linecolor": "white",
           "ticks": "",
           "title": {
            "standoff": 15
           },
           "zerolinecolor": "white",
           "zerolinewidth": 2
          },
          "yaxis": {
           "automargin": true,
           "gridcolor": "white",
           "linecolor": "white",
           "ticks": "",
           "title": {
            "standoff": 15
           },
           "zerolinecolor": "white",
           "zerolinewidth": 2
          }
         }
        },
        "title": {
         "text": "Feature Correlation Matrix"
        },
        "width": 800
       }
      },
      "text/html": [
       "<div>                        <script type=\"text/javascript\">window.PlotlyConfig = {MathJaxConfig: 'local'};</script>\n",
       "        <script charset=\"utf-8\" src=\"https://cdn.plot.ly/plotly-3.1.0.min.js\" integrity=\"sha256-Ei4740bWZhaUTQuD6q9yQlgVCMPBz6CZWhevDYPv93A=\" crossorigin=\"anonymous\"></script>                <div id=\"26b09040-f7c3-4fbb-a7a3-dfd5293ebc3d\" class=\"plotly-graph-div\" style=\"height:600px; width:800px;\"></div>            <script type=\"text/javascript\">                window.PLOTLYENV=window.PLOTLYENV || {};                                if (document.getElementById(\"26b09040-f7c3-4fbb-a7a3-dfd5293ebc3d\")) {                    Plotly.newPlot(                        \"26b09040-f7c3-4fbb-a7a3-dfd5293ebc3d\",                        [{\"colorscale\":[[0.0,\"rgb(103,0,31)\"],[0.1,\"rgb(178,24,43)\"],[0.2,\"rgb(214,96,77)\"],[0.3,\"rgb(244,165,130)\"],[0.4,\"rgb(253,219,199)\"],[0.5,\"rgb(247,247,247)\"],[0.6,\"rgb(209,229,240)\"],[0.7,\"rgb(146,197,222)\"],[0.8,\"rgb(67,147,195)\"],[0.9,\"rgb(33,102,172)\"],[1.0,\"rgb(5,48,97)\"]],\"text\":{\"dtype\":\"f8\",\"bdata\":\"AAAAAAAA8D9I4XoUrkfBvzMzMzMzM8M\\u002fnMQgsHJokT9WDi2yne\\u002frPwrXo3A9Cqc\\u002fUrgehetRuL8IrBxaZDvPP0jhehSuR8G\\u002fAAAAAAAA8D9aZDvfT43rv9nO91PjpZs\\u002fObTIdr6fij9SuB6F61HQP1K4HoXrUeA\\u002fWmQ730+Nl78zMzMzMzPDP1pkO99Pjeu\\u002fAAAAAAAA8D9Ei2zn+6mxP7pJDAIrh4a\\u002f\\u002fKnx0k1iwD+q8dJNYhDIv6rx0k1iELg\\u002fnMQgsHJokT\\u002fZzvdT46WbP0SLbOf7qbE\\u002fAAAAAAAA8D+amZmZmZmZP3npJjEIrIy\\u002fukkMAiuHhj8AAAAAAAAAAFYOLbKd7+s\\u002fObTIdr6fij+6SQwCK4eGv5qZmZmZmZk\\u002fAAAAAAAA8D9aZDvfT42XP\\u002fp+arx0k3g\\u002fokW28\\u002f3U0D8K16NwPQqnP1K4HoXrUdA\\u002f\\u002fKnx0k1iwD956SYxCKyMv1pkO99PjZc\\u002fAAAAAAAA8D+F61G4HoXrP3sUrkfhepQ\\u002fUrgehetRuL9SuB6F61HgP6rx0k1iEMi\\u002fukkMAiuHhj\\u002f6fmq8dJN4P4XrUbgehes\\u002fAAAAAAAA8D\\u002f8qfHSTWJQPwisHFpkO88\\u002fWmQ730+Nl7+q8dJNYhC4PwAAAAAAAAAAokW28\\u002f3U0D97FK5H4XqUP\\u002fyp8dJNYlA\\u002fAAAAAAAA8D8=\",\"shape\":\"8, 8\"},\"textfont\":{\"size\":10},\"texttemplate\":\"%{text}\",\"x\":[\"price\",\"distance_to_esk\",\"esk_suitability_score\",\"bedrooms\",\"sqft\",\"safety_score\",\"family_amenities_score\",\"garden_numeric\"],\"y\":[\"price\",\"distance_to_esk\",\"esk_suitability_score\",\"bedrooms\",\"sqft\",\"safety_score\",\"family_amenities_score\",\"garden_numeric\"],\"z\":{\"dtype\":\"f8\",\"bdata\":\"AAAAAAAA8D+BPG018UnBv2IjHrjdK8M\\u002fPvPuQeHfkT8btZnyRO7rPx3+XeK\\u002fK6c\\u002fnqqBdmReuL+bzvJAHCvPP4E8bTXxScG\\u002fAAAAAAAA8D8MNTxp8o3rv\\u002fetEo4PTps\\u002fAOo+FDc\\u002fij\\u002fMmUsmWVXQPyB2rl02VeA\\u002f5+xgUs8ol79iIx643SvDPww1PGnyjeu\\u002fAAAAAAAA8D9ue7+q6saxP+\\u002fesBp8i4a\\u002fCh8oeYJbwD83SuJytgHIv2vaFy9TBLg\\u002fPvPuQeHfkT\\u002f3rRKOD06bP257v6rqxrE\\u002fAAAAAAAA8D8xYk2Byp+ZP6v4SjxN7Iy\\u002fpj20EfWohT9IcLVDnlw3Pxu1mfJE7us\\u002fAOo+FDc\\u002fij\\u002fv3rAafIuGvzFiTYHKn5k\\u002fAAAAAAAA8D9f\\u002fBD1xgCYP\\u002fkGFi\\u002fAX3c\\u002f6TyisILP0D8d\\u002fl3ivyunP8yZSyZZVdA\\u002fCh8oeYJbwD+r+Eo8TeyMv1\\u002f8EPXGAJg\\u002fAAAAAAAA8D9Iik\\u002fu5ofrP1aozp8CtpQ\\u002fnqqBdmReuL8gdq5dNlXgPzdK4nK2Aci\\u002fpj20EfWohT\\u002f5BhYvwF93P0iKT+7mh+s\\u002fAAAAAAAA8D8fqCFZ1RxXP5vO8kAcK88\\u002f5+xgUs8ol79r2hcvUwS4P0hwtUOeXDc\\u002f6TyisILP0D9WqM6fAraUPx+oIVnVHFc\\u002fAAAAAAAA8D8=\",\"shape\":\"8, 8\"},\"zmid\":0,\"type\":\"heatmap\"}],                        {\"template\":{\"data\":{\"histogram2dcontour\":[{\"type\":\"histogram2dcontour\",\"colorbar\":{\"outlinewidth\":0,\"ticks\":\"\"},\"colorscale\":[[0.0,\"#0d0887\"],[0.1111111111111111,\"#46039f\"],[0.2222222222222222,\"#7201a8\"],[0.3333333333333333,\"#9c179e\"],[0.4444444444444444,\"#bd3786\"],[0.5555555555555556,\"#d8576b\"],[0.6666666666666666,\"#ed7953\"],[0.7777777777777778,\"#fb9f3a\"],[0.8888888888888888,\"#fdca26\"],[1.0,\"#f0f921\"]]}],\"choropleth\":[{\"type\":\"choropleth\",\"colorbar\":{\"outlinewidth\":0,\"ticks\":\"\"}}],\"histogram2d\":[{\"type\":\"histogram2d\",\"colorbar\":{\"outlinewidth\":0,\"ticks\":\"\"},\"colorscale\":[[0.0,\"#0d0887\"],[0.1111111111111111,\"#46039f\"],[0.2222222222222222,\"#7201a8\"],[0.3333333333333333,\"#9c179e\"],[0.4444444444444444,\"#bd3786\"],[0.5555555555555556,\"#d8576b\"],[0.6666666666666666,\"#ed7953\"],[0.7777777777777778,\"#fb9f3a\"],[0.8888888888888888,\"#fdca26\"],[1.0,\"#f0f921\"]]}],\"heatmap\":[{\"type\":\"heatmap\",\"colorbar\":{\"outlinewidth\":0,\"ticks\":\"\"},\"colorscale\":[[0.0,\"#0d0887\"],[0.1111111111111111,\"#46039f\"],[0.2222222222222222,\"#7201a8\"],[0.3333333333333333,\"#9c179e\"],[0.4444444444444444,\"#bd3786\"],[0.5555555555555556,\"#d8576b\"],[0.6666666666666666,\"#ed7953\"],[0.7777777777777778,\"#fb9f3a\"],[0.8888888888888888,\"#fdca26\"],[1.0,\"#f0f921\"]]}],\"contourcarpet\":[{\"type\":\"contourcarpet\",\"colorbar\":{\"outlinewidth\":0,\"ticks\":\"\"}}],\"contour\":[{\"type\":\"contour\",\"colorbar\":{\"outlinewidth\":0,\"ticks\":\"\"},\"colorscale\":[[0.0,\"#0d0887\"],[0.1111111111111111,\"#46039f\"],[0.2222222222222222,\"#7201a8\"],[0.3333333333333333,\"#9c179e\"],[0.4444444444444444,\"#bd3786\"],[0.5555555555555556,\"#d8576b\"],[0.6666666666666666,\"#ed7953\"],[0.7777777777777778,\"#fb9f3a\"],[0.8888888888888888,\"#fdca26\"],[1.0,\"#f0f921\"]]}],\"surface\":[{\"type\":\"surface\",\"colorbar\":{\"outlinewidth\":0,\"ticks\":\"\"},\"colorscale\":[[0.0,\"#0d0887\"],[0.1111111111111111,\"#46039f\"],[0.2222222222222222,\"#7201a8\"],[0.3333333333333333,\"#9c179e\"],[0.4444444444444444,\"#bd3786\"],[0.5555555555555556,\"#d8576b\"],[0.6666666666666666,\"#ed7953\"],[0.7777777777777778,\"#fb9f3a\"],[0.8888888888888888,\"#fdca26\"],[1.0,\"#f0f921\"]]}],\"mesh3d\":[{\"type\":\"mesh3d\",\"colorbar\":{\"outlinewidth\":0,\"ticks\":\"\"}}],\"scatter\":[{\"fillpattern\":{\"fillmode\":\"overlay\",\"size\":10,\"solidity\":0.2},\"type\":\"scatter\"}],\"parcoords\":[{\"type\":\"parcoords\",\"line\":{\"colorbar\":{\"outlinewidth\":0,\"ticks\":\"\"}}}],\"scatterpolargl\":[{\"type\":\"scatterpolargl\",\"marker\":{\"colorbar\":{\"outlinewidth\":0,\"ticks\":\"\"}}}],\"bar\":[{\"error_x\":{\"color\":\"#2a3f5f\"},\"error_y\":{\"color\":\"#2a3f5f\"},\"marker\":{\"line\":{\"color\":\"#E5ECF6\",\"width\":0.5},\"pattern\":{\"fillmode\":\"overlay\",\"size\":10,\"solidity\":0.2}},\"type\":\"bar\"}],\"scattergeo\":[{\"type\":\"scattergeo\",\"marker\":{\"colorbar\":{\"outlinewidth\":0,\"ticks\":\"\"}}}],\"scatterpolar\":[{\"type\":\"scatterpolar\",\"marker\":{\"colorbar\":{\"outlinewidth\":0,\"ticks\":\"\"}}}],\"histogram\":[{\"marker\":{\"pattern\":{\"fillmode\":\"overlay\",\"size\":10,\"solidity\":0.2}},\"type\":\"histogram\"}],\"scattergl\":[{\"type\":\"scattergl\",\"marker\":{\"colorbar\":{\"outlinewidth\":0,\"ticks\":\"\"}}}],\"scatter3d\":[{\"type\":\"scatter3d\",\"line\":{\"colorbar\":{\"outlinewidth\":0,\"ticks\":\"\"}},\"marker\":{\"colorbar\":{\"outlinewidth\":0,\"ticks\":\"\"}}}],\"scattermap\":[{\"type\":\"scattermap\",\"marker\":{\"colorbar\":{\"outlinewidth\":0,\"ticks\":\"\"}}}],\"scattermapbox\":[{\"type\":\"scattermapbox\",\"marker\":{\"colorbar\":{\"outlinewidth\":0,\"ticks\":\"\"}}}],\"scatterternary\":[{\"type\":\"scatterternary\",\"marker\":{\"colorbar\":{\"outlinewidth\":0,\"ticks\":\"\"}}}],\"scattercarpet\":[{\"type\":\"scattercarpet\",\"marker\":{\"colorbar\":{\"outlinewidth\":0,\"ticks\":\"\"}}}],\"carpet\":[{\"aaxis\":{\"endlinecolor\":\"#2a3f5f\",\"gridcolor\":\"white\",\"linecolor\":\"white\",\"minorgridcolor\":\"white\",\"startlinecolor\":\"#2a3f5f\"},\"baxis\":{\"endlinecolor\":\"#2a3f5f\",\"gridcolor\":\"white\",\"linecolor\":\"white\",\"minorgridcolor\":\"white\",\"startlinecolor\":\"#2a3f5f\"},\"type\":\"carpet\"}],\"table\":[{\"cells\":{\"fill\":{\"color\":\"#EBF0F8\"},\"line\":{\"color\":\"white\"}},\"header\":{\"fill\":{\"color\":\"#C8D4E3\"},\"line\":{\"color\":\"white\"}},\"type\":\"table\"}],\"barpolar\":[{\"marker\":{\"line\":{\"color\":\"#E5ECF6\",\"width\":0.5},\"pattern\":{\"fillmode\":\"overlay\",\"size\":10,\"solidity\":0.2}},\"type\":\"barpolar\"}],\"pie\":[{\"automargin\":true,\"type\":\"pie\"}]},\"layout\":{\"autotypenumbers\":\"strict\",\"colorway\":[\"#636efa\",\"#EF553B\",\"#00cc96\",\"#ab63fa\",\"#FFA15A\",\"#19d3f3\",\"#FF6692\",\"#B6E880\",\"#FF97FF\",\"#FECB52\"],\"font\":{\"color\":\"#2a3f5f\"},\"hovermode\":\"closest\",\"hoverlabel\":{\"align\":\"left\"},\"paper_bgcolor\":\"white\",\"plot_bgcolor\":\"#E5ECF6\",\"polar\":{\"bgcolor\":\"#E5ECF6\",\"angularaxis\":{\"gridcolor\":\"white\",\"linecolor\":\"white\",\"ticks\":\"\"},\"radialaxis\":{\"gridcolor\":\"white\",\"linecolor\":\"white\",\"ticks\":\"\"}},\"ternary\":{\"bgcolor\":\"#E5ECF6\",\"aaxis\":{\"gridcolor\":\"white\",\"linecolor\":\"white\",\"ticks\":\"\"},\"baxis\":{\"gridcolor\":\"white\",\"linecolor\":\"white\",\"ticks\":\"\"},\"caxis\":{\"gridcolor\":\"white\",\"linecolor\":\"white\",\"ticks\":\"\"}},\"coloraxis\":{\"colorbar\":{\"outlinewidth\":0,\"ticks\":\"\"}},\"colorscale\":{\"sequential\":[[0.0,\"#0d0887\"],[0.1111111111111111,\"#46039f\"],[0.2222222222222222,\"#7201a8\"],[0.3333333333333333,\"#9c179e\"],[0.4444444444444444,\"#bd3786\"],[0.5555555555555556,\"#d8576b\"],[0.6666666666666666,\"#ed7953\"],[0.7777777777777778,\"#fb9f3a\"],[0.8888888888888888,\"#fdca26\"],[1.0,\"#f0f921\"]],\"sequentialminus\":[[0.0,\"#0d0887\"],[0.1111111111111111,\"#46039f\"],[0.2222222222222222,\"#7201a8\"],[0.3333333333333333,\"#9c179e\"],[0.4444444444444444,\"#bd3786\"],[0.5555555555555556,\"#d8576b\"],[0.6666666666666666,\"#ed7953\"],[0.7777777777777778,\"#fb9f3a\"],[0.8888888888888888,\"#fdca26\"],[1.0,\"#f0f921\"]],\"diverging\":[[0,\"#8e0152\"],[0.1,\"#c51b7d\"],[0.2,\"#de77ae\"],[0.3,\"#f1b6da\"],[0.4,\"#fde0ef\"],[0.5,\"#f7f7f7\"],[0.6,\"#e6f5d0\"],[0.7,\"#b8e186\"],[0.8,\"#7fbc41\"],[0.9,\"#4d9221\"],[1,\"#276419\"]]},\"xaxis\":{\"gridcolor\":\"white\",\"linecolor\":\"white\",\"ticks\":\"\",\"title\":{\"standoff\":15},\"zerolinecolor\":\"white\",\"automargin\":true,\"zerolinewidth\":2},\"yaxis\":{\"gridcolor\":\"white\",\"linecolor\":\"white\",\"ticks\":\"\",\"title\":{\"standoff\":15},\"zerolinecolor\":\"white\",\"automargin\":true,\"zerolinewidth\":2},\"scene\":{\"xaxis\":{\"backgroundcolor\":\"#E5ECF6\",\"gridcolor\":\"white\",\"linecolor\":\"white\",\"showbackground\":true,\"ticks\":\"\",\"zerolinecolor\":\"white\",\"gridwidth\":2},\"yaxis\":{\"backgroundcolor\":\"#E5ECF6\",\"gridcolor\":\"white\",\"linecolor\":\"white\",\"showbackground\":true,\"ticks\":\"\",\"zerolinecolor\":\"white\",\"gridwidth\":2},\"zaxis\":{\"backgroundcolor\":\"#E5ECF6\",\"gridcolor\":\"white\",\"linecolor\":\"white\",\"showbackground\":true,\"ticks\":\"\",\"zerolinecolor\":\"white\",\"gridwidth\":2}},\"shapedefaults\":{\"line\":{\"color\":\"#2a3f5f\"}},\"annotationdefaults\":{\"arrowcolor\":\"#2a3f5f\",\"arrowhead\":0,\"arrowwidth\":1},\"geo\":{\"bgcolor\":\"white\",\"landcolor\":\"#E5ECF6\",\"subunitcolor\":\"white\",\"showland\":true,\"showlakes\":true,\"lakecolor\":\"white\"},\"title\":{\"x\":0.05},\"mapbox\":{\"style\":\"light\"}}},\"title\":{\"text\":\"Feature Correlation Matrix\"},\"width\":800,\"height\":600},                        {\"responsive\": true}                    )                };            </script>        </div>"
      ],
      "text/plain": [
       "Figure({\n",
       "    'data': [{'colorscale': [[0.0, 'rgb(103,0,31)'], [0.1, 'rgb(178,24,43)'],\n",
       "                             [0.2, 'rgb(214,96,77)'], [0.3, 'rgb(244,165,130)'],\n",
       "                             [0.4, 'rgb(253,219,199)'], [0.5, 'rgb(247,247,247)'],\n",
       "                             [0.6, 'rgb(209,229,240)'], [0.7, 'rgb(146,197,222)'],\n",
       "                             [0.8, 'rgb(67,147,195)'], [0.9, 'rgb(33,102,172)'],\n",
       "                             [1.0, 'rgb(5,48,97)']],\n",
       "              'text': {'bdata': ('AAAAAAAA8D9I4XoUrkfBvzMzMzMzM8' ... '5H4XqUP/yp8dJNYlA/AAAAAAAA8D8='),\n",
       "                       'dtype': 'f8',\n",
       "                       'shape': '8, 8'},\n",
       "              'textfont': {'size': 10},\n",
       "              'texttemplate': '%{text}',\n",
       "              'type': 'heatmap',\n",
       "              'x': array(['price', 'distance_to_esk', 'esk_suitability_score', 'bedrooms', 'sqft',\n",
       "                          'safety_score', 'family_amenities_score', 'garden_numeric'],\n",
       "                         dtype=object),\n",
       "              'y': array(['price', 'distance_to_esk', 'esk_suitability_score', 'bedrooms', 'sqft',\n",
       "                          'safety_score', 'family_amenities_score', 'garden_numeric'],\n",
       "                         dtype=object),\n",
       "              'z': {'bdata': ('AAAAAAAA8D+BPG018UnBv2IjHrjdK8' ... '6fAraUPx+oIVnVHFc/AAAAAAAA8D8='),\n",
       "                    'dtype': 'f8',\n",
       "                    'shape': '8, 8'},\n",
       "              'zmid': 0}],\n",
       "    'layout': {'height': 600, 'template': '...', 'title': {'text': 'Feature Correlation Matrix'}, 'width': 800}\n",
       "})"
      ]
     },
     "metadata": {},
     "output_type": "display_data"
    },
    {
     "name": "stdout",
     "output_type": "stream",
     "text": [
      "[CORRELATION] Features most correlated with ESK Suitability:\n",
      "esk_suitability_score     1.000000\n",
      "price                     0.149776\n",
      "safety_score              0.127793\n",
      "garden_numeric            0.093816\n",
      "bedrooms                  0.069441\n",
      "sqft                     -0.011008\n",
      "family_amenities_score   -0.187552\n",
      "distance_to_esk          -0.861078\n",
      "Name: esk_suitability_score, dtype: float64\n"
     ]
    }
   ],
   "source": [
    "# Correlation Matrix for Available Numerical Features\n",
    "print(\"[FEATURES] Available columns:\")\n",
    "print(df.columns.tolist())\n",
    "\n",
    "# Use available numerical features\n",
    "numerical_features = ['price', 'distance_to_esk', 'esk_suitability_score', 'bedrooms', 'sqft']\n",
    "\n",
    "# Use available binary features (convert to numeric)\n",
    "df['garden_numeric'] = df['garden'].astype(int)\n",
    "binary_features = ['garden_numeric']\n",
    "\n",
    "# Check what other features are available\n",
    "if 'safety_score' in df.columns:\n",
    "    numerical_features.append('safety_score')\n",
    "if 'family_amenities_score' in df.columns:\n",
    "    numerical_features.append('family_amenities_score')\n",
    "\n",
    "all_features = numerical_features + binary_features\n",
    "\n",
    "print(f\"[CORRELATION] Using features: {all_features}\")\n",
    "\n",
    "# Calculate correlation matrix\n",
    "corr_matrix = df[all_features].corr()\n",
    "\n",
    "# Create interactive heatmap\n",
    "fig = go.Figure(data=go.Heatmap(\n",
    "    z=corr_matrix.values,\n",
    "    x=corr_matrix.columns,\n",
    "    y=corr_matrix.columns,\n",
    "    colorscale='RdBu',\n",
    "    zmid=0,\n",
    "    text=corr_matrix.round(3).values,\n",
    "    texttemplate=\"%{text}\",\n",
    "    textfont={\"size\":10}\n",
    "))\n",
    "\n",
    "fig.update_layout(\n",
    "    title=\"Feature Correlation Matrix\",\n",
    "    width=800,\n",
    "    height=600\n",
    ")\n",
    "\n",
    "# Display with fallback\n",
    "try:\n",
    "    from IPython.display import display\n",
    "    display(fig)\n",
    "except:\n",
    "    print(\"[PLOT] Correlation matrix calculated successfully\")\n",
    "    print(corr_matrix)\n",
    "\n",
    "# Key correlations with ESK suitability\n",
    "esk_correlations = corr_matrix['esk_suitability_score'].sort_values(ascending=False)\n",
    "print(\"[CORRELATION] Features most correlated with ESK Suitability:\")\n",
    "print(esk_correlations)"
   ]
  },
  {
   "cell_type": "markdown",
   "id": "16bd3a85",
   "metadata": {},
   "source": [
    "## 6. ML Pipeline Development"
   ]
  },
  {
   "cell_type": "code",
   "execution_count": 11,
   "id": "f6380309",
   "metadata": {},
   "outputs": [
    {
     "name": "stdout",
     "output_type": "stream",
     "text": [
      "[SUCCESS] Feature Engineering Complete\n",
      "[NEW] New Features: ['total_rooms', 'feature_score', 'safety_normalized', 'family_amenities_normalized', 'neighborhood_encoded', 'property_type_encoded']\n",
      "[TOTAL] Total Features: 27\n",
      "[AVAILABLE] Key features for ML: ['bedrooms', 'sqft', 'garden', 'price', 'distance_to_esk', 'safety_score']\n"
     ]
    }
   ],
   "source": [
    "# Feature Engineering\n",
    "def prepare_features(df):\n",
    "    \"\"\"Prepare features for ML modeling\"\"\"\n",
    "    df_processed = df.copy()\n",
    "    \n",
    "    # Create new features using available columns\n",
    "    if 'price_per_sqm' not in df_processed.columns:\n",
    "        df_processed['price_per_sqm'] = df_processed['price'] / df_processed['sqft']\n",
    "    \n",
    "    # Use available columns for total rooms (no bathrooms column available)\n",
    "    df_processed['total_rooms'] = df_processed['bedrooms']  # Only bedrooms available\n",
    "    \n",
    "    # Feature score using available amenities\n",
    "    df_processed['feature_score'] = df_processed['garden'].astype(int)\n",
    "    \n",
    "    # Add additional available features\n",
    "    if 'safety_score' in df_processed.columns:\n",
    "        df_processed['safety_normalized'] = df_processed['safety_score'] / 10.0\n",
    "    if 'family_amenities_score' in df_processed.columns:\n",
    "        df_processed['family_amenities_normalized'] = df_processed['family_amenities_score'] / 10.0\n",
    "    \n",
    "    # Encode categorical variables\n",
    "    le_neighborhood = LabelEncoder()\n",
    "    le_property_type = LabelEncoder()\n",
    "    \n",
    "    df_processed['neighborhood_encoded'] = le_neighborhood.fit_transform(df_processed['neighborhood'])\n",
    "    df_processed['property_type_encoded'] = le_property_type.fit_transform(df_processed['property_type'])\n",
    "    \n",
    "    return df_processed, le_neighborhood, le_property_type\n",
    "\n",
    "# Prepare data\n",
    "df_processed, le_neighborhood, le_property_type = prepare_features(df)\n",
    "\n",
    "print(\"[SUCCESS] Feature Engineering Complete\")\n",
    "print(f\"[NEW] New Features: {[col for col in df_processed.columns if col not in df.columns]}\")\n",
    "print(f\"[TOTAL] Total Features: {df_processed.shape[1]}\")\n",
    "print(f\"[AVAILABLE] Key features for ML: {[col for col in df_processed.columns if col in ['price', 'distance_to_esk', 'bedrooms', 'sqft', 'garden', 'safety_score']]}\")"
   ]
  },
  {
   "cell_type": "markdown",
   "id": "e4a1b419",
   "metadata": {},
   "source": [
    "## 7. Model Training and Evaluation"
   ]
  },
  {
   "cell_type": "code",
   "execution_count": 12,
   "id": "a014b040",
   "metadata": {},
   "outputs": [
    {
     "name": "stdout",
     "output_type": "stream",
     "text": [
      "[FEATURES] Using features: ['distance_to_esk', 'bedrooms', 'sqft', 'price_per_sqm', 'total_rooms', 'feature_score', 'safety_normalized', 'family_amenities_normalized', 'neighborhood_encoded', 'property_type_encoded']\n",
      "[TARGET] Target variable: esk_suitability_score\n",
      "[TRAINING] Training set: (800, 10)\n",
      "[TEST] Test set: (200, 10)\n",
      "\n",
      "[TRAINING] Training Random Forest...\n",
      "[RESULTS] Random Forest Results:\n",
      "   MAE: 0.045\n",
      "   RMSE: 0.074\n",
      "   R²: 0.975\n",
      "\n",
      "[TRAINING] Training XGBoost...\n",
      "[RESULTS] XGBoost Results:\n",
      "   MAE: 0.049\n",
      "   RMSE: 0.079\n",
      "   R²: 0.972\n",
      "\n",
      "[TRAINING] Training LightGBM...\n",
      "[RESULTS] XGBoost Results:\n",
      "   MAE: 0.049\n",
      "   RMSE: 0.079\n",
      "   R²: 0.972\n",
      "\n",
      "[TRAINING] Training LightGBM...\n",
      "[RESULTS] LightGBM Results:\n",
      "   MAE: 0.048\n",
      "   RMSE: 0.072\n",
      "   R²: 0.976\n",
      "\n",
      "[WINNER] Best Model: LightGBM\n",
      "[SCORE] Best RMSE: 0.072\n",
      "[ACCURACY] Best R²: 0.976\n",
      "[RESULTS] LightGBM Results:\n",
      "   MAE: 0.048\n",
      "   RMSE: 0.072\n",
      "   R²: 0.976\n",
      "\n",
      "[WINNER] Best Model: LightGBM\n",
      "[SCORE] Best RMSE: 0.072\n",
      "[ACCURACY] Best R²: 0.976\n"
     ]
    }
   ],
   "source": [
    "# Define features and target using available columns\n",
    "feature_columns = ['distance_to_esk', 'bedrooms', 'sqft', 'price_per_sqm', \n",
    "                  'total_rooms', 'feature_score', 'safety_normalized',\n",
    "                  'family_amenities_normalized', 'neighborhood_encoded', 'property_type_encoded']\n",
    "\n",
    "X = df_processed[feature_columns]\n",
    "y = df_processed['esk_suitability_score']\n",
    "\n",
    "print(f\"[FEATURES] Using features: {feature_columns}\")\n",
    "print(f\"[TARGET] Target variable: esk_suitability_score\")\n",
    "\n",
    "# Train-test split\n",
    "X_train, X_test, y_train, y_test = train_test_split(\n",
    "    X, y, test_size=0.2, random_state=42\n",
    ")\n",
    "\n",
    "print(f\"[TRAINING] Training set: {X_train.shape}\")\n",
    "print(f\"[TEST] Test set: {X_test.shape}\")\n",
    "\n",
    "# Initialize models\n",
    "models = {\n",
    "    'Random Forest': RandomForestRegressor(n_estimators=100, random_state=42),\n",
    "    'XGBoost': xgb.XGBRegressor(n_estimators=100, random_state=42),\n",
    "    'LightGBM': lgb.LGBMRegressor(n_estimators=100, random_state=42, verbose=-1)\n",
    "}\n",
    "\n",
    "# Train and evaluate models\n",
    "results = {}\n",
    "\n",
    "for name, model in models.items():\n",
    "    print(f\"\\n[TRAINING] Training {name}...\")\n",
    "    \n",
    "    # Train model\n",
    "    model.fit(X_train, y_train)\n",
    "    \n",
    "    # Make predictions\n",
    "    y_pred = model.predict(X_test)\n",
    "    \n",
    "    # Calculate metrics\n",
    "    mae = mean_absolute_error(y_test, y_pred)\n",
    "    mse = mean_squared_error(y_test, y_pred)\n",
    "    rmse = np.sqrt(mse)\n",
    "    r2 = r2_score(y_test, y_pred)\n",
    "    \n",
    "    results[name] = {\n",
    "        'MAE': mae,\n",
    "        'RMSE': rmse,\n",
    "        'R²': r2,\n",
    "        'model': model,\n",
    "        'predictions': y_pred\n",
    "    }\n",
    "    \n",
    "    print(f\"[RESULTS] {name} Results:\")\n",
    "    print(f\"   MAE: {mae:.3f}\")\n",
    "    print(f\"   RMSE: {rmse:.3f}\")\n",
    "    print(f\"   R²: {r2:.3f}\")\n",
    "\n",
    "# Find best model\n",
    "best_model_name = min(results.keys(), key=lambda k: results[k]['RMSE'])\n",
    "best_model = results[best_model_name]['model']\n",
    "\n",
    "print(f\"\\n[WINNER] Best Model: {best_model_name}\")\n",
    "print(f\"[SCORE] Best RMSE: {results[best_model_name]['RMSE']:.3f}\")\n",
    "print(f\"[ACCURACY] Best R²: {results[best_model_name]['R²']:.3f}\")"
   ]
  },
  {
   "cell_type": "markdown",
   "id": "8968faa3",
   "metadata": {},
   "source": [
    "## 8. Model Performance Visualization"
   ]
  },
  {
   "cell_type": "code",
   "execution_count": null,
   "id": "fa2291a0",
   "metadata": {},
   "outputs": [],
   "source": [
    "# Model Comparison\n",
    "model_names = list(results.keys())\n",
    "mae_scores = [results[name]['MAE'] for name in model_names]\n",
    "rmse_scores = [results[name]['RMSE'] for name in model_names]\n",
    "r2_scores = [results[name]['R²'] for name in model_names]\n",
    "\n",
    "# Create comparison plot\n",
    "fig = make_subplots(\n",
    "    rows=1, cols=3,\n",
    "    subplot_titles=('Mean Absolute Error', 'Root Mean Square Error', 'R² Score'),\n",
    "    specs=[[{\"type\": \"bar\"}, {\"type\": \"bar\"}, {\"type\": \"bar\"}]]\n",
    ")\n",
    "\n",
    "# MAE\n",
    "fig.add_trace(\n",
    "    go.Bar(x=model_names, y=mae_scores, name='MAE', marker_color='lightblue'),\n",
    "    row=1, col=1\n",
    ")\n",
    "\n",
    "# RMSE\n",
    "fig.add_trace(\n",
    "    go.Bar(x=model_names, y=rmse_scores, name='RMSE', marker_color='lightcoral'),\n",
    "    row=1, col=2\n",
    ")\n",
    "\n",
    "# R²\n",
    "fig.add_trace(\n",
    "    go.Bar(x=model_names, y=r2_scores, name='R²', marker_color='lightgreen'),\n",
    "    row=1, col=3\n",
    ")\n",
    "\n",
    "fig.update_layout(height=400, title_text=\"Model Performance Comparison\", showlegend=False)\n",
    "fig.show()\n",
    "\n",
    "# Prediction vs Actual for best model\n",
    "best_predictions = results[best_model_name]['predictions']\n",
    "\n",
    "fig = go.Figure()\n",
    "fig.add_trace(go.Scatter(\n",
    "    x=y_test, \n",
    "    y=best_predictions,\n",
    "    mode='markers',\n",
    "    name='Predictions',\n",
    "    marker=dict(color='blue', opacity=0.6)\n",
    "))\n",
    "\n",
    "# Perfect prediction line\n",
    "min_val = min(y_test.min(), best_predictions.min())\n",
    "max_val = max(y_test.max(), best_predictions.max())\n",
    "fig.add_trace(go.Scatter(\n",
    "    x=[min_val, max_val], \n",
    "    y=[min_val, max_val],\n",
    "    mode='lines',\n",
    "    name='Perfect Prediction',\n",
    "    line=dict(color='red', dash='dash')\n",
    "))\n",
    "\n",
    "fig.update_layout(\n",
    "    title=f\"{best_model_name} - Predicted vs Actual ESK Suitability Scores\",\n",
    "    xaxis_title=\"Actual ESK Suitability Score\",\n",
    "    yaxis_title=\"Predicted ESK Suitability Score\",\n",
    "    width=600,\n",
    "    height=500\n",
    ")\n",
    "fig.show()"
   ]
  },
  {
   "cell_type": "markdown",
   "id": "a7555f2d",
   "metadata": {},
   "source": [
    "## 9. Feature Importance Analysis"
   ]
  },
  {
   "cell_type": "code",
   "execution_count": 15,
   "id": "1214e4e4",
   "metadata": {},
   "outputs": [
    {
     "name": "stdout",
     "output_type": "stream",
     "text": [
      "[FEATURE IMPORTANCE] Feature Importance Analysis\n",
      "==================================================\n",
      "\n",
      "[TOP FEATURES] Top 5 Most Important Features:\n",
      "          feature  importance\n",
      "safety_normalized         238\n",
      "         bedrooms         273\n",
      "             sqft         615\n",
      "    price_per_sqm         743\n",
      "  distance_to_esk         749\n",
      "\n",
      "[ALL FEATURES] Complete Feature Ranking:\n",
      "   total_rooms              : 0.0000\n",
      "   family_amenities_normalized: 8.0000\n",
      "   property_type_encoded    : 44.0000\n",
      "   neighborhood_encoded     : 46.0000\n",
      "   feature_score            : 203.0000\n",
      "   safety_normalized        : 238.0000\n",
      "   bedrooms                 : 273.0000\n",
      "   sqft                     : 615.0000\n",
      "   price_per_sqm            : 743.0000\n",
      "   distance_to_esk          : 749.0000\n",
      "\n",
      "[INTERPRETATION] Business Interpretation:\n",
      "   • Most important factor: distance_to_esk\n",
      "   • Second most important: price_per_sqm\n",
      "   • Distance to ESK is likely the key driver of suitability\n",
      "   • Property characteristics (size, type) also matter significantly\n"
     ]
    }
   ],
   "source": [
    "# Feature importance for best model\n",
    "feature_importance = best_model.feature_importances_\n",
    "feature_names = feature_columns\n",
    "\n",
    "# Create feature importance dataframe\n",
    "importance_df = pd.DataFrame({\n",
    "    'feature': feature_names,\n",
    "    'importance': feature_importance\n",
    "}).sort_values('importance', ascending=True)\n",
    "\n",
    "print(\"[FEATURE IMPORTANCE] Feature Importance Analysis\")\n",
    "print(\"=\" * 50)\n",
    "\n",
    "# Display feature importance table\n",
    "print(\"\\n[TOP FEATURES] Top 5 Most Important Features:\")\n",
    "print(importance_df.tail().to_string(index=False))\n",
    "\n",
    "print(\"\\n[ALL FEATURES] Complete Feature Ranking:\")\n",
    "for idx, row in importance_df.iterrows():\n",
    "    print(f\"   {row['feature']:25s}: {row['importance']:.4f}\")\n",
    "\n",
    "# Business interpretation\n",
    "print(\"\\n[INTERPRETATION] Business Interpretation:\")\n",
    "top_feature = importance_df.iloc[-1]['feature']\n",
    "second_feature = importance_df.iloc[-2]['feature']\n",
    "print(f\"   • Most important factor: {top_feature}\")\n",
    "print(f\"   • Second most important: {second_feature}\")\n",
    "print(\"   • Distance to ESK is likely the key driver of suitability\")\n",
    "print(\"   • Property characteristics (size, type) also matter significantly\")"
   ]
  },
  {
   "cell_type": "markdown",
   "id": "16f840fb",
   "metadata": {},
   "source": [
    "## 10. Business Insights and Conclusions"
   ]
  },
  {
   "cell_type": "code",
   "execution_count": 16,
   "id": "1577074e",
   "metadata": {},
   "outputs": [
    {
     "name": "stdout",
     "output_type": "stream",
     "text": [
      "[SUMMARY] BUSINESS INSIGHTS SUMMARY\n",
      "==================================================\n",
      "\n",
      "[PERFORMANCE] MODEL PERFORMANCE:\n",
      "   • Best Model: LightGBM\n",
      "   • Prediction Accuracy (R²): 97.6%\n",
      "   • Average Prediction Error: ±0.0 points\n",
      "\n",
      "[MARKET] KEY HOUSING MARKET FINDINGS:\n",
      "   • Average Property Price: €475,614\n",
      "   • Price Range: €117,023 - €1,312,292\n",
      "   • Most Common Property Type: apartment\n",
      "   • Average Distance to ESK: 2.7 km\n",
      "\n",
      "[FACTORS] ESK SUITABILITY FACTORS:\n",
      "   1. Sqft\n",
      "   2. Price Per Sqm\n",
      "   3. Distance To Esk\n",
      "\n",
      "[RECOMMENDATIONS] BUSINESS RECOMMENDATIONS:\n",
      "   • Focus on properties within 5km of ESK for higher suitability\n",
      "   • Prioritize properties with gardens and parking for families\n",
      "   • Consider price-per-sqm ratio for value optimization\n",
      "   • Target specific neighborhoods with high ESK scores\n",
      "\n",
      "[DEPLOYMENT] DEPLOYMENT READINESS:\n",
      "   • Model successfully trained and validated\n",
      "   • Feature pipeline established\n",
      "   • Ready for Streamlit integration\n",
      "   • API-ready prediction function available\n"
     ]
    }
   ],
   "source": [
    "# Business Insights Analysis\n",
    "print(\"[SUMMARY] BUSINESS INSIGHTS SUMMARY\")\n",
    "print(\"=\" * 50)\n",
    "\n",
    "print(\"\\n[PERFORMANCE] MODEL PERFORMANCE:\")\n",
    "print(f\"   • Best Model: {best_model_name}\")\n",
    "print(f\"   • Prediction Accuracy (R²): {results[best_model_name]['R²']:.1%}\")\n",
    "print(f\"   • Average Prediction Error: ±{results[best_model_name]['MAE']:.1f} points\")\n",
    "\n",
    "print(\"\\n[MARKET] KEY HOUSING MARKET FINDINGS:\")\n",
    "print(f\"   • Average Property Price: €{df['price'].mean():,.0f}\")\n",
    "print(f\"   • Price Range: €{df['price'].min():,.0f} - €{df['price'].max():,.0f}\")\n",
    "print(f\"   • Most Common Property Type: {df['property_type'].mode()[0]}\")\n",
    "print(f\"   • Average Distance to ESK: {df['distance_to_esk'].mean():.1f} km\")\n",
    "\n",
    "print(\"\\n[FACTORS] ESK SUITABILITY FACTORS:\")\n",
    "top_features = importance_df.tail(3)['feature'].tolist()\n",
    "for i, feature in enumerate(top_features, 1):\n",
    "    print(f\"   {i}. {feature.replace('_', ' ').title()}\")\n",
    "\n",
    "print(\"\\n[RECOMMENDATIONS] BUSINESS RECOMMENDATIONS:\")\n",
    "print(\"   • Focus on properties within 5km of ESK for higher suitability\")\n",
    "print(\"   • Prioritize properties with gardens and parking for families\")\n",
    "print(\"   • Consider price-per-sqm ratio for value optimization\")\n",
    "print(\"   • Target specific neighborhoods with high ESK scores\")\n",
    "\n",
    "print(\"\\n[DEPLOYMENT] DEPLOYMENT READINESS:\")\n",
    "print(\"   • Model successfully trained and validated\")\n",
    "print(\"   • Feature pipeline established\")\n",
    "print(\"   • Ready for Streamlit integration\")\n",
    "print(\"   • API-ready prediction function available\")"
   ]
  },
  {
   "cell_type": "markdown",
   "id": "8c12f7bc",
   "metadata": {},
   "source": [
    "## 11. Model Export for Production"
   ]
  },
  {
   "cell_type": "code",
   "execution_count": 17,
   "id": "67304b4a",
   "metadata": {},
   "outputs": [
    {
     "name": "stdout",
     "output_type": "stream",
     "text": [
      "[SAVED] Model saved successfully!\n",
      "[LOCATION] Location: ../models/esk_suitability_model.pkl\n",
      "[MODEL] Model Type: LightGBM\n",
      "[PERFORMANCE] Model Performance: R² = 0.976\n",
      "\n",
      "[FUNCTION] Production prediction function created!\n",
      "[READY] Ready for Streamlit app integration\n"
     ]
    }
   ],
   "source": [
    "# Save the best model for production use\n",
    "import joblib\n",
    "import os\n",
    "\n",
    "# Create models directory\n",
    "os.makedirs('../models', exist_ok=True)\n",
    "\n",
    "# Save model and encoders\n",
    "model_artifacts = {\n",
    "    'model': best_model,\n",
    "    'feature_columns': feature_columns,\n",
    "    'neighborhood_encoder': le_neighborhood,\n",
    "    'property_type_encoder': le_property_type,\n",
    "    'model_name': best_model_name,\n",
    "    'performance_metrics': results[best_model_name]\n",
    "}\n",
    "\n",
    "# Save artifacts\n",
    "joblib.dump(model_artifacts, '../models/esk_suitability_model.pkl')\n",
    "\n",
    "print(\"[SAVED] Model saved successfully!\")\n",
    "print(f\"[LOCATION] Location: ../models/esk_suitability_model.pkl\")\n",
    "print(f\"[MODEL] Model Type: {best_model_name}\")\n",
    "print(f\"[PERFORMANCE] Model Performance: R² = {results[best_model_name]['R²']:.3f}\")\n",
    "\n",
    "# Create prediction function for production\n",
    "def predict_esk_suitability(property_data):\n",
    "    \"\"\"\n",
    "    Production-ready prediction function\n",
    "    \n",
    "    Args:\n",
    "        property_data (dict): Property features\n",
    "    \n",
    "    Returns:\n",
    "        float: ESK suitability score (0-100)\n",
    "    \"\"\"\n",
    "    # Load model artifacts\n",
    "    artifacts = joblib.load('../models/esk_suitability_model.pkl')\n",
    "    model = artifacts['model']\n",
    "    feature_columns = artifacts['feature_columns']\n",
    "    \n",
    "    # Prepare features (simplified for demo)\n",
    "    features = [property_data[col] for col in feature_columns]\n",
    "    \n",
    "    # Make prediction\n",
    "    prediction = model.predict([features])[0]\n",
    "    \n",
    "    return max(0, min(100, prediction))  # Ensure 0-100 range\n",
    "\n",
    "print(\"\\n[FUNCTION] Production prediction function created!\")\n",
    "print(\"[READY] Ready for Streamlit app integration\")"
   ]
  },
  {
   "cell_type": "markdown",
   "id": "212d440f",
   "metadata": {},
   "source": [
    "---\n",
    "## 📋 Notebook Summary\n",
    "\n",
    "### ✅ Completed Tasks:\n",
    "1. **Data Collection**: Generated 1000 housing records for analysis\n",
    "2. **EDA**: Comprehensive exploratory data analysis with visualizations\n",
    "3. **Feature Engineering**: Created derived features and encoded categoricals\n",
    "4. **Model Training**: Trained and compared Random Forest, XGBoost, and LightGBM\n",
    "5. **Model Evaluation**: Performance metrics and validation\n",
    "6. **Feature Analysis**: Importance ranking and business insights\n",
    "7. **Production Export**: Saved model for deployment\n",
    "\n",
    "### 🎯 Key Findings:\n",
    "- **Best Model**: {best_model_name} with R² score of {results[best_model_name]['R²']:.3f}\n",
    "- **Key Factors**: Distance to ESK, property features, and neighborhood matter most\n",
    "- **Business Value**: Model can predict ESK suitability with high accuracy\n",
    "\n",
    "### 🚀 Next Steps:\n",
    "- Integrate model into Streamlit dashboard\n",
    "- Implement real-time predictions\n",
    "- Deploy to Streamlit Cloud\n",
    "- Gather user feedback for model improvement\n",
    "\n",
    "---\n",
    "*This notebook demonstrates the complete ML pipeline for the ESKAR Housing Finder project, fulfilling Code Institute PP5 requirements for data analysis, modeling, and business insights.*"
   ]
  }
 ],
 "metadata": {
  "kernelspec": {
   "display_name": ".venv",
   "language": "python",
   "name": "python3"
  },
  "language_info": {
   "codemirror_mode": {
    "name": "ipython",
    "version": 3
   },
   "file_extension": ".py",
   "mimetype": "text/x-python",
   "name": "python",
   "nbconvert_exporter": "python",
   "pygments_lexer": "ipython3",
   "version": "3.12.10"
  }
 },
 "nbformat": 4,
 "nbformat_minor": 5
}
